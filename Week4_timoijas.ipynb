{
 "cells": [
  {
   "cell_type": "markdown",
   "metadata": {},
   "source": [
    "# Week 4\n",
    "### Introduction to Data Science\n",
    "### Timo Ijäs"
   ]
  },
  {
   "cell_type": "markdown",
   "metadata": {},
   "source": [
    "## Exercise 1"
   ]
  },
  {
   "cell_type": "code",
   "execution_count": 213,
   "metadata": {},
   "outputs": [],
   "source": [
    "import pandas as pd\n",
    "import numpy as np\n",
    "import sklearn\n",
    "%matplotlib inline\n",
    "import matplotlib.pyplot as plt\n",
    "import matplotlib.image as mpimg \n",
    "from PIL import Image\n",
    "from collections import Counter \n",
    "import ast\n",
    "from sklearn.linear_model import LinearRegression\n",
    "from sklearn.linear_model import Lasso, LogisticRegression\n",
    "from sklearn.feature_selection import SelectFromModel\n",
    "from sklearn.preprocessing import StandardScaler\n",
    "from sklearn.svm import LinearSVC\n",
    "\n",
    "import seaborn as sns\n",
    "from sklearn.model_selection import train_test_split\n",
    "from sklearn.linear_model import LassoCV\n",
    "import csv\n",
    "\n",
    "import math\n",
    "\n",
    "from sklearn.ensemble import RandomForestClassifier\n",
    "from sklearn.datasets import make_classification\n",
    "\n",
    "from sklearn.model_selection import cross_val_score\n",
    "from sklearn.model_selection import RepeatedStratifiedKFold\n",
    "\n",
    "from numpy import mean\n",
    "from numpy import std\n",
    "\n",
    "from numpy import arange"
   ]
  },
  {
   "cell_type": "code",
   "execution_count": 214,
   "metadata": {},
   "outputs": [
    {
     "data": {
      "text/plain": [
       "[{'id': 7, 'name': 'Funny', 'count': 964},\n",
       " {'id': 3, 'name': 'Courageous', 'count': 45},\n",
       " {'id': 9, 'name': 'Ingenious', 'count': 183},\n",
       " {'id': 1, 'name': 'Beautiful', 'count': 60},\n",
       " {'id': 21, 'name': 'Unconvincing', 'count': 104},\n",
       " {'id': 11, 'name': 'Longwinded', 'count': 78},\n",
       " {'id': 8, 'name': 'Informative', 'count': 395},\n",
       " {'id': 10, 'name': 'Inspiring', 'count': 230},\n",
       " {'id': 22, 'name': 'Fascinating', 'count': 166},\n",
       " {'id': 2, 'name': 'Confusing', 'count': 27},\n",
       " {'id': 25, 'name': 'OK', 'count': 146},\n",
       " {'id': 24, 'name': 'Persuasive', 'count': 230},\n",
       " {'id': 23, 'name': 'Jaw-dropping', 'count': 54},\n",
       " {'id': 26, 'name': 'Obnoxious', 'count': 142}]"
      ]
     },
     "execution_count": 214,
     "metadata": {},
     "output_type": "execute_result"
    }
   ],
   "source": [
    "df = pd.read_csv('ted_main.csv', converters = {'ratings':eval, 'tags':eval})\n",
    "df['ratings'][2]"
   ]
  },
  {
   "cell_type": "code",
   "execution_count": 215,
   "metadata": {},
   "outputs": [],
   "source": [
    "funny = []\n",
    "confusing = []\n",
    "inspiring = []\n",
    "df['Funny'] = 0\n",
    "df['Confusing']=0\n",
    "df['Inspiring']=0\n",
    "\n",
    "for index, row in df.iterrows():\n",
    "    for item in row['ratings']:\n",
    "        #print(item)\n",
    "        if(item['id']==7):\n",
    "            df.at[index, 'Funny']= item['count']\n",
    "        elif(item['id']==2):\n",
    "            df.at[index,'Confusing']=item['count']\n",
    "        elif(item['id']==10):\n",
    "            df.at[index,'Inspiring']=item['count']"
   ]
  },
  {
   "cell_type": "code",
   "execution_count": 216,
   "metadata": {},
   "outputs": [
    {
     "data": {
      "text/html": [
       "<div>\n",
       "<style scoped>\n",
       "    .dataframe tbody tr th:only-of-type {\n",
       "        vertical-align: middle;\n",
       "    }\n",
       "\n",
       "    .dataframe tbody tr th {\n",
       "        vertical-align: top;\n",
       "    }\n",
       "\n",
       "    .dataframe thead th {\n",
       "        text-align: right;\n",
       "    }\n",
       "</style>\n",
       "<table border=\"1\" class=\"dataframe\">\n",
       "  <thead>\n",
       "    <tr style=\"text-align: right;\">\n",
       "      <th></th>\n",
       "      <th>comments</th>\n",
       "      <th>description</th>\n",
       "      <th>duration</th>\n",
       "      <th>event</th>\n",
       "      <th>film_date</th>\n",
       "      <th>languages</th>\n",
       "      <th>main_speaker</th>\n",
       "      <th>name</th>\n",
       "      <th>num_speaker</th>\n",
       "      <th>published_date</th>\n",
       "      <th>ratings</th>\n",
       "      <th>related_talks</th>\n",
       "      <th>speaker_occupation</th>\n",
       "      <th>tags</th>\n",
       "      <th>title</th>\n",
       "      <th>url</th>\n",
       "      <th>views</th>\n",
       "      <th>Funny</th>\n",
       "      <th>Confusing</th>\n",
       "      <th>Inspiring</th>\n",
       "    </tr>\n",
       "  </thead>\n",
       "  <tbody>\n",
       "    <tr>\n",
       "      <td>0</td>\n",
       "      <td>4553</td>\n",
       "      <td>Sir Ken Robinson makes an entertaining and pro...</td>\n",
       "      <td>1164</td>\n",
       "      <td>TED2006</td>\n",
       "      <td>1140825600</td>\n",
       "      <td>60</td>\n",
       "      <td>Ken Robinson</td>\n",
       "      <td>Ken Robinson: Do schools kill creativity?</td>\n",
       "      <td>1</td>\n",
       "      <td>1151367060</td>\n",
       "      <td>[{'id': 7, 'name': 'Funny', 'count': 19645}, {...</td>\n",
       "      <td>[{'id': 865, 'hero': 'https://pe.tedcdn.com/im...</td>\n",
       "      <td>Author/educator</td>\n",
       "      <td>[children, creativity, culture, dance, educati...</td>\n",
       "      <td>Do schools kill creativity?</td>\n",
       "      <td>https://www.ted.com/talks/ken_robinson_says_sc...</td>\n",
       "      <td>47227110</td>\n",
       "      <td>19645</td>\n",
       "      <td>242</td>\n",
       "      <td>24924</td>\n",
       "    </tr>\n",
       "    <tr>\n",
       "      <td>1</td>\n",
       "      <td>265</td>\n",
       "      <td>With the same humor and humanity he exuded in ...</td>\n",
       "      <td>977</td>\n",
       "      <td>TED2006</td>\n",
       "      <td>1140825600</td>\n",
       "      <td>43</td>\n",
       "      <td>Al Gore</td>\n",
       "      <td>Al Gore: Averting the climate crisis</td>\n",
       "      <td>1</td>\n",
       "      <td>1151367060</td>\n",
       "      <td>[{'id': 7, 'name': 'Funny', 'count': 544}, {'i...</td>\n",
       "      <td>[{'id': 243, 'hero': 'https://pe.tedcdn.com/im...</td>\n",
       "      <td>Climate advocate</td>\n",
       "      <td>[alternative energy, cars, climate change, cul...</td>\n",
       "      <td>Averting the climate crisis</td>\n",
       "      <td>https://www.ted.com/talks/al_gore_on_averting_...</td>\n",
       "      <td>3200520</td>\n",
       "      <td>544</td>\n",
       "      <td>62</td>\n",
       "      <td>413</td>\n",
       "    </tr>\n",
       "    <tr>\n",
       "      <td>2</td>\n",
       "      <td>124</td>\n",
       "      <td>New York Times columnist David Pogue takes aim...</td>\n",
       "      <td>1286</td>\n",
       "      <td>TED2006</td>\n",
       "      <td>1140739200</td>\n",
       "      <td>26</td>\n",
       "      <td>David Pogue</td>\n",
       "      <td>David Pogue: Simplicity sells</td>\n",
       "      <td>1</td>\n",
       "      <td>1151367060</td>\n",
       "      <td>[{'id': 7, 'name': 'Funny', 'count': 964}, {'i...</td>\n",
       "      <td>[{'id': 1725, 'hero': 'https://pe.tedcdn.com/i...</td>\n",
       "      <td>Technology columnist</td>\n",
       "      <td>[computers, entertainment, interface design, m...</td>\n",
       "      <td>Simplicity sells</td>\n",
       "      <td>https://www.ted.com/talks/david_pogue_says_sim...</td>\n",
       "      <td>1636292</td>\n",
       "      <td>964</td>\n",
       "      <td>27</td>\n",
       "      <td>230</td>\n",
       "    </tr>\n",
       "    <tr>\n",
       "      <td>3</td>\n",
       "      <td>200</td>\n",
       "      <td>In an emotionally charged talk, MacArthur-winn...</td>\n",
       "      <td>1116</td>\n",
       "      <td>TED2006</td>\n",
       "      <td>1140912000</td>\n",
       "      <td>35</td>\n",
       "      <td>Majora Carter</td>\n",
       "      <td>Majora Carter: Greening the ghetto</td>\n",
       "      <td>1</td>\n",
       "      <td>1151367060</td>\n",
       "      <td>[{'id': 3, 'name': 'Courageous', 'count': 760}...</td>\n",
       "      <td>[{'id': 1041, 'hero': 'https://pe.tedcdn.com/i...</td>\n",
       "      <td>Activist for environmental justice</td>\n",
       "      <td>[MacArthur grant, activism, business, cities, ...</td>\n",
       "      <td>Greening the ghetto</td>\n",
       "      <td>https://www.ted.com/talks/majora_carter_s_tale...</td>\n",
       "      <td>1697550</td>\n",
       "      <td>59</td>\n",
       "      <td>32</td>\n",
       "      <td>1070</td>\n",
       "    </tr>\n",
       "    <tr>\n",
       "      <td>4</td>\n",
       "      <td>593</td>\n",
       "      <td>You've never seen data presented like this. Wi...</td>\n",
       "      <td>1190</td>\n",
       "      <td>TED2006</td>\n",
       "      <td>1140566400</td>\n",
       "      <td>48</td>\n",
       "      <td>Hans Rosling</td>\n",
       "      <td>Hans Rosling: The best stats you've ever seen</td>\n",
       "      <td>1</td>\n",
       "      <td>1151440680</td>\n",
       "      <td>[{'id': 9, 'name': 'Ingenious', 'count': 3202}...</td>\n",
       "      <td>[{'id': 2056, 'hero': 'https://pe.tedcdn.com/i...</td>\n",
       "      <td>Global health expert; data visionary</td>\n",
       "      <td>[Africa, Asia, Google, demo, economics, global...</td>\n",
       "      <td>The best stats you've ever seen</td>\n",
       "      <td>https://www.ted.com/talks/hans_rosling_shows_t...</td>\n",
       "      <td>12005869</td>\n",
       "      <td>1390</td>\n",
       "      <td>72</td>\n",
       "      <td>2893</td>\n",
       "    </tr>\n",
       "  </tbody>\n",
       "</table>\n",
       "</div>"
      ],
      "text/plain": [
       "   comments                                        description  duration  \\\n",
       "0      4553  Sir Ken Robinson makes an entertaining and pro...      1164   \n",
       "1       265  With the same humor and humanity he exuded in ...       977   \n",
       "2       124  New York Times columnist David Pogue takes aim...      1286   \n",
       "3       200  In an emotionally charged talk, MacArthur-winn...      1116   \n",
       "4       593  You've never seen data presented like this. Wi...      1190   \n",
       "\n",
       "     event   film_date  languages   main_speaker  \\\n",
       "0  TED2006  1140825600         60   Ken Robinson   \n",
       "1  TED2006  1140825600         43        Al Gore   \n",
       "2  TED2006  1140739200         26    David Pogue   \n",
       "3  TED2006  1140912000         35  Majora Carter   \n",
       "4  TED2006  1140566400         48   Hans Rosling   \n",
       "\n",
       "                                            name  num_speaker  published_date  \\\n",
       "0      Ken Robinson: Do schools kill creativity?            1      1151367060   \n",
       "1           Al Gore: Averting the climate crisis            1      1151367060   \n",
       "2                  David Pogue: Simplicity sells            1      1151367060   \n",
       "3             Majora Carter: Greening the ghetto            1      1151367060   \n",
       "4  Hans Rosling: The best stats you've ever seen            1      1151440680   \n",
       "\n",
       "                                             ratings  \\\n",
       "0  [{'id': 7, 'name': 'Funny', 'count': 19645}, {...   \n",
       "1  [{'id': 7, 'name': 'Funny', 'count': 544}, {'i...   \n",
       "2  [{'id': 7, 'name': 'Funny', 'count': 964}, {'i...   \n",
       "3  [{'id': 3, 'name': 'Courageous', 'count': 760}...   \n",
       "4  [{'id': 9, 'name': 'Ingenious', 'count': 3202}...   \n",
       "\n",
       "                                       related_talks  \\\n",
       "0  [{'id': 865, 'hero': 'https://pe.tedcdn.com/im...   \n",
       "1  [{'id': 243, 'hero': 'https://pe.tedcdn.com/im...   \n",
       "2  [{'id': 1725, 'hero': 'https://pe.tedcdn.com/i...   \n",
       "3  [{'id': 1041, 'hero': 'https://pe.tedcdn.com/i...   \n",
       "4  [{'id': 2056, 'hero': 'https://pe.tedcdn.com/i...   \n",
       "\n",
       "                     speaker_occupation  \\\n",
       "0                       Author/educator   \n",
       "1                      Climate advocate   \n",
       "2                  Technology columnist   \n",
       "3    Activist for environmental justice   \n",
       "4  Global health expert; data visionary   \n",
       "\n",
       "                                                tags  \\\n",
       "0  [children, creativity, culture, dance, educati...   \n",
       "1  [alternative energy, cars, climate change, cul...   \n",
       "2  [computers, entertainment, interface design, m...   \n",
       "3  [MacArthur grant, activism, business, cities, ...   \n",
       "4  [Africa, Asia, Google, demo, economics, global...   \n",
       "\n",
       "                             title  \\\n",
       "0      Do schools kill creativity?   \n",
       "1      Averting the climate crisis   \n",
       "2                 Simplicity sells   \n",
       "3              Greening the ghetto   \n",
       "4  The best stats you've ever seen   \n",
       "\n",
       "                                                 url     views  Funny  \\\n",
       "0  https://www.ted.com/talks/ken_robinson_says_sc...  47227110  19645   \n",
       "1  https://www.ted.com/talks/al_gore_on_averting_...   3200520    544   \n",
       "2  https://www.ted.com/talks/david_pogue_says_sim...   1636292    964   \n",
       "3  https://www.ted.com/talks/majora_carter_s_tale...   1697550     59   \n",
       "4  https://www.ted.com/talks/hans_rosling_shows_t...  12005869   1390   \n",
       "\n",
       "   Confusing  Inspiring  \n",
       "0        242      24924  \n",
       "1         62        413  \n",
       "2         27        230  \n",
       "3         32       1070  \n",
       "4         72       2893  "
      ]
     },
     "execution_count": 216,
     "metadata": {},
     "output_type": "execute_result"
    }
   ],
   "source": [
    "df.head()"
   ]
  },
  {
   "cell_type": "code",
   "execution_count": 217,
   "metadata": {},
   "outputs": [],
   "source": [
    "tags = []\n",
    "for item in df['tags']:\n",
    "    tags += item\n"
   ]
  },
  {
   "cell_type": "code",
   "execution_count": 218,
   "metadata": {},
   "outputs": [
    {
     "name": "stdout",
     "output_type": "stream",
     "text": [
      "most common\n"
     ]
    },
    {
     "data": {
      "text/plain": [
       "[('technology', 727),\n",
       " ('science', 567),\n",
       " ('global issues', 501),\n",
       " ('culture', 486),\n",
       " ('TEDx', 450),\n",
       " ('design', 418),\n",
       " ('business', 348),\n",
       " ('entertainment', 299),\n",
       " ('health', 236),\n",
       " ('innovation', 229),\n",
       " ('society', 224),\n",
       " ('art', 221),\n",
       " ('social change', 218),\n",
       " ('future', 195),\n",
       " ('communication', 191),\n",
       " ('creativity', 189),\n",
       " ('biology', 189),\n",
       " ('humanity', 182),\n",
       " ('collaboration', 174),\n",
       " ('environment', 165),\n",
       " ('economics', 164),\n",
       " ('medicine', 162),\n",
       " ('brain', 158),\n",
       " ('activism', 157),\n",
       " ('education', 153),\n",
       " ('community', 148),\n",
       " ('history', 146),\n",
       " ('children', 143),\n",
       " ('TED Fellows', 143),\n",
       " ('music', 140),\n",
       " ('invention', 140),\n",
       " ('health care', 132),\n",
       " ('politics', 128),\n",
       " ('cities', 123),\n",
       " ('psychology', 122),\n",
       " ('storytelling', 120),\n",
       " ('performance', 117),\n",
       " ('women', 117),\n",
       " ('nature', 116),\n",
       " ('war', 113),\n",
       " ('identity', 113),\n",
       " ('computers', 111),\n",
       " ('engineering', 111),\n",
       " ('life', 111),\n",
       " ('animals', 109),\n",
       " ('Africa', 105),\n",
       " ('humor', 105),\n",
       " ('exploration', 100),\n",
       " ('personal growth', 96),\n",
       " ('inequality', 94),\n",
       " ('data', 94),\n",
       " ('government', 93),\n",
       " ('photography', 92),\n",
       " ('medical research', 92),\n",
       " ('neuroscience', 89),\n",
       " ('climate change', 87),\n",
       " ('Internet', 84),\n",
       " ('visualizations', 83),\n",
       " ('architecture', 82),\n",
       " ('sustainability', 80),\n",
       " ('live music', 80),\n",
       " ('disease', 79),\n",
       " ('oceans', 77),\n",
       " ('physics', 75),\n",
       " ('green', 73),\n",
       " ('potential', 73),\n",
       " ('happiness', 73),\n",
       " ('biotech', 72),\n",
       " ('work', 71),\n",
       " ('mind', 71),\n",
       " ('violence', 69),\n",
       " ('media', 68),\n",
       " ('evolution', 68),\n",
       " ('film', 67),\n",
       " ('writing', 67),\n",
       " ('big problems', 65),\n",
       " ('global development', 64),\n",
       " ('philosophy', 64),\n",
       " ('entrepreneur', 64),\n",
       " ('motivation', 63),\n",
       " ('beauty', 63),\n",
       " ('genetics', 62),\n",
       " ('biodiversity', 62),\n",
       " ('space', 60),\n",
       " ('poverty', 59),\n",
       " ('robots', 59),\n",
       " ('language', 59),\n",
       " ('mental health', 59),\n",
       " ('cognitive science', 58),\n",
       " ('math', 57),\n",
       " ('food', 57),\n",
       " ('religion', 56),\n",
       " ('peace', 54),\n",
       " ('ecology', 54),\n",
       " ('family', 54),\n",
       " ('demo', 53),\n",
       " ('poetry', 53),\n",
       " ('illness', 53),\n",
       " ('universe', 52),\n",
       " ('energy', 52)]"
      ]
     },
     "execution_count": 218,
     "metadata": {},
     "output_type": "execute_result"
    }
   ],
   "source": [
    "most_common = Counter(tags).most_common(100)\n",
    "print(\"most common\")\n",
    "most_common"
   ]
  },
  {
   "cell_type": "code",
   "execution_count": 219,
   "metadata": {},
   "outputs": [
    {
     "data": {
      "text/html": [
       "<div>\n",
       "<style scoped>\n",
       "    .dataframe tbody tr th:only-of-type {\n",
       "        vertical-align: middle;\n",
       "    }\n",
       "\n",
       "    .dataframe tbody tr th {\n",
       "        vertical-align: top;\n",
       "    }\n",
       "\n",
       "    .dataframe thead th {\n",
       "        text-align: right;\n",
       "    }\n",
       "</style>\n",
       "<table border=\"1\" class=\"dataframe\">\n",
       "  <thead>\n",
       "    <tr style=\"text-align: right;\">\n",
       "      <th></th>\n",
       "      <th>Tag</th>\n",
       "      <th>Count</th>\n",
       "      <th>tagExists</th>\n",
       "    </tr>\n",
       "  </thead>\n",
       "  <tbody>\n",
       "    <tr>\n",
       "      <td>0</td>\n",
       "      <td>technology</td>\n",
       "      <td>727</td>\n",
       "      <td>0</td>\n",
       "    </tr>\n",
       "    <tr>\n",
       "      <td>1</td>\n",
       "      <td>science</td>\n",
       "      <td>567</td>\n",
       "      <td>0</td>\n",
       "    </tr>\n",
       "    <tr>\n",
       "      <td>2</td>\n",
       "      <td>global issues</td>\n",
       "      <td>501</td>\n",
       "      <td>0</td>\n",
       "    </tr>\n",
       "    <tr>\n",
       "      <td>3</td>\n",
       "      <td>culture</td>\n",
       "      <td>486</td>\n",
       "      <td>0</td>\n",
       "    </tr>\n",
       "    <tr>\n",
       "      <td>4</td>\n",
       "      <td>TEDx</td>\n",
       "      <td>450</td>\n",
       "      <td>0</td>\n",
       "    </tr>\n",
       "    <tr>\n",
       "      <td>...</td>\n",
       "      <td>...</td>\n",
       "      <td>...</td>\n",
       "      <td>...</td>\n",
       "    </tr>\n",
       "    <tr>\n",
       "      <td>95</td>\n",
       "      <td>demo</td>\n",
       "      <td>53</td>\n",
       "      <td>0</td>\n",
       "    </tr>\n",
       "    <tr>\n",
       "      <td>96</td>\n",
       "      <td>poetry</td>\n",
       "      <td>53</td>\n",
       "      <td>0</td>\n",
       "    </tr>\n",
       "    <tr>\n",
       "      <td>97</td>\n",
       "      <td>illness</td>\n",
       "      <td>53</td>\n",
       "      <td>0</td>\n",
       "    </tr>\n",
       "    <tr>\n",
       "      <td>98</td>\n",
       "      <td>universe</td>\n",
       "      <td>52</td>\n",
       "      <td>0</td>\n",
       "    </tr>\n",
       "    <tr>\n",
       "      <td>99</td>\n",
       "      <td>energy</td>\n",
       "      <td>52</td>\n",
       "      <td>0</td>\n",
       "    </tr>\n",
       "  </tbody>\n",
       "</table>\n",
       "<p>100 rows × 3 columns</p>\n",
       "</div>"
      ],
      "text/plain": [
       "              Tag  Count  tagExists\n",
       "0      technology    727          0\n",
       "1         science    567          0\n",
       "2   global issues    501          0\n",
       "3         culture    486          0\n",
       "4            TEDx    450          0\n",
       "..            ...    ...        ...\n",
       "95           demo     53          0\n",
       "96         poetry     53          0\n",
       "97        illness     53          0\n",
       "98       universe     52          0\n",
       "99         energy     52          0\n",
       "\n",
       "[100 rows x 3 columns]"
      ]
     },
     "execution_count": 219,
     "metadata": {},
     "output_type": "execute_result"
    }
   ],
   "source": [
    "tag100 = pd.DataFrame(most_common, columns =['Tag', 'Count'])\n",
    "tag100['tagExists'] = 0\n",
    "tag100"
   ]
  },
  {
   "cell_type": "code",
   "execution_count": 220,
   "metadata": {},
   "outputs": [
    {
     "data": {
      "text/html": [
       "<div>\n",
       "<style scoped>\n",
       "    .dataframe tbody tr th:only-of-type {\n",
       "        vertical-align: middle;\n",
       "    }\n",
       "\n",
       "    .dataframe tbody tr th {\n",
       "        vertical-align: top;\n",
       "    }\n",
       "\n",
       "    .dataframe thead th {\n",
       "        text-align: right;\n",
       "    }\n",
       "</style>\n",
       "<table border=\"1\" class=\"dataframe\">\n",
       "  <thead>\n",
       "    <tr style=\"text-align: right;\">\n",
       "      <th></th>\n",
       "      <th>Tag</th>\n",
       "      <th>Count</th>\n",
       "      <th>tagExists</th>\n",
       "    </tr>\n",
       "    <tr>\n",
       "      <th>Tag</th>\n",
       "      <th></th>\n",
       "      <th></th>\n",
       "      <th></th>\n",
       "    </tr>\n",
       "  </thead>\n",
       "  <tbody>\n",
       "    <tr>\n",
       "      <td>technology</td>\n",
       "      <td>technology</td>\n",
       "      <td>727</td>\n",
       "      <td>0</td>\n",
       "    </tr>\n",
       "    <tr>\n",
       "      <td>science</td>\n",
       "      <td>science</td>\n",
       "      <td>567</td>\n",
       "      <td>0</td>\n",
       "    </tr>\n",
       "    <tr>\n",
       "      <td>global issues</td>\n",
       "      <td>global issues</td>\n",
       "      <td>501</td>\n",
       "      <td>0</td>\n",
       "    </tr>\n",
       "    <tr>\n",
       "      <td>culture</td>\n",
       "      <td>culture</td>\n",
       "      <td>486</td>\n",
       "      <td>0</td>\n",
       "    </tr>\n",
       "    <tr>\n",
       "      <td>TEDx</td>\n",
       "      <td>TEDx</td>\n",
       "      <td>450</td>\n",
       "      <td>0</td>\n",
       "    </tr>\n",
       "  </tbody>\n",
       "</table>\n",
       "</div>"
      ],
      "text/plain": [
       "                         Tag  Count  tagExists\n",
       "Tag                                           \n",
       "technology        technology    727          0\n",
       "science              science    567          0\n",
       "global issues  global issues    501          0\n",
       "culture              culture    486          0\n",
       "TEDx                    TEDx    450          0"
      ]
     },
     "execution_count": 220,
     "metadata": {},
     "output_type": "execute_result"
    }
   ],
   "source": [
    "itags = tag100.set_index(tag100['Tag'])\n",
    "itags.head()"
   ]
  },
  {
   "cell_type": "code",
   "execution_count": 221,
   "metadata": {
    "scrolled": true
   },
   "outputs": [],
   "source": [
    "# Init variable where dictionary of top 100 tags is inserted\n",
    "tagdict = None\n",
    "tagExists = None\n",
    "\n",
    "# Init column in df where dictionaries of top 100 tags are inserted\n",
    "df['tag100'] = None\n",
    "df['tagExists'] = None\n",
    "\n",
    "for index, row in df.iterrows():\n",
    "    for tag in row['tags']:\n",
    "        if (itags.index.isin([tag]).any()):\n",
    "            itags.at[tag, 'tagExists']=1\n",
    "    \n",
    "    # Create dictionary of the top 100 tags and values columns\n",
    "    tagdict=pd.Series(itags.tagExists.values, index=itags.Tag).to_dict()\n",
    "    tagExists = itags['tagExists'].tolist()\n",
    "    df.at[index,'tag100'] = tagdict\n",
    "    df.at[index, 'tagExists'] = tagExists\n",
    "    \n",
    "    # Initialize tagExists column for the next loop\n",
    "    itags['tagExists']=0"
   ]
  },
  {
   "cell_type": "code",
   "execution_count": 222,
   "metadata": {
    "scrolled": true
   },
   "outputs": [
    {
     "data": {
      "text/plain": [
       "['alternative energy',\n",
       " 'cars',\n",
       " 'climate change',\n",
       " 'culture',\n",
       " 'environment',\n",
       " 'global issues',\n",
       " 'science',\n",
       " 'sustainability',\n",
       " 'technology']"
      ]
     },
     "execution_count": 222,
     "metadata": {},
     "output_type": "execute_result"
    }
   ],
   "source": [
    "df['tags'][1]"
   ]
  },
  {
   "cell_type": "code",
   "execution_count": 223,
   "metadata": {},
   "outputs": [
    {
     "data": {
      "text/html": [
       "<div>\n",
       "<style scoped>\n",
       "    .dataframe tbody tr th:only-of-type {\n",
       "        vertical-align: middle;\n",
       "    }\n",
       "\n",
       "    .dataframe tbody tr th {\n",
       "        vertical-align: top;\n",
       "    }\n",
       "\n",
       "    .dataframe thead th {\n",
       "        text-align: right;\n",
       "    }\n",
       "</style>\n",
       "<table border=\"1\" class=\"dataframe\">\n",
       "  <thead>\n",
       "    <tr style=\"text-align: right;\">\n",
       "      <th></th>\n",
       "      <th>comments</th>\n",
       "      <th>duration</th>\n",
       "      <th>languages</th>\n",
       "      <th>Funny</th>\n",
       "      <th>Confusing</th>\n",
       "      <th>Inspiring</th>\n",
       "      <th>views</th>\n",
       "    </tr>\n",
       "  </thead>\n",
       "  <tbody>\n",
       "    <tr>\n",
       "      <td>0</td>\n",
       "      <td>4553</td>\n",
       "      <td>1164</td>\n",
       "      <td>60</td>\n",
       "      <td>19645</td>\n",
       "      <td>242</td>\n",
       "      <td>24924</td>\n",
       "      <td>47227110</td>\n",
       "    </tr>\n",
       "    <tr>\n",
       "      <td>1</td>\n",
       "      <td>265</td>\n",
       "      <td>977</td>\n",
       "      <td>43</td>\n",
       "      <td>544</td>\n",
       "      <td>62</td>\n",
       "      <td>413</td>\n",
       "      <td>3200520</td>\n",
       "    </tr>\n",
       "    <tr>\n",
       "      <td>2</td>\n",
       "      <td>124</td>\n",
       "      <td>1286</td>\n",
       "      <td>26</td>\n",
       "      <td>964</td>\n",
       "      <td>27</td>\n",
       "      <td>230</td>\n",
       "      <td>1636292</td>\n",
       "    </tr>\n",
       "    <tr>\n",
       "      <td>3</td>\n",
       "      <td>200</td>\n",
       "      <td>1116</td>\n",
       "      <td>35</td>\n",
       "      <td>59</td>\n",
       "      <td>32</td>\n",
       "      <td>1070</td>\n",
       "      <td>1697550</td>\n",
       "    </tr>\n",
       "    <tr>\n",
       "      <td>4</td>\n",
       "      <td>593</td>\n",
       "      <td>1190</td>\n",
       "      <td>48</td>\n",
       "      <td>1390</td>\n",
       "      <td>72</td>\n",
       "      <td>2893</td>\n",
       "      <td>12005869</td>\n",
       "    </tr>\n",
       "  </tbody>\n",
       "</table>\n",
       "</div>"
      ],
      "text/plain": [
       "   comments  duration  languages  Funny  Confusing  Inspiring     views\n",
       "0      4553      1164         60  19645        242      24924  47227110\n",
       "1       265       977         43    544         62        413   3200520\n",
       "2       124      1286         26    964         27        230   1636292\n",
       "3       200      1116         35     59         32       1070   1697550\n",
       "4       593      1190         48   1390         72       2893  12005869"
      ]
     },
     "execution_count": 223,
     "metadata": {},
     "output_type": "execute_result"
    }
   ],
   "source": [
    "#dropdf= (df.drop(['views','ratings','related_talks','tags','description', 'event', 'film_date','name','num_speaker','published_date','url','main_speaker','published_date','speaker_occupation','title','tag100','tagExists'],axis=1)).copy()\n",
    "dropdf = df[['comments','duration','languages','Funny','Confusing','Inspiring','views']]\n",
    "dropdf.head()"
   ]
  },
  {
   "cell_type": "code",
   "execution_count": 224,
   "metadata": {},
   "outputs": [
    {
     "data": {
      "text/html": [
       "<div>\n",
       "<style scoped>\n",
       "    .dataframe tbody tr th:only-of-type {\n",
       "        vertical-align: middle;\n",
       "    }\n",
       "\n",
       "    .dataframe tbody tr th {\n",
       "        vertical-align: top;\n",
       "    }\n",
       "\n",
       "    .dataframe thead th {\n",
       "        text-align: right;\n",
       "    }\n",
       "</style>\n",
       "<table border=\"1\" class=\"dataframe\">\n",
       "  <thead>\n",
       "    <tr style=\"text-align: right;\">\n",
       "      <th></th>\n",
       "      <th>comments</th>\n",
       "      <th>duration</th>\n",
       "      <th>languages</th>\n",
       "      <th>Funny</th>\n",
       "      <th>Confusing</th>\n",
       "      <th>Inspiring</th>\n",
       "      <th>views</th>\n",
       "      <th>technology</th>\n",
       "      <th>science</th>\n",
       "      <th>global issues</th>\n",
       "      <th>...</th>\n",
       "      <th>food</th>\n",
       "      <th>religion</th>\n",
       "      <th>peace</th>\n",
       "      <th>ecology</th>\n",
       "      <th>family</th>\n",
       "      <th>demo</th>\n",
       "      <th>poetry</th>\n",
       "      <th>illness</th>\n",
       "      <th>universe</th>\n",
       "      <th>energy</th>\n",
       "    </tr>\n",
       "  </thead>\n",
       "  <tbody>\n",
       "    <tr>\n",
       "      <td>0</td>\n",
       "      <td>4553</td>\n",
       "      <td>1164</td>\n",
       "      <td>60</td>\n",
       "      <td>19645</td>\n",
       "      <td>242</td>\n",
       "      <td>24924</td>\n",
       "      <td>47227110</td>\n",
       "      <td>0</td>\n",
       "      <td>0</td>\n",
       "      <td>0</td>\n",
       "      <td>...</td>\n",
       "      <td>0</td>\n",
       "      <td>0</td>\n",
       "      <td>0</td>\n",
       "      <td>0</td>\n",
       "      <td>0</td>\n",
       "      <td>0</td>\n",
       "      <td>0</td>\n",
       "      <td>0</td>\n",
       "      <td>0</td>\n",
       "      <td>0</td>\n",
       "    </tr>\n",
       "    <tr>\n",
       "      <td>1</td>\n",
       "      <td>265</td>\n",
       "      <td>977</td>\n",
       "      <td>43</td>\n",
       "      <td>544</td>\n",
       "      <td>62</td>\n",
       "      <td>413</td>\n",
       "      <td>3200520</td>\n",
       "      <td>1</td>\n",
       "      <td>1</td>\n",
       "      <td>1</td>\n",
       "      <td>...</td>\n",
       "      <td>0</td>\n",
       "      <td>0</td>\n",
       "      <td>0</td>\n",
       "      <td>0</td>\n",
       "      <td>0</td>\n",
       "      <td>0</td>\n",
       "      <td>0</td>\n",
       "      <td>0</td>\n",
       "      <td>0</td>\n",
       "      <td>0</td>\n",
       "    </tr>\n",
       "    <tr>\n",
       "      <td>2</td>\n",
       "      <td>124</td>\n",
       "      <td>1286</td>\n",
       "      <td>26</td>\n",
       "      <td>964</td>\n",
       "      <td>27</td>\n",
       "      <td>230</td>\n",
       "      <td>1636292</td>\n",
       "      <td>1</td>\n",
       "      <td>0</td>\n",
       "      <td>0</td>\n",
       "      <td>...</td>\n",
       "      <td>0</td>\n",
       "      <td>0</td>\n",
       "      <td>0</td>\n",
       "      <td>0</td>\n",
       "      <td>0</td>\n",
       "      <td>0</td>\n",
       "      <td>0</td>\n",
       "      <td>0</td>\n",
       "      <td>0</td>\n",
       "      <td>0</td>\n",
       "    </tr>\n",
       "    <tr>\n",
       "      <td>3</td>\n",
       "      <td>200</td>\n",
       "      <td>1116</td>\n",
       "      <td>35</td>\n",
       "      <td>59</td>\n",
       "      <td>32</td>\n",
       "      <td>1070</td>\n",
       "      <td>1697550</td>\n",
       "      <td>0</td>\n",
       "      <td>0</td>\n",
       "      <td>0</td>\n",
       "      <td>...</td>\n",
       "      <td>0</td>\n",
       "      <td>0</td>\n",
       "      <td>0</td>\n",
       "      <td>0</td>\n",
       "      <td>0</td>\n",
       "      <td>0</td>\n",
       "      <td>0</td>\n",
       "      <td>0</td>\n",
       "      <td>0</td>\n",
       "      <td>0</td>\n",
       "    </tr>\n",
       "    <tr>\n",
       "      <td>4</td>\n",
       "      <td>593</td>\n",
       "      <td>1190</td>\n",
       "      <td>48</td>\n",
       "      <td>1390</td>\n",
       "      <td>72</td>\n",
       "      <td>2893</td>\n",
       "      <td>12005869</td>\n",
       "      <td>0</td>\n",
       "      <td>0</td>\n",
       "      <td>1</td>\n",
       "      <td>...</td>\n",
       "      <td>0</td>\n",
       "      <td>0</td>\n",
       "      <td>0</td>\n",
       "      <td>0</td>\n",
       "      <td>0</td>\n",
       "      <td>1</td>\n",
       "      <td>0</td>\n",
       "      <td>0</td>\n",
       "      <td>0</td>\n",
       "      <td>0</td>\n",
       "    </tr>\n",
       "  </tbody>\n",
       "</table>\n",
       "<p>5 rows × 107 columns</p>\n",
       "</div>"
      ],
      "text/plain": [
       "   comments  duration  languages  Funny  Confusing  Inspiring     views  \\\n",
       "0      4553      1164         60  19645        242      24924  47227110   \n",
       "1       265       977         43    544         62        413   3200520   \n",
       "2       124      1286         26    964         27        230   1636292   \n",
       "3       200      1116         35     59         32       1070   1697550   \n",
       "4       593      1190         48   1390         72       2893  12005869   \n",
       "\n",
       "   technology  science  global issues  ...  food  religion  peace  ecology  \\\n",
       "0           0        0              0  ...     0         0      0        0   \n",
       "1           1        1              1  ...     0         0      0        0   \n",
       "2           1        0              0  ...     0         0      0        0   \n",
       "3           0        0              0  ...     0         0      0        0   \n",
       "4           0        0              1  ...     0         0      0        0   \n",
       "\n",
       "   family  demo  poetry  illness  universe  energy  \n",
       "0       0     0       0        0         0       0  \n",
       "1       0     0       0        0         0       0  \n",
       "2       0     0       0        0         0       0  \n",
       "3       0     0       0        0         0       0  \n",
       "4       0     1       0        0         0       0  \n",
       "\n",
       "[5 rows x 107 columns]"
      ]
     },
     "execution_count": 224,
     "metadata": {},
     "output_type": "execute_result"
    }
   ],
   "source": [
    "data1 = pd.concat([dropdf,(pd.DataFrame(df['tag100'].tolist()))],axis=1)\n",
    "data1.head()"
   ]
  },
  {
   "cell_type": "code",
   "execution_count": 225,
   "metadata": {},
   "outputs": [],
   "source": [
    "from sklearn.model_selection import train_test_split\n",
    "\n"
   ]
  },
  {
   "cell_type": "code",
   "execution_count": 226,
   "metadata": {},
   "outputs": [],
   "source": [
    "def MeanAvErr(close_predictions, Y_test):\n",
    "    mae = sum(abs(close_predictions - Y_test)) / Y_test.shape[0]\n",
    "    return mae"
   ]
  },
  {
   "cell_type": "code",
   "execution_count": 227,
   "metadata": {},
   "outputs": [],
   "source": [
    "def makeLinearRegression(data, target):\n",
    "    X_train, X_test, Y_train, Y_test = train_test_split(data, target, test_size=0.1, random_state=3)\n",
    "    lr = LinearRegression()\n",
    "    lr.fit(X_train,Y_train)\n",
    "    close_predictions = lr.predict(X_test)\n",
    "    \n",
    "    mae = MeanAvErr(close_predictions, Y_test)\n",
    "    name = Y_train.name\n",
    "    \n",
    "    print(\"Mean average error for \" + name + \" is: \" + str(mae))\n",
    "    \n",
    "    resultdf = pd.DataFrame({'Actual': Y_test, 'Predicted': close_predictions})\n",
    "    plotError(resultdf, name)\n",
    "    \n",
    "    return resultdf"
   ]
  },
  {
   "cell_type": "code",
   "execution_count": 228,
   "metadata": {},
   "outputs": [],
   "source": [
    "def plotError(resultdf, name):    \n",
    "    error = resultdf['Actual'] - resultdf['Predicted']\n",
    "    error = error.tail(50)\n",
    "\n",
    "    error.plot(kind='bar',figsize=(8,6))\n",
    "    plt.grid(which='major', linestyle='-', linewidth='0.5', color='green')\n",
    "    plt.grid(which='minor', linestyle=':', linewidth='0.5', color='black')\n",
    "    plt.title(\"Errors for \"+ name)\n",
    "    plt.xticks(rotation=45)\n",
    "    plt.show()"
   ]
  },
  {
   "cell_type": "code",
   "execution_count": 229,
   "metadata": {
    "scrolled": true
   },
   "outputs": [
    {
     "name": "stdout",
     "output_type": "stream",
     "text": [
      "Mean average error for views is: 638143.3319761916\n"
     ]
    },
    {
     "data": {
      "image/png": "[encoded data removed]",
      "text/plain": [
       "<Figure size 576x432 with 1 Axes>"
      ]
     },
     "metadata": {
      "needs_background": "light"
     },
     "output_type": "display_data"
    }
   ],
   "source": [
    "colname = 'views'\n",
    "target= df[colname].copy()\n",
    "variables = data1.drop(colname,axis=1)\n",
    "viewresult = makeLinearRegression(variables, target)"
   ]
  },
  {
   "cell_type": "code",
   "execution_count": 230,
   "metadata": {},
   "outputs": [
    {
     "data": {
      "text/plain": [
       "Actual       1.533975e+06\n",
       "Predicted    1.619394e+06\n",
       "dtype: float64"
      ]
     },
     "execution_count": 230,
     "metadata": {},
     "output_type": "execute_result"
    }
   ],
   "source": [
    "viewresult.mean()"
   ]
  },
  {
   "cell_type": "code",
   "execution_count": 231,
   "metadata": {},
   "outputs": [
    {
     "name": "stdout",
     "output_type": "stream",
     "text": [
      "Mean average error for Funny is: 163.61285927735858\n"
     ]
    },
    {
     "data": {
      "image/png": "[encoded data removed]",
      "text/plain": [
       "<Figure size 576x432 with 1 Axes>"
      ]
     },
     "metadata": {
      "needs_background": "light"
     },
     "output_type": "display_data"
    }
   ],
   "source": [
    "colname = 'Funny'\n",
    "variables = data1.drop(colname,axis=1)\n",
    "target = df[colname]\n",
    "funnyresult = makeLinearRegression(variables,target)\n"
   ]
  },
  {
   "cell_type": "code",
   "execution_count": 232,
   "metadata": {},
   "outputs": [
    {
     "name": "stdout",
     "output_type": "stream",
     "text": [
      "Mean average error for Inspiring is: 346.36105644620955\n"
     ]
    },
    {
     "data": {
      "image/png": "[encoded data removed]",
      "text/plain": [
       "<Figure size 576x432 with 1 Axes>"
      ]
     },
     "metadata": {
      "needs_background": "light"
     },
     "output_type": "display_data"
    }
   ],
   "source": [
    "colname = 'Inspiring'\n",
    "target= df[colname]\n",
    "variables = data1.drop(colname,axis=1)\n",
    "inspiringresult = makeLinearRegression(variables,target)"
   ]
  },
  {
   "cell_type": "code",
   "execution_count": 233,
   "metadata": {},
   "outputs": [
    {
     "name": "stdout",
     "output_type": "stream",
     "text": [
      "Mean average error for Confusing is: 13.766456383848377\n"
     ]
    },
    {
     "data": {
      "image/png": "[encoded data removed]",
      "text/plain": [
       "<Figure size 576x432 with 1 Axes>"
      ]
     },
     "metadata": {
      "needs_background": "light"
     },
     "output_type": "display_data"
    }
   ],
   "source": [
    "colname = 'Confusing'\n",
    "target = df[colname]\n",
    "variables = data1.drop(colname, axis=1)\n",
    "confusingResult = makeLinearRegression(variables,target)"
   ]
  },
  {
   "cell_type": "code",
   "execution_count": 234,
   "metadata": {},
   "outputs": [
    {
     "data": {
      "text/plain": [
       "array([ 4.19358893e+02,  2.73209258e+02,  4.14622189e+04,  1.05329523e+03,\n",
       "        9.99991521e+03,  1.04343567e+03,  3.68660945e+03, -1.46373369e+05,\n",
       "       -3.44476647e+05, -1.91370301e+04, -5.26965645e+04, -1.78408091e+05,\n",
       "       -2.04971535e+03, -1.17722004e+05,  8.25662844e+04, -7.14033297e+04,\n",
       "        2.99492986e+05, -6.11712569e+04, -4.65006770e+04,  3.25893399e+04,\n",
       "        1.60507972e+05, -2.69882139e+05, -3.60939727e+03,  1.30998901e+05,\n",
       "        8.57084571e+03, -6.53027956e+04, -4.48106889e+04,  6.01419086e+04,\n",
       "        3.18351251e+05, -1.24103284e+05, -2.48575717e+05, -2.12285343e+05,\n",
       "        1.46925620e+05, -3.28082675e+05, -1.64185966e+05, -1.39504081e+05,\n",
       "       -1.38605476e+03, -2.56994668e+05, -2.30628839e+05, -3.76040400e+04,\n",
       "        4.66619633e+05, -2.79782433e+05,  3.53916487e+05, -1.98261792e+05,\n",
       "        3.68454702e+05, -5.44950318e+04, -1.93089552e+04, -1.55595477e+05,\n",
       "        6.81598392e+04, -3.90529097e+05,  3.64300355e+04, -2.67680329e+04,\n",
       "       -1.60928831e+05,  3.38326011e+04, -4.12460077e+04,  3.25182247e+04,\n",
       "        6.89087424e+04,  3.71726013e+04,  2.70701992e+05,  2.22349542e+05,\n",
       "       -8.65182567e+04, -9.59218308e+03,  2.97696639e+04,  3.76138270e+03,\n",
       "        9.23826649e+03,  3.72794294e+04,  2.02676145e+05, -7.37847550e+04,\n",
       "        1.51055237e+05, -1.21389719e+05, -3.65932350e+05,  3.90050863e+05,\n",
       "       -2.98439240e+05, -4.71978653e+04,  7.68793459e+04,  1.44062633e+05,\n",
       "        5.73351761e+04, -1.20168949e+05,  1.00137528e+05, -1.50341310e+04,\n",
       "        8.31248970e+04, -7.85271261e+04,  4.56283491e+04, -5.62549432e+05,\n",
       "        1.18165374e+05,  2.45360260e+05,  2.36819624e+05, -3.06612856e+04,\n",
       "       -4.61834794e+04,  6.41518017e+03, -2.57686209e+05,  3.00690007e+05,\n",
       "       -9.63768726e+04, -3.83735334e+05,  4.44948187e+04,  2.04917351e+05,\n",
       "        2.90206776e+04, -6.15128268e+05, -1.24536575e+05, -4.81396711e+04,\n",
       "        4.59469352e+05,  9.46630375e+05, -2.89293210e+05,  8.40454959e+04,\n",
       "        2.95082765e+05, -9.73573974e+04])"
      ]
     },
     "execution_count": 234,
     "metadata": {},
     "output_type": "execute_result"
    }
   ],
   "source": [
    "colname = 'views'\n",
    "target = df[colname]\n",
    "variables = data1.drop(colname, axis=1)\n",
    "X_train, X_test, Y_train, Y_test = train_test_split(variables, target, test_size=0.1, random_state=3)\n",
    "\n",
    "lasso = Lasso(alpha=0.1)\n",
    "lasso_coef = lasso.fit(X_train,Y_train).coef_\n",
    "lasso_coef"
   ]
  },
  {
   "cell_type": "code",
   "execution_count": 235,
   "metadata": {},
   "outputs": [
    {
     "data": {
      "text/plain": [
       "106"
      ]
     },
     "execution_count": 235,
     "metadata": {},
     "output_type": "execute_result"
    }
   ],
   "source": [
    "len(lasso_coef)"
   ]
  },
  {
   "cell_type": "code",
   "execution_count": null,
   "metadata": {},
   "outputs": [],
   "source": []
  },
  {
   "cell_type": "code",
   "execution_count": 236,
   "metadata": {},
   "outputs": [
    {
     "data": {
      "image/png": "[encoded data removed]",
      "text/plain": [
       "<Figure size 432x288 with 1 Axes>"
      ]
     },
     "metadata": {
      "needs_background": "light"
     },
     "output_type": "display_data"
    }
   ],
   "source": [
    "names = X_train.columns\n",
    "plt.plot(range(len(names)),lasso_coef)\n",
    "plt.xticks(range(len(names)),names,rotation=60)\n",
    "plt.ylabel(\"Coefficients\")\n",
    "plt.show()\n"
   ]
  },
  {
   "cell_type": "code",
   "execution_count": 237,
   "metadata": {},
   "outputs": [],
   "source": [
    "def goodAndBadTags(variables, target, minmax):\n",
    "    # load data\n",
    "    X = variables\n",
    "    y = target\n",
    "\n",
    "    # Use L1 penalty\n",
    "    estimator = LassoCV(cv=5, normalize = True)\n",
    "\n",
    "    # Set a minimum threshold of 0.25\n",
    "    sfm = SelectFromModel(estimator, threshold=0.25, prefit=False, norm_order=1, max_features=None)\n",
    "\n",
    "    sfm.fit(X, y)\n",
    "\n",
    "    feature_idx = sfm.get_support()\n",
    "    feature_name = X.columns[feature_idx]\n",
    "\n",
    "    lassoDf = pd.DataFrame()\n",
    "    \n",
    "    for item in feature_name:\n",
    "        lassoDf = pd.concat([lassoDf, data1[item]],axis=1)\n",
    "\n",
    "    colname = target.name\n",
    "    \n",
    "    result = makeLinearRegression(variables,target)\n",
    "\n",
    "    coeffs = sfm.estimator_.coef_\n",
    "    \n",
    "    print(\"Coefficients for \" + colname)\n",
    "    print(coeffs)\n",
    "\n",
    "    bads = []\n",
    "    goods = []\n",
    "    \n",
    "\n",
    "    for index in range(variables.shape[1]):\n",
    "        if (coeffs[index] <minmax[0]):\n",
    "            bads.append(variables.iloc[: , index].name)\n",
    "        if(coeffs[index]>minmax[1]):\n",
    "            goods.append(variables.iloc[: , index].name)\n",
    "\n",
    "\n",
    "    print(\"Bad tags for \" + colname)     \n",
    "    print(bads)\n",
    "    print(\"Good tags for \" + colname)\n",
    "    print(goods)"
   ]
  },
  {
   "cell_type": "code",
   "execution_count": 238,
   "metadata": {},
   "outputs": [
    {
     "name": "stdout",
     "output_type": "stream",
     "text": [
      "Mean average error for views is: 638143.3319761916\n"
     ]
    },
    {
     "data": {
      "image/png": "[encoded data removed]",
      "text/plain": [
       "<Figure size 576x432 with 1 Axes>"
      ]
     },
     "metadata": {
      "needs_background": "light"
     },
     "output_type": "display_data"
    },
    {
     "name": "stdout",
     "output_type": "stream",
     "text": [
      "Coefficients for views\n",
      "[ 3.64375280e+02  2.25925478e+01  3.14009723e+04  9.90052817e+02\n",
      "  9.42609202e+03  1.03700430e+03  0.00000000e+00  0.00000000e+00\n",
      " -2.08220846e+05 -0.00000000e+00 -0.00000000e+00 -5.11178401e+04\n",
      "  0.00000000e+00 -0.00000000e+00  0.00000000e+00  0.00000000e+00\n",
      "  8.54840072e+04 -0.00000000e+00 -0.00000000e+00  0.00000000e+00\n",
      "  0.00000000e+00 -3.91082777e+04  0.00000000e+00  0.00000000e+00\n",
      "  0.00000000e+00 -0.00000000e+00  0.00000000e+00  0.00000000e+00\n",
      "  2.08624029e+05 -0.00000000e+00 -6.37927046e+03 -0.00000000e+00\n",
      "  0.00000000e+00 -3.87128879e+04 -0.00000000e+00  0.00000000e+00\n",
      " -0.00000000e+00 -0.00000000e+00 -0.00000000e+00 -0.00000000e+00\n",
      "  2.69220595e+05 -4.78901893e+03  1.55748090e+04 -0.00000000e+00\n",
      "  4.91980732e+04 -0.00000000e+00  0.00000000e+00 -0.00000000e+00\n",
      "  0.00000000e+00 -0.00000000e+00  0.00000000e+00 -0.00000000e+00\n",
      " -0.00000000e+00  0.00000000e+00 -0.00000000e+00  0.00000000e+00\n",
      "  0.00000000e+00  0.00000000e+00  0.00000000e+00  0.00000000e+00\n",
      "  0.00000000e+00 -0.00000000e+00  0.00000000e+00  0.00000000e+00\n",
      " -0.00000000e+00 -0.00000000e+00  0.00000000e+00  0.00000000e+00\n",
      "  0.00000000e+00 -0.00000000e+00 -2.94036481e+04  1.29890535e+05\n",
      " -0.00000000e+00 -0.00000000e+00  0.00000000e+00  0.00000000e+00\n",
      " -0.00000000e+00 -0.00000000e+00  0.00000000e+00 -0.00000000e+00\n",
      "  0.00000000e+00  0.00000000e+00  0.00000000e+00 -1.86691558e+05\n",
      " -0.00000000e+00  0.00000000e+00  2.13844733e+04  0.00000000e+00\n",
      " -0.00000000e+00  0.00000000e+00 -5.63183370e+04  8.49078226e+04\n",
      " -0.00000000e+00  0.00000000e+00  0.00000000e+00  0.00000000e+00\n",
      " -0.00000000e+00 -1.87592600e+05 -0.00000000e+00 -0.00000000e+00\n",
      "  0.00000000e+00  4.30268699e+05 -0.00000000e+00  0.00000000e+00\n",
      "  3.95509526e+04 -0.00000000e+00]\n",
      "Bad tags for views\n",
      "['global issues', 'philosophy', 'religion']\n",
      "Good tags for views\n",
      "['brain', 'psychology', 'potential', 'demo']\n"
     ]
    }
   ],
   "source": [
    "colname = 'views'\n",
    "target = df[colname]\n",
    "variables = data1.drop(colname, axis=1)\n",
    "goodAndBadTags(variables,target,[-100000,100000])"
   ]
  },
  {
   "cell_type": "code",
   "execution_count": 239,
   "metadata": {},
   "outputs": [
    {
     "name": "stdout",
     "output_type": "stream",
     "text": [
      "Mean average error for Funny is: 163.61285927735858\n"
     ]
    },
    {
     "data": {
      "image/png": "[encoded data removed]",
      "text/plain": [
       "<Figure size 576x432 with 1 Axes>"
      ]
     },
     "metadata": {
      "needs_background": "light"
     },
     "output_type": "display_data"
    },
    {
     "name": "stdout",
     "output_type": "stream",
     "text": [
      "Coefficients for Funny\n",
      "[ 8.78544298e-02 -0.00000000e+00  0.00000000e+00  0.00000000e+00\n",
      "  2.64063887e-02  1.10155511e-04 -0.00000000e+00  0.00000000e+00\n",
      " -0.00000000e+00  0.00000000e+00  0.00000000e+00 -0.00000000e+00\n",
      " -0.00000000e+00  7.84854833e+01 -0.00000000e+00  0.00000000e+00\n",
      " -0.00000000e+00 -0.00000000e+00 -0.00000000e+00 -0.00000000e+00\n",
      "  0.00000000e+00  1.48221945e+01 -0.00000000e+00 -0.00000000e+00\n",
      " -0.00000000e+00 -0.00000000e+00  0.00000000e+00 -0.00000000e+00\n",
      " -0.00000000e+00 -0.00000000e+00  0.00000000e+00  0.00000000e+00\n",
      "  0.00000000e+00  2.54170851e+01 -0.00000000e+00 -0.00000000e+00\n",
      " -0.00000000e+00 -0.00000000e+00  0.00000000e+00 -0.00000000e+00\n",
      " -0.00000000e+00  0.00000000e+00  0.00000000e+00 -0.00000000e+00\n",
      " -0.00000000e+00 -0.00000000e+00 -0.00000000e+00 -0.00000000e+00\n",
      " -0.00000000e+00 -0.00000000e+00  0.00000000e+00  0.00000000e+00\n",
      "  6.44525733e+02 -0.00000000e+00 -0.00000000e+00 -0.00000000e+00\n",
      "  0.00000000e+00 -0.00000000e+00 -0.00000000e+00 -0.00000000e+00\n",
      " -0.00000000e+00 -0.00000000e+00  0.00000000e+00  0.00000000e+00\n",
      "  0.00000000e+00 -0.00000000e+00 -0.00000000e+00 -0.00000000e+00\n",
      " -0.00000000e+00 -0.00000000e+00 -0.00000000e+00 -0.00000000e+00\n",
      "  0.00000000e+00 -0.00000000e+00  0.00000000e+00  0.00000000e+00\n",
      " -0.00000000e+00 -0.00000000e+00 -0.00000000e+00 -0.00000000e+00\n",
      "  0.00000000e+00 -0.00000000e+00 -0.00000000e+00 -0.00000000e+00\n",
      " -0.00000000e+00  0.00000000e+00 -0.00000000e+00  0.00000000e+00\n",
      " -0.00000000e+00 -0.00000000e+00  0.00000000e+00 -0.00000000e+00\n",
      "  0.00000000e+00 -0.00000000e+00  0.00000000e+00  0.00000000e+00\n",
      "  0.00000000e+00  0.00000000e+00 -0.00000000e+00  0.00000000e+00\n",
      " -0.00000000e+00 -0.00000000e+00 -0.00000000e+00 -0.00000000e+00\n",
      " -0.00000000e+00 -0.00000000e+00]\n",
      "Bad tags for Funny\n",
      "[]\n",
      "Good tags for Funny\n",
      "['entertainment', 'creativity', 'children', 'humor']\n"
     ]
    }
   ],
   "source": [
    "colname = 'Funny'\n",
    "target = df[colname]\n",
    "variables = data1.drop(colname, axis=1)\n",
    "goodAndBadTags(variables,target,[0,10])"
   ]
  },
  {
   "cell_type": "code",
   "execution_count": 240,
   "metadata": {},
   "outputs": [
    {
     "name": "stdout",
     "output_type": "stream",
     "text": [
      "Mean average error for Inspiring is: 346.36105644620955\n"
     ]
    },
    {
     "data": {
      "image/png": "[encoded data removed]",
      "text/plain": [
       "<Figure size 576x432 with 1 Axes>"
      ]
     },
     "metadata": {
      "needs_background": "light"
     },
     "output_type": "display_data"
    },
    {
     "name": "stdout",
     "output_type": "stream",
     "text": [
      "Coefficients for Inspiring\n",
      "[ 9.55399415e-01  3.27725983e-02 -1.91265893e+00  5.89219274e-02\n",
      " -4.79891581e-01  3.35051215e-04 -1.08803025e+01 -8.51619671e+01\n",
      "  1.48802926e+01 -0.00000000e+00  4.15258093e+01  0.00000000e+00\n",
      "  6.31381686e+01 -1.97638836e+01  0.00000000e+00  9.59894058e+00\n",
      " -0.00000000e+00  0.00000000e+00  4.41754711e+01 -0.00000000e+00\n",
      "  0.00000000e+00  1.36703409e+02 -0.00000000e+00  0.00000000e+00\n",
      "  0.00000000e+00  0.00000000e+00 -1.13306785e+02  0.00000000e+00\n",
      " -0.00000000e+00  3.40593725e+00  1.46401705e+02  2.89299963e+01\n",
      " -6.03381762e+00  0.00000000e+00  0.00000000e+00  0.00000000e+00\n",
      "  0.00000000e+00  0.00000000e+00 -0.00000000e+00  0.00000000e+00\n",
      "  0.00000000e+00  3.94477566e+01 -1.91473854e+01  1.28041721e+01\n",
      " -0.00000000e+00  0.00000000e+00  0.00000000e+00  0.00000000e+00\n",
      " -0.00000000e+00  2.53224377e+02 -0.00000000e+00  2.91041036e+01\n",
      " -3.03763902e+02 -0.00000000e+00  1.06929412e+02  0.00000000e+00\n",
      " -0.00000000e+00  0.00000000e+00 -0.00000000e+00 -0.00000000e+00\n",
      " -2.21198379e+02 -0.00000000e+00 -0.00000000e+00 -1.65435468e+01\n",
      "  0.00000000e+00  0.00000000e+00  0.00000000e+00  0.00000000e+00\n",
      "  0.00000000e+00 -0.00000000e+00  0.00000000e+00 -0.00000000e+00\n",
      "  2.29902693e+02  0.00000000e+00  1.79765302e+02 -4.80304184e+01\n",
      "  0.00000000e+00  0.00000000e+00 -1.33163673e+02 -0.00000000e+00\n",
      "  0.00000000e+00  0.00000000e+00  0.00000000e+00 -0.00000000e+00\n",
      "  1.00904370e+02  3.48150542e+01 -0.00000000e+00 -0.00000000e+00\n",
      "  0.00000000e+00 -0.00000000e+00  3.30283539e+01 -4.36759471e+01\n",
      " -1.62529430e+00  3.07458793e+02 -0.00000000e+00 -4.68692067e+01\n",
      " -0.00000000e+00 -1.10158604e+02  7.63944563e+01  0.00000000e+00\n",
      " -0.00000000e+00 -1.57637521e+02  0.00000000e+00  0.00000000e+00\n",
      " -2.62270185e+01 -0.00000000e+00]\n",
      "Bad tags for Inspiring\n",
      "['humor', 'neuroscience', 'demo']\n",
      "Good tags for Inspiring\n",
      "['life', 'happiness', 'work', 'mental health']\n"
     ]
    }
   ],
   "source": [
    "colname = 'Inspiring'\n",
    "target = df[colname]\n",
    "variables = data1.drop(colname, axis=1)\n",
    "goodAndBadTags(variables,target,[-150,150])"
   ]
  },
  {
   "cell_type": "code",
   "execution_count": 241,
   "metadata": {},
   "outputs": [
    {
     "name": "stdout",
     "output_type": "stream",
     "text": [
      "Mean average error for Confusing is: 13.766456383848377\n"
     ]
    },
    {
     "data": {
      "image/png": "[encoded data removed]",
      "text/plain": [
       "<Figure size 576x432 with 1 Axes>"
      ]
     },
     "metadata": {
      "needs_background": "light"
     },
     "output_type": "display_data"
    },
    {
     "name": "stdout",
     "output_type": "stream",
     "text": [
      "Coefficients for Confusing\n",
      "[ 1.95100818e-02  1.41166506e-04  0.00000000e+00  0.00000000e+00\n",
      " -0.00000000e+00  3.41470773e-06  0.00000000e+00  2.01690674e+00\n",
      " -0.00000000e+00  4.33237227e+00 -1.73004888e+00  1.24729114e+00\n",
      "  0.00000000e+00  3.80819822e+00 -2.93347978e+00 -4.30001644e+00\n",
      " -2.62213836e-01  0.00000000e+00 -0.00000000e+00  0.00000000e+00\n",
      " -5.18291762e-01 -0.00000000e+00 -0.00000000e+00 -0.00000000e+00\n",
      " -0.00000000e+00 -0.00000000e+00  0.00000000e+00 -6.20321448e-01\n",
      "  5.67502964e+00 -0.00000000e+00 -0.00000000e+00 -0.00000000e+00\n",
      " -7.47143845e-02 -1.00719494e+00 -0.00000000e+00 -0.00000000e+00\n",
      " -0.00000000e+00 -0.00000000e+00 -0.00000000e+00  0.00000000e+00\n",
      "  2.04079420e+00  0.00000000e+00  0.00000000e+00 -1.95943386e+00\n",
      " -2.87254085e+00 -0.00000000e+00 -0.00000000e+00  0.00000000e+00\n",
      " -0.00000000e+00 -8.54563281e-01 -3.80476957e+00 -1.81960230e+00\n",
      "  3.89944122e+00 -7.88515921e-01 -0.00000000e+00 -0.00000000e+00\n",
      " -0.00000000e+00 -0.00000000e+00 -0.00000000e+00 -1.45256351e+00\n",
      " -0.00000000e+00 -0.00000000e+00 -0.00000000e+00  0.00000000e+00\n",
      "  0.00000000e+00 -0.00000000e+00 -0.00000000e+00 -0.00000000e+00\n",
      " -1.38062249e+00  1.17960758e+01 -0.00000000e+00 -0.00000000e+00\n",
      "  3.11491270e+00  0.00000000e+00 -0.00000000e+00 -0.00000000e+00\n",
      " -0.00000000e+00  0.00000000e+00  1.20188407e+01  0.00000000e+00\n",
      " -0.00000000e+00 -0.00000000e+00  0.00000000e+00  1.43750595e+01\n",
      " -0.00000000e+00 -0.00000000e+00 -0.00000000e+00 -0.00000000e+00\n",
      " -3.27839934e-01 -0.00000000e+00 -0.00000000e+00 -0.00000000e+00\n",
      "  0.00000000e+00 -6.69663926e-01  0.00000000e+00  5.66852065e+00\n",
      " -0.00000000e+00  4.16807673e+00 -0.00000000e+00 -0.00000000e+00\n",
      " -7.24484168e-01  0.00000000e+00  5.82105499e-01 -0.00000000e+00\n",
      "  0.00000000e+00 -0.00000000e+00]\n",
      "Bad tags for Confusing\n",
      "['health', 'innovation', 'nature', 'animals']\n",
      "Good tags for Confusing\n",
      "['brain', 'physics', 'evolution', 'philosophy', 'math']\n"
     ]
    }
   ],
   "source": [
    "colname = 'Confusing'\n",
    "target = df[colname]\n",
    "variables = data1.drop(colname, axis=1)\n",
    "goodAndBadTags(variables,target,[-2,5])"
   ]
  },
  {
   "cell_type": "markdown",
   "metadata": {},
   "source": [
    "## Exercise 2"
   ]
  },
  {
   "cell_type": "code",
   "execution_count": 242,
   "metadata": {},
   "outputs": [],
   "source": [
    "targets = pd.read_csv(\"targetdata.csv\")\n",
    "symbols = []\n",
    "\n",
    "\n",
    "with open('symboldata.csv', newline='') as f:\n",
    "    reader = csv.reader(f)\n",
    "    symbols = list(reader)"
   ]
  },
  {
   "cell_type": "code",
   "execution_count": 243,
   "metadata": {},
   "outputs": [],
   "source": [
    "import ast\n",
    "\n",
    "symbols =pd.read_csv('symboldata.csv', delimiter=',', header=None)\n",
    "symbols = symbols.T\n",
    "symbols = symbols.rename(columns={0:'datastr'})\n",
    "type(symbols['datastr'][0])\n",
    "\n",
    "symbols['Data'] = None\n",
    "\n",
    "for index, row in symbols.iterrows():\n",
    "    symbols.at[index,'Data']= ast.literal_eval(row['datastr'])"
   ]
  },
  {
   "cell_type": "code",
   "execution_count": 244,
   "metadata": {},
   "outputs": [
    {
     "data": {
      "text/html": [
       "<div>\n",
       "<style scoped>\n",
       "    .dataframe tbody tr th:only-of-type {\n",
       "        vertical-align: middle;\n",
       "    }\n",
       "\n",
       "    .dataframe tbody tr th {\n",
       "        vertical-align: top;\n",
       "    }\n",
       "\n",
       "    .dataframe thead th {\n",
       "        text-align: right;\n",
       "    }\n",
       "</style>\n",
       "<table border=\"1\" class=\"dataframe\">\n",
       "  <thead>\n",
       "    <tr style=\"text-align: right;\">\n",
       "      <th></th>\n",
       "      <th>datastr</th>\n",
       "      <th>Data</th>\n",
       "    </tr>\n",
       "  </thead>\n",
       "  <tbody>\n",
       "    <tr>\n",
       "      <td>0</td>\n",
       "      <td>[255, 255, 255, 255, 255, 255, 255, 255, 255, ...</td>\n",
       "      <td>[255, 255, 255, 255, 255, 255, 255, 255, 255, ...</td>\n",
       "    </tr>\n",
       "    <tr>\n",
       "      <td>1</td>\n",
       "      <td>[255, 255, 255, 255, 255, 255, 255, 255, 255, ...</td>\n",
       "      <td>[255, 255, 255, 255, 255, 255, 255, 255, 255, ...</td>\n",
       "    </tr>\n",
       "    <tr>\n",
       "      <td>2</td>\n",
       "      <td>[255, 255, 255, 255, 255, 255, 255, 255, 255, ...</td>\n",
       "      <td>[255, 255, 255, 255, 255, 255, 255, 255, 255, ...</td>\n",
       "    </tr>\n",
       "    <tr>\n",
       "      <td>3</td>\n",
       "      <td>[255, 255, 255, 255, 255, 255, 255, 255, 255, ...</td>\n",
       "      <td>[255, 255, 255, 255, 255, 255, 255, 255, 255, ...</td>\n",
       "    </tr>\n",
       "    <tr>\n",
       "      <td>4</td>\n",
       "      <td>[255, 255, 255, 255, 255, 255, 255, 255, 255, ...</td>\n",
       "      <td>[255, 255, 255, 255, 255, 255, 255, 255, 255, ...</td>\n",
       "    </tr>\n",
       "    <tr>\n",
       "      <td>...</td>\n",
       "      <td>...</td>\n",
       "      <td>...</td>\n",
       "    </tr>\n",
       "    <tr>\n",
       "      <td>1015</td>\n",
       "      <td>[255, 255, 255, 255, 255, 255, 255, 255, 255, ...</td>\n",
       "      <td>[255, 255, 255, 255, 255, 255, 255, 255, 255, ...</td>\n",
       "    </tr>\n",
       "    <tr>\n",
       "      <td>1016</td>\n",
       "      <td>[255, 255, 255, 255, 255, 255, 255, 255, 255, ...</td>\n",
       "      <td>[255, 255, 255, 255, 255, 255, 255, 255, 255, ...</td>\n",
       "    </tr>\n",
       "    <tr>\n",
       "      <td>1017</td>\n",
       "      <td>[255, 255, 255, 255, 255, 255, 0, 0, 0, 0, 0, ...</td>\n",
       "      <td>[255, 255, 255, 255, 255, 255, 0, 0, 0, 0, 0, ...</td>\n",
       "    </tr>\n",
       "    <tr>\n",
       "      <td>1018</td>\n",
       "      <td>[255, 255, 255, 255, 255, 255, 0, 0, 0, 0, 0, ...</td>\n",
       "      <td>[255, 255, 255, 255, 255, 255, 0, 0, 0, 0, 0, ...</td>\n",
       "    </tr>\n",
       "    <tr>\n",
       "      <td>1019</td>\n",
       "      <td>[255, 255, 255, 255, 255, 255, 255, 255, 255, ...</td>\n",
       "      <td>[255, 255, 255, 255, 255, 255, 255, 255, 255, ...</td>\n",
       "    </tr>\n",
       "  </tbody>\n",
       "</table>\n",
       "<p>1020 rows × 2 columns</p>\n",
       "</div>"
      ],
      "text/plain": [
       "                                                datastr  \\\n",
       "0     [255, 255, 255, 255, 255, 255, 255, 255, 255, ...   \n",
       "1     [255, 255, 255, 255, 255, 255, 255, 255, 255, ...   \n",
       "2     [255, 255, 255, 255, 255, 255, 255, 255, 255, ...   \n",
       "3     [255, 255, 255, 255, 255, 255, 255, 255, 255, ...   \n",
       "4     [255, 255, 255, 255, 255, 255, 255, 255, 255, ...   \n",
       "...                                                 ...   \n",
       "1015  [255, 255, 255, 255, 255, 255, 255, 255, 255, ...   \n",
       "1016  [255, 255, 255, 255, 255, 255, 255, 255, 255, ...   \n",
       "1017  [255, 255, 255, 255, 255, 255, 0, 0, 0, 0, 0, ...   \n",
       "1018  [255, 255, 255, 255, 255, 255, 0, 0, 0, 0, 0, ...   \n",
       "1019  [255, 255, 255, 255, 255, 255, 255, 255, 255, ...   \n",
       "\n",
       "                                                   Data  \n",
       "0     [255, 255, 255, 255, 255, 255, 255, 255, 255, ...  \n",
       "1     [255, 255, 255, 255, 255, 255, 255, 255, 255, ...  \n",
       "2     [255, 255, 255, 255, 255, 255, 255, 255, 255, ...  \n",
       "3     [255, 255, 255, 255, 255, 255, 255, 255, 255, ...  \n",
       "4     [255, 255, 255, 255, 255, 255, 255, 255, 255, ...  \n",
       "...                                                 ...  \n",
       "1015  [255, 255, 255, 255, 255, 255, 255, 255, 255, ...  \n",
       "1016  [255, 255, 255, 255, 255, 255, 255, 255, 255, ...  \n",
       "1017  [255, 255, 255, 255, 255, 255, 0, 0, 0, 0, 0, ...  \n",
       "1018  [255, 255, 255, 255, 255, 255, 0, 0, 0, 0, 0, ...  \n",
       "1019  [255, 255, 255, 255, 255, 255, 255, 255, 255, ...  \n",
       "\n",
       "[1020 rows x 2 columns]"
      ]
     },
     "execution_count": 244,
     "metadata": {},
     "output_type": "execute_result"
    }
   ],
   "source": [
    "symbols"
   ]
  },
  {
   "cell_type": "code",
   "execution_count": 245,
   "metadata": {},
   "outputs": [
    {
     "data": {
      "text/html": [
       "<div>\n",
       "<style scoped>\n",
       "    .dataframe tbody tr th:only-of-type {\n",
       "        vertical-align: middle;\n",
       "    }\n",
       "\n",
       "    .dataframe tbody tr th {\n",
       "        vertical-align: top;\n",
       "    }\n",
       "\n",
       "    .dataframe thead th {\n",
       "        text-align: right;\n",
       "    }\n",
       "</style>\n",
       "<table border=\"1\" class=\"dataframe\">\n",
       "  <thead>\n",
       "    <tr style=\"text-align: right;\">\n",
       "      <th></th>\n",
       "      <th>0</th>\n",
       "      <th>1</th>\n",
       "      <th>2</th>\n",
       "      <th>3</th>\n",
       "      <th>4</th>\n",
       "      <th>5</th>\n",
       "      <th>6</th>\n",
       "      <th>7</th>\n",
       "      <th>8</th>\n",
       "      <th>9</th>\n",
       "      <th>...</th>\n",
       "      <th>1014</th>\n",
       "      <th>1015</th>\n",
       "      <th>1016</th>\n",
       "      <th>1017</th>\n",
       "      <th>1018</th>\n",
       "      <th>1019</th>\n",
       "      <th>1020</th>\n",
       "      <th>1021</th>\n",
       "      <th>1022</th>\n",
       "      <th>1023</th>\n",
       "    </tr>\n",
       "  </thead>\n",
       "  <tbody>\n",
       "    <tr>\n",
       "      <td>0</td>\n",
       "      <td>255</td>\n",
       "      <td>255</td>\n",
       "      <td>255</td>\n",
       "      <td>255</td>\n",
       "      <td>255</td>\n",
       "      <td>255</td>\n",
       "      <td>255</td>\n",
       "      <td>255</td>\n",
       "      <td>255</td>\n",
       "      <td>255</td>\n",
       "      <td>...</td>\n",
       "      <td>255</td>\n",
       "      <td>255</td>\n",
       "      <td>255</td>\n",
       "      <td>255</td>\n",
       "      <td>255</td>\n",
       "      <td>255</td>\n",
       "      <td>255</td>\n",
       "      <td>255</td>\n",
       "      <td>255</td>\n",
       "      <td>255</td>\n",
       "    </tr>\n",
       "    <tr>\n",
       "      <td>1</td>\n",
       "      <td>255</td>\n",
       "      <td>255</td>\n",
       "      <td>255</td>\n",
       "      <td>255</td>\n",
       "      <td>255</td>\n",
       "      <td>255</td>\n",
       "      <td>255</td>\n",
       "      <td>255</td>\n",
       "      <td>255</td>\n",
       "      <td>255</td>\n",
       "      <td>...</td>\n",
       "      <td>0</td>\n",
       "      <td>255</td>\n",
       "      <td>255</td>\n",
       "      <td>255</td>\n",
       "      <td>255</td>\n",
       "      <td>255</td>\n",
       "      <td>255</td>\n",
       "      <td>255</td>\n",
       "      <td>255</td>\n",
       "      <td>255</td>\n",
       "    </tr>\n",
       "    <tr>\n",
       "      <td>2</td>\n",
       "      <td>255</td>\n",
       "      <td>255</td>\n",
       "      <td>255</td>\n",
       "      <td>255</td>\n",
       "      <td>255</td>\n",
       "      <td>255</td>\n",
       "      <td>255</td>\n",
       "      <td>255</td>\n",
       "      <td>255</td>\n",
       "      <td>255</td>\n",
       "      <td>...</td>\n",
       "      <td>255</td>\n",
       "      <td>255</td>\n",
       "      <td>255</td>\n",
       "      <td>255</td>\n",
       "      <td>255</td>\n",
       "      <td>255</td>\n",
       "      <td>255</td>\n",
       "      <td>255</td>\n",
       "      <td>255</td>\n",
       "      <td>255</td>\n",
       "    </tr>\n",
       "    <tr>\n",
       "      <td>3</td>\n",
       "      <td>255</td>\n",
       "      <td>255</td>\n",
       "      <td>255</td>\n",
       "      <td>255</td>\n",
       "      <td>255</td>\n",
       "      <td>255</td>\n",
       "      <td>255</td>\n",
       "      <td>255</td>\n",
       "      <td>255</td>\n",
       "      <td>255</td>\n",
       "      <td>...</td>\n",
       "      <td>255</td>\n",
       "      <td>255</td>\n",
       "      <td>255</td>\n",
       "      <td>255</td>\n",
       "      <td>255</td>\n",
       "      <td>255</td>\n",
       "      <td>255</td>\n",
       "      <td>255</td>\n",
       "      <td>255</td>\n",
       "      <td>255</td>\n",
       "    </tr>\n",
       "    <tr>\n",
       "      <td>4</td>\n",
       "      <td>255</td>\n",
       "      <td>255</td>\n",
       "      <td>255</td>\n",
       "      <td>255</td>\n",
       "      <td>255</td>\n",
       "      <td>255</td>\n",
       "      <td>255</td>\n",
       "      <td>255</td>\n",
       "      <td>255</td>\n",
       "      <td>255</td>\n",
       "      <td>...</td>\n",
       "      <td>255</td>\n",
       "      <td>255</td>\n",
       "      <td>255</td>\n",
       "      <td>255</td>\n",
       "      <td>255</td>\n",
       "      <td>255</td>\n",
       "      <td>255</td>\n",
       "      <td>255</td>\n",
       "      <td>255</td>\n",
       "      <td>255</td>\n",
       "    </tr>\n",
       "  </tbody>\n",
       "</table>\n",
       "<p>5 rows × 1024 columns</p>\n",
       "</div>"
      ],
      "text/plain": [
       "   0     1     2     3     4     5     6     7     8     9     ...  1014  \\\n",
       "0   255   255   255   255   255   255   255   255   255   255  ...   255   \n",
       "1   255   255   255   255   255   255   255   255   255   255  ...     0   \n",
       "2   255   255   255   255   255   255   255   255   255   255  ...   255   \n",
       "3   255   255   255   255   255   255   255   255   255   255  ...   255   \n",
       "4   255   255   255   255   255   255   255   255   255   255  ...   255   \n",
       "\n",
       "   1015  1016  1017  1018  1019  1020  1021  1022  1023  \n",
       "0   255   255   255   255   255   255   255   255   255  \n",
       "1   255   255   255   255   255   255   255   255   255  \n",
       "2   255   255   255   255   255   255   255   255   255  \n",
       "3   255   255   255   255   255   255   255   255   255  \n",
       "4   255   255   255   255   255   255   255   255   255  \n",
       "\n",
       "[5 rows x 1024 columns]"
      ]
     },
     "execution_count": 245,
     "metadata": {},
     "output_type": "execute_result"
    }
   ],
   "source": [
    "symbols = pd.concat([symbols,(pd.DataFrame(symbols['Data'].tolist()))],axis=1)\n",
    "\n",
    "#pd.DataFrame(symbols['Data'].tolist())\n",
    "symboldata=symbols.drop(['datastr','Data'],axis=1)\n",
    "symboldata.head()"
   ]
  },
  {
   "cell_type": "code",
   "execution_count": 293,
   "metadata": {},
   "outputs": [],
   "source": [
    "X_train, X_test, Y_train, Y_test = train_test_split(symboldata, targets, test_size=0.5, random_state=2)"
   ]
  },
  {
   "cell_type": "code",
   "execution_count": 294,
   "metadata": {},
   "outputs": [],
   "source": [
    "#X_train, Y_train = make_classification(n_samples=1000, n_features=4, n_informative=2, n_redundant=0, random_state=0, shuffle=False)"
   ]
  },
  {
   "cell_type": "code",
   "execution_count": 295,
   "metadata": {},
   "outputs": [
    {
     "name": "stderr",
     "output_type": "stream",
     "text": [
      "C:\\Users\\tipe_\\Anaconda3\\lib\\site-packages\\sklearn\\ensemble\\forest.py:245: FutureWarning: The default value of n_estimators will change from 10 in version 0.20 to 100 in 0.22.\n",
      "  \"10 in version 0.20 to 100 in 0.22.\", FutureWarning)\n"
     ]
    }
   ],
   "source": [
    "#Import Random Forest Model\n",
    "\n",
    "#Create a Gaussian Classifier\n",
    "clf=RandomForestClassifier()\n",
    "\n",
    "#Train the model using the training sets\n",
    "clf.fit(X_train,Y_train['symbol_id'])\n",
    "\n",
    "Y_pred=clf.predict(X_test)"
   ]
  },
  {
   "cell_type": "code",
   "execution_count": 296,
   "metadata": {},
   "outputs": [
    {
     "data": {
      "text/plain": [
       "array([73, 75, 75, 71, 71, 73, 75, 71, 71, 75, 73, 76, 75, 79, 73, 73, 76,\n",
       "       75, 70, 70, 73, 70, 77, 71, 76, 72, 73, 79, 70, 79, 75, 77, 76, 76,\n",
       "       72, 70, 76, 74, 76, 71, 70, 71, 76, 75, 73, 72, 70, 70, 79, 74, 79,\n",
       "       70, 70, 79, 77, 76, 74, 71, 71, 73, 70, 74, 73, 71, 71, 70, 76, 70,\n",
       "       73, 71, 70, 76, 74, 70, 71, 73, 77, 78, 79, 79, 70, 70, 78, 72, 71,\n",
       "       71, 71, 73, 73, 70, 72, 71, 77, 76, 71, 71, 73, 75, 79, 76, 79, 73,\n",
       "       74, 72, 78, 72, 79, 72, 71, 79, 76, 76, 71, 72, 70, 73, 74, 71, 77,\n",
       "       71, 71, 70, 76, 76, 73, 73, 78, 74, 71, 71, 72, 70, 70, 72, 72, 71,\n",
       "       76, 74, 79, 72, 72, 73, 79, 70, 72, 77, 75, 72, 76, 74, 74, 76, 78,\n",
       "       70, 72, 75, 71, 72, 76, 70, 71, 77, 77, 74, 73, 73, 78, 73, 73, 73,\n",
       "       70, 76, 71, 72, 77, 75, 74, 74, 76, 73, 76, 76, 71, 76, 72, 71, 79,\n",
       "       70, 77, 76, 70, 76, 75, 73, 70, 78, 74, 71, 70, 72, 72, 73, 72, 78,\n",
       "       70, 70, 72, 75, 77, 70, 73, 70, 72, 78, 77, 78, 71, 72, 76, 75, 73,\n",
       "       70, 76, 78, 70, 70, 73, 77, 76, 70, 78, 72, 72, 71, 70, 78, 71, 78,\n",
       "       78, 72, 75, 78, 76, 78, 77, 71, 77, 70, 75, 71, 76, 71, 71, 78, 78,\n",
       "       73, 71, 72, 71, 71, 70, 75, 77, 71, 71, 75, 76, 72, 77, 79, 77, 71,\n",
       "       73, 70, 72, 70, 70, 79, 76, 70, 73, 77, 71, 72, 76, 70, 77, 70, 70,\n",
       "       71, 75, 76, 70, 76, 72, 74, 72, 79, 76, 70, 71, 79, 71, 71, 72, 75,\n",
       "       72, 73, 78, 71, 76, 78, 70, 78, 71, 70, 76, 70, 72, 70, 77, 76, 72,\n",
       "       70, 79, 75, 73, 76, 70, 71, 72, 71, 75, 73, 76, 70, 72, 70, 73, 72,\n",
       "       70, 72, 72, 77, 76, 71, 77, 71, 77, 72, 73, 73, 70, 70, 73, 74, 76,\n",
       "       71, 74, 76, 71, 75, 73, 77, 73, 73, 73, 72, 74, 77, 70, 72, 76, 73,\n",
       "       70, 72, 75, 76, 72, 71, 70, 70, 76, 73, 76, 71, 71, 76, 76, 72, 76,\n",
       "       77, 76, 76, 76, 77, 79, 76, 77, 72, 79, 72, 76, 77, 76, 75, 73, 70,\n",
       "       75, 72, 70, 73, 70, 75, 75, 76, 72, 72, 70, 72, 73, 79, 73, 70, 73,\n",
       "       76, 70, 75, 77, 75, 72, 78, 70, 71, 70, 79, 70, 75, 70, 74, 71, 77,\n",
       "       70, 73, 72, 71, 78, 72, 71, 71, 70, 79, 73, 77, 72, 74, 70, 71, 70,\n",
       "       77, 76, 76, 76, 77, 77, 79, 77, 70, 73, 70, 70, 76, 71, 78, 70, 78,\n",
       "       78, 77, 75, 72, 71, 73, 74, 71, 70, 70, 72, 70, 72, 72, 75, 72, 75,\n",
       "       70, 70, 76, 71, 70, 72, 73, 71, 72, 70, 71, 70, 76, 76, 72, 75, 75],\n",
       "      dtype=int64)"
      ]
     },
     "execution_count": 296,
     "metadata": {},
     "output_type": "execute_result"
    }
   ],
   "source": [
    "Y_pred"
   ]
  },
  {
   "cell_type": "code",
   "execution_count": 297,
   "metadata": {},
   "outputs": [
    {
     "data": {
      "text/plain": [
       "array([73, 79, 78, 74, 71, 75, 75, 71, 78, 75, 73, 76, 73, 79, 72, 73, 74,\n",
       "       76, 70, 70, 78, 76, 77, 71, 78, 72, 73, 79, 70, 78, 75, 77, 76, 76,\n",
       "       72, 76, 76, 74, 76, 71, 76, 71, 76, 73, 75, 72, 70, 70, 79, 78, 79,\n",
       "       70, 70, 79, 77, 78, 79, 71, 78, 73, 70, 72, 70, 74, 71, 76, 78, 70,\n",
       "       73, 74, 78, 70, 71, 78, 71, 75, 73, 72, 79, 75, 70, 75, 73, 72, 71,\n",
       "       71, 71, 73, 78, 78, 72, 71, 77, 75, 74, 71, 73, 75, 79, 78, 73, 73,\n",
       "       74, 72, 78, 73, 79, 72, 71, 79, 76, 70, 71, 73, 70, 72, 76, 79, 77,\n",
       "       71, 71, 76, 78, 76, 73, 78, 78, 74, 71, 74, 72, 73, 70, 76, 72, 71,\n",
       "       76, 74, 79, 72, 77, 79, 72, 70, 72, 77, 78, 77, 70, 72, 76, 76, 78,\n",
       "       70, 72, 79, 71, 72, 76, 76, 76, 77, 77, 75, 73, 75, 78, 73, 78, 73,\n",
       "       70, 76, 79, 72, 77, 75, 76, 76, 78, 73, 76, 76, 71, 70, 72, 71, 79,\n",
       "       76, 77, 78, 70, 76, 79, 73, 70, 78, 79, 70, 70, 78, 77, 73, 72, 78,\n",
       "       70, 70, 75, 79, 77, 70, 73, 70, 73, 78, 77, 75, 78, 72, 76, 78, 75,\n",
       "       70, 76, 78, 72, 70, 71, 78, 76, 78, 78, 72, 72, 71, 70, 78, 71, 78,\n",
       "       78, 72, 78, 78, 73, 78, 77, 71, 77, 75, 75, 71, 76, 71, 71, 78, 78,\n",
       "       73, 71, 71, 71, 71, 70, 75, 77, 71, 71, 70, 76, 72, 77, 79, 77, 74,\n",
       "       79, 78, 72, 70, 72, 79, 72, 70, 73, 77, 71, 72, 74, 70, 77, 70, 70,\n",
       "       71, 70, 72, 70, 76, 72, 70, 72, 79, 70, 70, 71, 79, 71, 71, 78, 79,\n",
       "       73, 73, 78, 74, 74, 78, 70, 78, 71, 70, 76, 70, 70, 76, 77, 78, 72,\n",
       "       78, 79, 72, 73, 76, 70, 79, 72, 74, 70, 73, 76, 76, 73, 70, 73, 72,\n",
       "       70, 72, 79, 77, 77, 71, 77, 71, 77, 72, 73, 72, 78, 73, 73, 77, 76,\n",
       "       71, 74, 78, 74, 75, 73, 77, 73, 79, 73, 72, 74, 77, 78, 72, 70, 73,\n",
       "       73, 72, 73, 76, 72, 76, 70, 70, 74, 75, 78, 73, 71, 78, 76, 73, 76,\n",
       "       79, 78, 78, 76, 77, 79, 76, 72, 72, 79, 72, 76, 77, 75, 75, 73, 70,\n",
       "       72, 72, 73, 75, 74, 70, 79, 76, 72, 72, 75, 72, 75, 79, 73, 70, 73,\n",
       "       78, 70, 75, 77, 75, 72, 78, 73, 71, 70, 71, 79, 75, 70, 73, 71, 77,\n",
       "       70, 73, 75, 71, 78, 72, 71, 74, 70, 79, 73, 73, 72, 78, 70, 71, 70,\n",
       "       77, 78, 76, 74, 77, 77, 79, 77, 70, 73, 70, 70, 76, 71, 78, 70, 78,\n",
       "       79, 77, 75, 76, 74, 73, 74, 71, 70, 70, 72, 70, 79, 73, 75, 72, 75,\n",
       "       70, 78, 76, 71, 70, 72, 73, 71, 72, 70, 71, 78, 76, 76, 72, 74, 73],\n",
       "      dtype=int64)"
      ]
     },
     "execution_count": 297,
     "metadata": {},
     "output_type": "execute_result"
    }
   ],
   "source": [
    "Y_test['symbol_id'].values"
   ]
  },
  {
   "cell_type": "code",
   "execution_count": 298,
   "metadata": {},
   "outputs": [
    {
     "name": "stdout",
     "output_type": "stream",
     "text": [
      "0.6568627450980392\n"
     ]
    }
   ],
   "source": [
    "# Use score method to get accuracy of model\n",
    "score = clf.score(X_test, Y_test['symbol_id'])\n",
    "print(score)"
   ]
  },
  {
   "cell_type": "code",
   "execution_count": 252,
   "metadata": {},
   "outputs": [
    {
     "data": {
      "text/html": [
       "<div>\n",
       "<style scoped>\n",
       "    .dataframe tbody tr th:only-of-type {\n",
       "        vertical-align: middle;\n",
       "    }\n",
       "\n",
       "    .dataframe tbody tr th {\n",
       "        vertical-align: top;\n",
       "    }\n",
       "\n",
       "    .dataframe thead th {\n",
       "        text-align: right;\n",
       "    }\n",
       "</style>\n",
       "<table border=\"1\" class=\"dataframe\">\n",
       "  <thead>\n",
       "    <tr style=\"text-align: right;\">\n",
       "      <th></th>\n",
       "      <th>Unnamed: 0</th>\n",
       "      <th>symbol_id</th>\n",
       "      <th>path</th>\n",
       "    </tr>\n",
       "  </thead>\n",
       "  <tbody>\n",
       "    <tr>\n",
       "      <td>890</td>\n",
       "      <td>890</td>\n",
       "      <td>78</td>\n",
       "      <td>hasy-data/v2-20698.png</td>\n",
       "    </tr>\n",
       "    <tr>\n",
       "      <td>1019</td>\n",
       "      <td>1019</td>\n",
       "      <td>79</td>\n",
       "      <td>hasy-data/v2-20827.png</td>\n",
       "    </tr>\n",
       "    <tr>\n",
       "      <td>928</td>\n",
       "      <td>928</td>\n",
       "      <td>78</td>\n",
       "      <td>hasy-data/v2-20736.png</td>\n",
       "    </tr>\n",
       "    <tr>\n",
       "      <td>589</td>\n",
       "      <td>589</td>\n",
       "      <td>74</td>\n",
       "      <td>hasy-data/v2-20397.png</td>\n",
       "    </tr>\n",
       "    <tr>\n",
       "      <td>619</td>\n",
       "      <td>619</td>\n",
       "      <td>75</td>\n",
       "      <td>hasy-data/v2-20427.png</td>\n",
       "    </tr>\n",
       "  </tbody>\n",
       "</table>\n",
       "</div>"
      ],
      "text/plain": [
       "      Unnamed: 0  symbol_id                    path\n",
       "890          890         78  hasy-data/v2-20698.png\n",
       "1019        1019         79  hasy-data/v2-20827.png\n",
       "928          928         78  hasy-data/v2-20736.png\n",
       "589          589         74  hasy-data/v2-20397.png\n",
       "619          619         75  hasy-data/v2-20427.png"
      ]
     },
     "execution_count": 252,
     "metadata": {},
     "output_type": "execute_result"
    }
   ],
   "source": [
    "# Select the wrongly predicted images\n",
    "\n",
    "wrongs = Y_test.loc[((Y_test['symbol_id']-Y_pred)!=0)]\n",
    "wrongs.head()"
   ]
  },
  {
   "cell_type": "code",
   "execution_count": 253,
   "metadata": {},
   "outputs": [
    {
     "data": {
      "image/png": "[encoded data removed]",
      "text/plain": [
       "<Figure size 432x288 with 14 Axes>"
      ]
     },
     "metadata": {
      "needs_background": "light"
     },
     "output_type": "display_data"
    }
   ],
   "source": [
    "i = 0\n",
    "for index, row in wrongs.iterrows():\n",
    "    im = Image.open(\"C:/Users/tipe_/Documents/Koulu/DataScienceIntro/notebookit/week3/\" + row['path'])\n",
    "    plt.subplot(7,7,i+1)\n",
    "    plt.imshow(im)\n",
    "    i+=1"
   ]
  },
  {
   "cell_type": "code",
   "execution_count": 378,
   "metadata": {},
   "outputs": [],
   "source": [
    "def RandomForestFunc(symboldata, targets):\n",
    "    # Subset data\n",
    "    X_train, X_test, Y_train, Y_test = train_test_split(symboldata, targets, test_size=0.1, random_state=3)\n",
    "    \n",
    "    #Create a Gaussian Classifier\n",
    "    clf=RandomForestClassifier(n_estimators=20)\n",
    "\n",
    "    #Train the model using the training sets y_pred=clf.predict(X_test)\n",
    "    clf.fit(X_train,Y_train['symbol_id'])\n",
    "    \n",
    "    # Make predictions\n",
    "    Y_pred=clf.predict(X_test)\n",
    "        \n",
    "    # Use score function to get accuracy of model\n",
    "    print(\"Score: \" +str(scoreInfo(X_test,Y_test)))\n",
    "    \n",
    "    # evaluate the model (and print)\n",
    "    #clfEvaluator(clf, X_train,Y_train)\n",
    "    evaluate2(clf,X_test,Y_test['symbol_id'])\n",
    "    \n",
    "    # Select the wrongly predicted images\n",
    "    wrongPreds(Y_test,Y_pred)\n",
    "    "
   ]
  },
  {
   "cell_type": "code",
   "execution_count": 324,
   "metadata": {},
   "outputs": [],
   "source": [
    "def scoreInfo(X_test,Y_test):\n",
    "    score = clf.score(X_test, Y_test['symbol_id'])\n",
    "    return score"
   ]
  },
  {
   "cell_type": "code",
   "execution_count": 325,
   "metadata": {},
   "outputs": [],
   "source": [
    "def wrongPreds(Y_test, Y_pred):\n",
    "    wrongs = Y_test.loc[((Y_test['symbol_id']-Y_pred)!=0)]\n",
    "    wrongs.head()\n",
    "    \n",
    "    print(\"Wrongly predicted:\")\n",
    "    \n",
    "    i = 0\n",
    "    for index, row in wrongs.iterrows():\n",
    "        im = Image.open(\"C:/Users/tipe_/Documents/Koulu/DataScienceIntro/notebookit/week3/\" + row['path'])\n",
    "        plt.subplot(7,7,i+1)\n",
    "        plt.imshow(im)\n",
    "        i+=1"
   ]
  },
  {
   "cell_type": "code",
   "execution_count": 326,
   "metadata": {},
   "outputs": [],
   "source": [
    "def clfEvaluator(clf, X_train,Y_train):\n",
    "    cv = RepeatedStratifiedKFold(n_splits=10, n_repeats=3, random_state=1)\n",
    "    n_scores = cross_val_score(clf, X_train, Y_train['symbol_id'], scoring='accuracy', n_jobs=-1, error_score='raise')\n",
    "\n",
    "    #n_scores = cross_val_score(clf, X_train, Y_train['symbol_id'], scoring='accuracy', cv=cv, n_jobs=-1, error_score='raise')\n",
    "    # report performance\n",
    "    print('Accuracy: %.3f (%.3f)' % (mean(n_scores), std(n_scores)))"
   ]
  },
  {
   "cell_type": "code",
   "execution_count": 350,
   "metadata": {},
   "outputs": [],
   "source": [
    "# explore random forest bootstrap sample size on performance\n",
    "\n",
    "# get a list of models to evaluate\n",
    "def get_models(X_train,Y_train):\n",
    "    models = dict()\n",
    "    \n",
    "    # explore ratios from 10% to 100% in 10% increments\n",
    "    for i in range(1,21):\n",
    "        key = (i*10)\n",
    "        models[key] = RandomForestClassifier(n_estimators=(i*10)).fit(X_train,Y_train['symbol_id'])\n",
    "    return models\n",
    "\n",
    "# evaluate a given model using cross-validation\n",
    "def evaluate_model(model, X_test, Y_test):\n",
    "    \n",
    "    # define the evaluation procedure\n",
    "    cv = RepeatedStratifiedKFold(n_splits=10, n_repeats=3, random_state=1)\n",
    "    \n",
    "    # evaluate the model and collect the results\n",
    "    #scores = cross_val_score(model, X_train, Y_train['symbol_id'], scoring='accuracy', cv=cv, n_jobs=-1)\n",
    "    scores = cross_val_score(model, X_test, Y_test['symbol_id'], scoring='accuracy', n_jobs=-1)\n",
    "    #scores = model.score(X_test,Y_test['symbol_id'])\n",
    "\n",
    "    return scores"
   ]
  },
  {
   "cell_type": "code",
   "execution_count": 351,
   "metadata": {},
   "outputs": [],
   "source": [
    "def exploreTrees(symboldata,targets):\n",
    "    \n",
    "    X_train, X_test, Y_train, Y_test = train_test_split(symboldata, targets, test_size=0.1, random_state=3)\n",
    "\n",
    "    # get the models to evaluate\n",
    "    models = get_models(X_train,Y_train)\n",
    "    \n",
    "    # evaluate the models and store results\n",
    "    results, names = list(), list()\n",
    "    for name, model in models.items():\n",
    "        \n",
    "        # evaluate the model\n",
    "        scores = evaluate_model(model, X_test, Y_test)\n",
    "        \n",
    "        # store the results\n",
    "        results.append(scores)\n",
    "        names.append(name)\n",
    "        \n",
    "        # summarize the performance along the way\n",
    "        print('>%s %.3f (%.3f)' % (name, mean(scores), std(scores)))\n",
    "\n",
    "    # plot model performance for comparison\n",
    "    plt.boxplot(results, labels=names, showmeans=True)\n",
    "    plt.show()"
   ]
  },
  {
   "cell_type": "code",
   "execution_count": 379,
   "metadata": {},
   "outputs": [
    {
     "name": "stdout",
     "output_type": "stream",
     "text": [
      "Score: 0.7843137254901961\n",
      "Model Performance\n",
      "Average Error: 0.7745 degrees.\n",
      "Accuracy = 98.97%.\n",
      "Wrongly predicted:\n"
     ]
    },
    {
     "data": {
      "image/png": "[encoded data removed]",
      "text/plain": [
       "<Figure size 432x288 with 21 Axes>"
      ]
     },
     "metadata": {
      "needs_background": "light"
     },
     "output_type": "display_data"
    }
   ],
   "source": [
    "RandomForestFunc(symboldata,targets)"
   ]
  },
  {
   "cell_type": "code",
   "execution_count": 352,
   "metadata": {},
   "outputs": [
    {
     "name": "stderr",
     "output_type": "stream",
     "text": [
      "C:\\Users\\tipe_\\Anaconda3\\lib\\site-packages\\sklearn\\model_selection\\_split.py:1978: FutureWarning: The default value of cv will change from 3 to 5 in version 0.22. Specify it explicitly to silence this warning.\n",
      "  warnings.warn(CV_WARNING, FutureWarning)\n"
     ]
    },
    {
     "name": "stdout",
     "output_type": "stream",
     "text": [
      ">10 0.384 (0.060)\n"
     ]
    },
    {
     "name": "stderr",
     "output_type": "stream",
     "text": [
      "C:\\Users\\tipe_\\Anaconda3\\lib\\site-packages\\sklearn\\model_selection\\_split.py:1978: FutureWarning: The default value of cv will change from 3 to 5 in version 0.22. Specify it explicitly to silence this warning.\n",
      "  warnings.warn(CV_WARNING, FutureWarning)\n"
     ]
    },
    {
     "name": "stdout",
     "output_type": "stream",
     "text": [
      ">20 0.474 (0.066)\n",
      ">30 0.504 (0.107)\n",
      ">40 0.466 (0.087)\n"
     ]
    },
    {
     "name": "stderr",
     "output_type": "stream",
     "text": [
      "C:\\Users\\tipe_\\Anaconda3\\lib\\site-packages\\sklearn\\model_selection\\_split.py:1978: FutureWarning: The default value of cv will change from 3 to 5 in version 0.22. Specify it explicitly to silence this warning.\n",
      "  warnings.warn(CV_WARNING, FutureWarning)\n",
      "C:\\Users\\tipe_\\Anaconda3\\lib\\site-packages\\sklearn\\model_selection\\_split.py:1978: FutureWarning: The default value of cv will change from 3 to 5 in version 0.22. Specify it explicitly to silence this warning.\n",
      "  warnings.warn(CV_WARNING, FutureWarning)\n",
      "C:\\Users\\tipe_\\Anaconda3\\lib\\site-packages\\sklearn\\model_selection\\_split.py:1978: FutureWarning: The default value of cv will change from 3 to 5 in version 0.22. Specify it explicitly to silence this warning.\n",
      "  warnings.warn(CV_WARNING, FutureWarning)\n"
     ]
    },
    {
     "name": "stdout",
     "output_type": "stream",
     "text": [
      ">50 0.514 (0.101)\n",
      ">60 0.523 (0.073)\n"
     ]
    },
    {
     "name": "stderr",
     "output_type": "stream",
     "text": [
      "C:\\Users\\tipe_\\Anaconda3\\lib\\site-packages\\sklearn\\model_selection\\_split.py:1978: FutureWarning: The default value of cv will change from 3 to 5 in version 0.22. Specify it explicitly to silence this warning.\n",
      "  warnings.warn(CV_WARNING, FutureWarning)\n",
      "C:\\Users\\tipe_\\Anaconda3\\lib\\site-packages\\sklearn\\model_selection\\_split.py:1978: FutureWarning: The default value of cv will change from 3 to 5 in version 0.22. Specify it explicitly to silence this warning.\n",
      "  warnings.warn(CV_WARNING, FutureWarning)\n"
     ]
    },
    {
     "name": "stdout",
     "output_type": "stream",
     "text": [
      ">70 0.487 (0.112)\n",
      ">80 0.485 (0.078)\n"
     ]
    },
    {
     "name": "stderr",
     "output_type": "stream",
     "text": [
      "C:\\Users\\tipe_\\Anaconda3\\lib\\site-packages\\sklearn\\model_selection\\_split.py:1978: FutureWarning: The default value of cv will change from 3 to 5 in version 0.22. Specify it explicitly to silence this warning.\n",
      "  warnings.warn(CV_WARNING, FutureWarning)\n",
      "C:\\Users\\tipe_\\Anaconda3\\lib\\site-packages\\sklearn\\model_selection\\_split.py:1978: FutureWarning: The default value of cv will change from 3 to 5 in version 0.22. Specify it explicitly to silence this warning.\n",
      "  warnings.warn(CV_WARNING, FutureWarning)\n"
     ]
    },
    {
     "name": "stdout",
     "output_type": "stream",
     "text": [
      ">90 0.572 (0.061)\n",
      ">100 0.581 (0.076)\n"
     ]
    },
    {
     "name": "stderr",
     "output_type": "stream",
     "text": [
      "C:\\Users\\tipe_\\Anaconda3\\lib\\site-packages\\sklearn\\model_selection\\_split.py:1978: FutureWarning: The default value of cv will change from 3 to 5 in version 0.22. Specify it explicitly to silence this warning.\n",
      "  warnings.warn(CV_WARNING, FutureWarning)\n",
      "C:\\Users\\tipe_\\Anaconda3\\lib\\site-packages\\sklearn\\model_selection\\_split.py:1978: FutureWarning: The default value of cv will change from 3 to 5 in version 0.22. Specify it explicitly to silence this warning.\n",
      "  warnings.warn(CV_WARNING, FutureWarning)\n"
     ]
    },
    {
     "name": "stdout",
     "output_type": "stream",
     "text": [
      ">110 0.552 (0.075)\n"
     ]
    },
    {
     "name": "stderr",
     "output_type": "stream",
     "text": [
      "C:\\Users\\tipe_\\Anaconda3\\lib\\site-packages\\sklearn\\model_selection\\_split.py:1978: FutureWarning: The default value of cv will change from 3 to 5 in version 0.22. Specify it explicitly to silence this warning.\n",
      "  warnings.warn(CV_WARNING, FutureWarning)\n"
     ]
    },
    {
     "name": "stdout",
     "output_type": "stream",
     "text": [
      ">120 0.582 (0.058)\n"
     ]
    },
    {
     "name": "stderr",
     "output_type": "stream",
     "text": [
      "C:\\Users\\tipe_\\Anaconda3\\lib\\site-packages\\sklearn\\model_selection\\_split.py:1978: FutureWarning: The default value of cv will change from 3 to 5 in version 0.22. Specify it explicitly to silence this warning.\n",
      "  warnings.warn(CV_WARNING, FutureWarning)\n"
     ]
    },
    {
     "name": "stdout",
     "output_type": "stream",
     "text": [
      ">130 0.582 (0.058)\n",
      ">140 0.487 (0.112)\n"
     ]
    },
    {
     "name": "stderr",
     "output_type": "stream",
     "text": [
      "C:\\Users\\tipe_\\Anaconda3\\lib\\site-packages\\sklearn\\model_selection\\_split.py:1978: FutureWarning: The default value of cv will change from 3 to 5 in version 0.22. Specify it explicitly to silence this warning.\n",
      "  warnings.warn(CV_WARNING, FutureWarning)\n",
      "C:\\Users\\tipe_\\Anaconda3\\lib\\site-packages\\sklearn\\model_selection\\_split.py:1978: FutureWarning: The default value of cv will change from 3 to 5 in version 0.22. Specify it explicitly to silence this warning.\n",
      "  warnings.warn(CV_WARNING, FutureWarning)\n"
     ]
    },
    {
     "name": "stdout",
     "output_type": "stream",
     "text": [
      ">150 0.504 (0.086)\n"
     ]
    },
    {
     "name": "stderr",
     "output_type": "stream",
     "text": [
      "C:\\Users\\tipe_\\Anaconda3\\lib\\site-packages\\sklearn\\model_selection\\_split.py:1978: FutureWarning: The default value of cv will change from 3 to 5 in version 0.22. Specify it explicitly to silence this warning.\n",
      "  warnings.warn(CV_WARNING, FutureWarning)\n"
     ]
    },
    {
     "name": "stdout",
     "output_type": "stream",
     "text": [
      ">160 0.525 (0.096)\n"
     ]
    },
    {
     "name": "stderr",
     "output_type": "stream",
     "text": [
      "C:\\Users\\tipe_\\Anaconda3\\lib\\site-packages\\sklearn\\model_selection\\_split.py:1978: FutureWarning: The default value of cv will change from 3 to 5 in version 0.22. Specify it explicitly to silence this warning.\n",
      "  warnings.warn(CV_WARNING, FutureWarning)\n"
     ]
    },
    {
     "name": "stdout",
     "output_type": "stream",
     "text": [
      ">170 0.553 (0.069)\n"
     ]
    },
    {
     "name": "stderr",
     "output_type": "stream",
     "text": [
      "C:\\Users\\tipe_\\Anaconda3\\lib\\site-packages\\sklearn\\model_selection\\_split.py:1978: FutureWarning: The default value of cv will change from 3 to 5 in version 0.22. Specify it explicitly to silence this warning.\n",
      "  warnings.warn(CV_WARNING, FutureWarning)\n"
     ]
    },
    {
     "name": "stdout",
     "output_type": "stream",
     "text": [
      ">180 0.514 (0.081)\n"
     ]
    },
    {
     "name": "stderr",
     "output_type": "stream",
     "text": [
      "C:\\Users\\tipe_\\Anaconda3\\lib\\site-packages\\sklearn\\model_selection\\_split.py:1978: FutureWarning: The default value of cv will change from 3 to 5 in version 0.22. Specify it explicitly to silence this warning.\n",
      "  warnings.warn(CV_WARNING, FutureWarning)\n"
     ]
    },
    {
     "name": "stdout",
     "output_type": "stream",
     "text": [
      ">190 0.526 (0.103)\n"
     ]
    },
    {
     "name": "stderr",
     "output_type": "stream",
     "text": [
      "C:\\Users\\tipe_\\Anaconda3\\lib\\site-packages\\sklearn\\model_selection\\_split.py:1978: FutureWarning: The default value of cv will change from 3 to 5 in version 0.22. Specify it explicitly to silence this warning.\n",
      "  warnings.warn(CV_WARNING, FutureWarning)\n"
     ]
    },
    {
     "name": "stdout",
     "output_type": "stream",
     "text": [
      ">200 0.600 (0.086)\n"
     ]
    },
    {
     "data": {
      "image/png": "[encoded data removed]",
      "text/plain": [
       "<Figure size 432x288 with 1 Axes>"
      ]
     },
     "metadata": {
      "needs_background": "light"
     },
     "output_type": "display_data"
    }
   ],
   "source": [
    "exploreTrees(symboldata,targets)"
   ]
  },
  {
   "cell_type": "markdown",
   "metadata": {},
   "source": [
    "#### Thoughts\n",
    "\n",
    "The results get better a little bit by increasing number of trees, but not endlessly. 100-140 trees is probably optimal for the dataset. However, these results should not be used to pick number of trees for the model, because it would overfit the model to test data. Our test data is not a great representation of all possible hand written characters so the model would not work well with other datasets.\n"
   ]
  },
  {
   "cell_type": "markdown",
   "metadata": {},
   "source": [
    "#### Using validation data: 80-10-10 split"
   ]
  },
  {
   "cell_type": "code",
   "execution_count": 390,
   "metadata": {},
   "outputs": [],
   "source": [
    "def optimizeTree(X_train,X_test,Y_train,Y_test,estim,min_split,md):\n",
    "\n",
    "    # get the models to evaluate\n",
    "    model = RandomForestClassifier(n_estimators=estim,\n",
    "                                    min_samples_split=min_split, \n",
    "                                    max_depth = md)\n",
    "\n",
    "    model.fit(X_train,Y_train['symbol_id'])\n",
    "\n",
    "    # evaluate the model\n",
    "    print(evaluate_model(model, X_test, Y_test))"
   ]
  },
  {
   "cell_type": "code",
   "execution_count": 391,
   "metadata": {},
   "outputs": [
    {
     "name": "stderr",
     "output_type": "stream",
     "text": [
      "C:\\Users\\tipe_\\Anaconda3\\lib\\site-packages\\sklearn\\model_selection\\_split.py:1978: FutureWarning: The default value of cv will change from 3 to 5 in version 0.22. Specify it explicitly to silence this warning.\n",
      "  warnings.warn(CV_WARNING, FutureWarning)\n"
     ]
    },
    {
     "name": "stdout",
     "output_type": "stream",
     "text": [
      "[0.54054054 0.4        0.56666667]\n"
     ]
    }
   ],
   "source": [
    "X_train, X_test1, Y_train, Y_test1 = train_test_split(symboldata, targets, test_size=0.2, random_state=4)\n",
    "X_test, X_valid, Y_test, Y_valid = train_test_split(X_test1,Y_test1,test_size=0.5,random_state=3)\n",
    "\n",
    "# Test hyperparameters\n",
    "optimizeTree(X_train,X_test,Y_train,Y_test,120,2,5)"
   ]
  },
  {
   "cell_type": "code",
   "execution_count": 392,
   "metadata": {},
   "outputs": [
    {
     "name": "stderr",
     "output_type": "stream",
     "text": [
      "C:\\Users\\tipe_\\Anaconda3\\lib\\site-packages\\sklearn\\model_selection\\_split.py:1978: FutureWarning: The default value of cv will change from 3 to 5 in version 0.22. Specify it explicitly to silence this warning.\n",
      "  warnings.warn(CV_WARNING, FutureWarning)\n"
     ]
    },
    {
     "name": "stdout",
     "output_type": "stream",
     "text": [
      "[0.45945946 0.4        0.6       ]\n"
     ]
    }
   ],
   "source": [
    "optimizeTree(X_train,X_test,Y_train,Y_test,120,5,5)"
   ]
  },
  {
   "cell_type": "code",
   "execution_count": 393,
   "metadata": {},
   "outputs": [
    {
     "name": "stdout",
     "output_type": "stream",
     "text": [
      "[0.45945946 0.4        0.5       ]\n"
     ]
    },
    {
     "name": "stderr",
     "output_type": "stream",
     "text": [
      "C:\\Users\\tipe_\\Anaconda3\\lib\\site-packages\\sklearn\\model_selection\\_split.py:1978: FutureWarning: The default value of cv will change from 3 to 5 in version 0.22. Specify it explicitly to silence this warning.\n",
      "  warnings.warn(CV_WARNING, FutureWarning)\n"
     ]
    }
   ],
   "source": [
    "optimizeTree(X_train,X_test,Y_train,Y_test,120,10,5)"
   ]
  },
  {
   "cell_type": "code",
   "execution_count": 394,
   "metadata": {},
   "outputs": [
    {
     "name": "stdout",
     "output_type": "stream",
     "text": [
      "[0.48648649 0.34285714 0.53333333]\n"
     ]
    },
    {
     "name": "stderr",
     "output_type": "stream",
     "text": [
      "C:\\Users\\tipe_\\Anaconda3\\lib\\site-packages\\sklearn\\model_selection\\_split.py:1978: FutureWarning: The default value of cv will change from 3 to 5 in version 0.22. Specify it explicitly to silence this warning.\n",
      "  warnings.warn(CV_WARNING, FutureWarning)\n"
     ]
    }
   ],
   "source": [
    "optimizeTree(X_train,X_test,Y_train,Y_test,120,15,5)"
   ]
  },
  {
   "cell_type": "code",
   "execution_count": 395,
   "metadata": {},
   "outputs": [
    {
     "name": "stdout",
     "output_type": "stream",
     "text": [
      "[0.43243243 0.4        0.5       ]\n"
     ]
    },
    {
     "name": "stderr",
     "output_type": "stream",
     "text": [
      "C:\\Users\\tipe_\\Anaconda3\\lib\\site-packages\\sklearn\\model_selection\\_split.py:1978: FutureWarning: The default value of cv will change from 3 to 5 in version 0.22. Specify it explicitly to silence this warning.\n",
      "  warnings.warn(CV_WARNING, FutureWarning)\n"
     ]
    }
   ],
   "source": [
    "optimizeTree(X_train,X_test,Y_train,Y_test,120,20,5)"
   ]
  },
  {
   "cell_type": "code",
   "execution_count": 398,
   "metadata": {},
   "outputs": [
    {
     "name": "stdout",
     "output_type": "stream",
     "text": [
      "[0.56756757 0.4        0.53333333]\n"
     ]
    },
    {
     "name": "stderr",
     "output_type": "stream",
     "text": [
      "C:\\Users\\tipe_\\Anaconda3\\lib\\site-packages\\sklearn\\model_selection\\_split.py:1978: FutureWarning: The default value of cv will change from 3 to 5 in version 0.22. Specify it explicitly to silence this warning.\n",
      "  warnings.warn(CV_WARNING, FutureWarning)\n"
     ]
    }
   ],
   "source": [
    "optimizeTree(X_train,X_test,Y_train,Y_test,120,5,20)"
   ]
  },
  {
   "cell_type": "code",
   "execution_count": 400,
   "metadata": {},
   "outputs": [
    {
     "name": "stderr",
     "output_type": "stream",
     "text": [
      "C:\\Users\\tipe_\\Anaconda3\\lib\\site-packages\\sklearn\\model_selection\\_split.py:1978: FutureWarning: The default value of cv will change from 3 to 5 in version 0.22. Specify it explicitly to silence this warning.\n",
      "  warnings.warn(CV_WARNING, FutureWarning)\n"
     ]
    },
    {
     "name": "stdout",
     "output_type": "stream",
     "text": [
      "[0.48648649 0.48571429 0.6       ]\n"
     ]
    }
   ],
   "source": [
    "optimizeTree(X_train,X_test,Y_train,Y_test,140,5,20)"
   ]
  },
  {
   "cell_type": "code",
   "execution_count": 401,
   "metadata": {},
   "outputs": [
    {
     "name": "stderr",
     "output_type": "stream",
     "text": [
      "C:\\Users\\tipe_\\Anaconda3\\lib\\site-packages\\sklearn\\model_selection\\_split.py:1978: FutureWarning: The default value of cv will change from 3 to 5 in version 0.22. Specify it explicitly to silence this warning.\n",
      "  warnings.warn(CV_WARNING, FutureWarning)\n"
     ]
    },
    {
     "name": "stdout",
     "output_type": "stream",
     "text": [
      "[0.54054054 0.79411765 0.61290323]\n"
     ]
    }
   ],
   "source": [
    "# 120,5,20 is the best, I'm trying it now with the validation data\n",
    "\n",
    "optimizeTree(X_train,X_valid,Y_train,Y_valid,120,5,20)"
   ]
  },
  {
   "cell_type": "markdown",
   "metadata": {},
   "source": [
    "#### It's Impossible!\n",
    "\n",
    "I'll try a randomizer next"
   ]
  },
  {
   "cell_type": "code",
   "execution_count": 353,
   "metadata": {},
   "outputs": [
    {
     "name": "stdout",
     "output_type": "stream",
     "text": [
      "Parameters currently in use:\n",
      "\n",
      "{'bootstrap': True,\n",
      " 'class_weight': None,\n",
      " 'criterion': 'gini',\n",
      " 'max_depth': None,\n",
      " 'max_features': 'auto',\n",
      " 'max_leaf_nodes': None,\n",
      " 'min_impurity_decrease': 0.0,\n",
      " 'min_impurity_split': None,\n",
      " 'min_samples_leaf': 1,\n",
      " 'min_samples_split': 2,\n",
      " 'min_weight_fraction_leaf': 0.0,\n",
      " 'n_estimators': 10,\n",
      " 'n_jobs': None,\n",
      " 'oob_score': False,\n",
      " 'random_state': None,\n",
      " 'verbose': 0,\n",
      " 'warm_start': False}\n"
     ]
    }
   ],
   "source": [
    "from pprint import pprint\n",
    "\n",
    "# Look at parameters used by our current forest\n",
    "print('Parameters currently in use:\\n')\n",
    "pprint(clf.get_params())"
   ]
  },
  {
   "cell_type": "code",
   "execution_count": 362,
   "metadata": {},
   "outputs": [
    {
     "name": "stdout",
     "output_type": "stream",
     "text": [
      "{'bootstrap': [True, False],\n",
      " 'max_depth': [10, 20, 30, 40, 50, 60, 70, 80, 90, 100, 110, None],\n",
      " 'max_features': ['auto', 'sqrt', 'log2'],\n",
      " 'min_samples_leaf': [1, 2, 4],\n",
      " 'min_samples_split': [2, 5, 10],\n",
      " 'n_estimators': [10,\n",
      "                  10,\n",
      "                  11,\n",
      "                  12,\n",
      "                  13,\n",
      "                  14,\n",
      "                  15,\n",
      "                  16,\n",
      "                  17,\n",
      "                  18,\n",
      "                  19,\n",
      "                  20,\n",
      "                  21,\n",
      "                  22,\n",
      "                  23,\n",
      "                  24,\n",
      "                  25,\n",
      "                  26,\n",
      "                  27,\n",
      "                  28,\n",
      "                  29,\n",
      "                  30,\n",
      "                  31,\n",
      "                  31,\n",
      "                  32,\n",
      "                  33,\n",
      "                  34,\n",
      "                  35,\n",
      "                  36,\n",
      "                  37,\n",
      "                  38,\n",
      "                  39,\n",
      "                  40,\n",
      "                  41,\n",
      "                  42,\n",
      "                  43,\n",
      "                  44,\n",
      "                  45,\n",
      "                  46,\n",
      "                  47,\n",
      "                  48,\n",
      "                  49,\n",
      "                  50,\n",
      "                  51,\n",
      "                  52,\n",
      "                  52,\n",
      "                  53,\n",
      "                  54,\n",
      "                  55,\n",
      "                  56,\n",
      "                  57,\n",
      "                  58,\n",
      "                  59,\n",
      "                  60,\n",
      "                  61,\n",
      "                  62,\n",
      "                  63,\n",
      "                  64,\n",
      "                  65,\n",
      "                  66,\n",
      "                  67,\n",
      "                  68,\n",
      "                  69,\n",
      "                  70,\n",
      "                  71,\n",
      "                  72,\n",
      "                  73,\n",
      "                  73,\n",
      "                  74,\n",
      "                  75,\n",
      "                  76,\n",
      "                  77,\n",
      "                  78,\n",
      "                  79,\n",
      "                  80,\n",
      "                  81,\n",
      "                  82,\n",
      "                  83,\n",
      "                  84,\n",
      "                  85,\n",
      "                  86,\n",
      "                  87,\n",
      "                  88,\n",
      "                  89,\n",
      "                  90,\n",
      "                  91,\n",
      "                  92,\n",
      "                  93,\n",
      "                  94,\n",
      "                  94,\n",
      "                  95,\n",
      "                  96,\n",
      "                  97,\n",
      "                  98,\n",
      "                  99,\n",
      "                  100,\n",
      "                  101,\n",
      "                  102,\n",
      "                  103,\n",
      "                  104,\n",
      "                  105,\n",
      "                  106,\n",
      "                  107,\n",
      "                  108,\n",
      "                  109,\n",
      "                  110,\n",
      "                  111,\n",
      "                  112,\n",
      "                  113,\n",
      "                  114,\n",
      "                  115,\n",
      "                  115,\n",
      "                  116,\n",
      "                  117,\n",
      "                  118,\n",
      "                  119,\n",
      "                  120,\n",
      "                  121,\n",
      "                  122,\n",
      "                  123,\n",
      "                  124,\n",
      "                  125,\n",
      "                  126,\n",
      "                  127,\n",
      "                  128,\n",
      "                  129,\n",
      "                  130,\n",
      "                  131,\n",
      "                  132,\n",
      "                  133,\n",
      "                  134,\n",
      "                  135,\n",
      "                  136,\n",
      "                  136,\n",
      "                  137,\n",
      "                  138,\n",
      "                  139,\n",
      "                  140,\n",
      "                  141,\n",
      "                  142,\n",
      "                  143,\n",
      "                  144,\n",
      "                  145,\n",
      "                  146,\n",
      "                  147,\n",
      "                  148,\n",
      "                  149,\n",
      "                  150,\n",
      "                  151,\n",
      "                  152,\n",
      "                  153,\n",
      "                  154,\n",
      "                  155,\n",
      "                  156,\n",
      "                  157,\n",
      "                  157,\n",
      "                  158,\n",
      "                  159,\n",
      "                  160,\n",
      "                  161,\n",
      "                  162,\n",
      "                  163,\n",
      "                  164,\n",
      "                  165,\n",
      "                  166,\n",
      "                  167,\n",
      "                  168,\n",
      "                  169,\n",
      "                  170,\n",
      "                  171,\n",
      "                  172,\n",
      "                  173,\n",
      "                  174,\n",
      "                  175,\n",
      "                  176,\n",
      "                  177,\n",
      "                  178,\n",
      "                  178,\n",
      "                  179,\n",
      "                  180,\n",
      "                  181,\n",
      "                  182,\n",
      "                  183,\n",
      "                  184,\n",
      "                  185,\n",
      "                  186,\n",
      "                  187,\n",
      "                  188,\n",
      "                  189,\n",
      "                  190,\n",
      "                  191,\n",
      "                  192,\n",
      "                  193,\n",
      "                  194,\n",
      "                  195,\n",
      "                  196,\n",
      "                  197,\n",
      "                  198,\n",
      "                  199,\n",
      "                  200]}\n"
     ]
    }
   ],
   "source": [
    "from sklearn.model_selection import RandomizedSearchCV\n",
    "\n",
    "# Number of trees in random forest\n",
    "n_estimators = [int(x) for x in np.linspace(start = 10, stop = 200, num = 200)]\n",
    "\n",
    "# Number of features to consider at every split\n",
    "max_features = ['auto', 'sqrt','log2']\n",
    "\n",
    "# Maximum number of levels in tree\n",
    "max_depth = [int(x) for x in np.linspace(10, 110, num = 11)]\n",
    "max_depth.append(None)\n",
    "\n",
    "# Minimum number of samples required to split a node\n",
    "min_samples_split = [2, 5, 10]\n",
    "\n",
    "# Minimum number of samples required at each leaf node\n",
    "min_samples_leaf = [1, 2, 4]\n",
    "\n",
    "# Method of selecting samples for training each tree\n",
    "bootstrap = [True, False]\n",
    "\n",
    "# Create the random grid\n",
    "random_grid = {'n_estimators': n_estimators,\n",
    "               'max_features': max_features,\n",
    "               'max_depth': max_depth,\n",
    "               'min_samples_split': min_samples_split,\n",
    "               'min_samples_leaf': min_samples_leaf,\n",
    "               'bootstrap': bootstrap}\n",
    "pprint(random_grid)"
   ]
  },
  {
   "cell_type": "code",
   "execution_count": 364,
   "metadata": {},
   "outputs": [],
   "source": [
    "X_train, X_test1, Y_train, Y_test1 = train_test_split(symboldata, targets, test_size=0.2, random_state=4)\n",
    "X_test, X_valid, Y_test, Y_valid = train_test_split(X_test1,Y_test1,test_size=0.5,random_state=3)"
   ]
  },
  {
   "cell_type": "code",
   "execution_count": 365,
   "metadata": {},
   "outputs": [
    {
     "name": "stdout",
     "output_type": "stream",
     "text": [
      "Fitting 3 folds for each of 100 candidates, totalling 300 fits\n"
     ]
    },
    {
     "name": "stderr",
     "output_type": "stream",
     "text": [
      "[Parallel(n_jobs=-1)]: Using backend LokyBackend with 4 concurrent workers.\n",
      "[Parallel(n_jobs=-1)]: Done  33 tasks      | elapsed:    6.4s\n",
      "[Parallel(n_jobs=-1)]: Done 154 tasks      | elapsed:   23.8s\n",
      "[Parallel(n_jobs=-1)]: Done 300 out of 300 | elapsed:   48.0s finished\n",
      "C:\\Users\\tipe_\\Anaconda3\\lib\\site-packages\\sklearn\\model_selection\\_search.py:814: DeprecationWarning: The default of the `iid` parameter will change from True to False in version 0.22 and will be removed in 0.24. This will change numeric results when test-set sizes are unequal.\n",
      "  DeprecationWarning)\n"
     ]
    },
    {
     "data": {
      "text/plain": [
       "RandomizedSearchCV(cv=3, error_score='raise-deprecating',\n",
       "                   estimator=RandomForestClassifier(bootstrap=True,\n",
       "                                                    class_weight=None,\n",
       "                                                    criterion='gini',\n",
       "                                                    max_depth=None,\n",
       "                                                    max_features='auto',\n",
       "                                                    max_leaf_nodes=None,\n",
       "                                                    min_impurity_decrease=0.0,\n",
       "                                                    min_impurity_split=None,\n",
       "                                                    min_samples_leaf=1,\n",
       "                                                    min_samples_split=2,\n",
       "                                                    min_weight_fraction_leaf=0.0,\n",
       "                                                    n_estimators='warn',\n",
       "                                                    n_jobs=None,\n",
       "                                                    oob_sc...\n",
       "                                        'max_depth': [10, 20, 30, 40, 50, 60,\n",
       "                                                      70, 80, 90, 100, 110,\n",
       "                                                      None],\n",
       "                                        'max_features': ['auto', 'sqrt',\n",
       "                                                         'log2'],\n",
       "                                        'min_samples_leaf': [1, 2, 4],\n",
       "                                        'min_samples_split': [2, 5, 10],\n",
       "                                        'n_estimators': [10, 10, 11, 12, 13, 14,\n",
       "                                                         15, 16, 17, 18, 19, 20,\n",
       "                                                         21, 22, 23, 24, 25, 26,\n",
       "                                                         27, 28, 29, 30, 31, 31,\n",
       "                                                         32, 33, 34, 35, 36, 37, ...]},\n",
       "                   pre_dispatch='2*n_jobs', random_state=42, refit=True,\n",
       "                   return_train_score=False, scoring=None, verbose=2)"
      ]
     },
     "execution_count": 365,
     "metadata": {},
     "output_type": "execute_result"
    }
   ],
   "source": [
    "# Use the random grid to search for best hyperparameters\n",
    "# First create the base model to tune\n",
    "\n",
    "\n",
    "results, names = list(), list()\n",
    "    \n",
    "# Random search of parameters, using 3 fold cross validation, \n",
    "# search across 100 different combinations, and use all available cores\n",
    "model = RandomForestClassifier()\n",
    "\n",
    "model_random = RandomizedSearchCV(estimator = model, param_distributions = random_grid, n_iter = 100, cv = 3, verbose=2, random_state=42, n_jobs = -1)\n",
    "\n",
    "# Fit the random search model\n",
    "\n",
    "model_random.fit(X_train,Y_train['symbol_id'])"
   ]
  },
  {
   "cell_type": "code",
   "execution_count": 366,
   "metadata": {},
   "outputs": [
    {
     "data": {
      "text/plain": [
       "{'n_estimators': 171,\n",
       " 'min_samples_split': 2,\n",
       " 'min_samples_leaf': 1,\n",
       " 'max_features': 'log2',\n",
       " 'max_depth': 20,\n",
       " 'bootstrap': False}"
      ]
     },
     "execution_count": 366,
     "metadata": {},
     "output_type": "execute_result"
    }
   ],
   "source": [
    "model_random.best_params_"
   ]
  },
  {
   "cell_type": "code",
   "execution_count": 370,
   "metadata": {},
   "outputs": [
    {
     "name": "stdout",
     "output_type": "stream",
     "text": [
      "Model Performance\n",
      "Average Error: 1.0392 degrees.\n",
      "Accuracy = 98.64%.\n"
     ]
    }
   ],
   "source": [
    "def evaluate2(model, test_features, test_labels):\n",
    "    predictions = model.predict(test_features)\n",
    "    errors = abs(predictions - test_labels)\n",
    "    mape = 100 * np.mean(errors / test_labels)\n",
    "    accuracy = 100 - mape\n",
    "    print('Model Performance')\n",
    "    print('Average Error: {:0.4f} degrees.'.format(np.mean(errors)))\n",
    "    print('Accuracy = {:0.2f}%.'.format(accuracy))\n",
    "    \n",
    "    return accuracy\n",
    "\n",
    "base_model = RandomForestClassifier(n_estimators = 10, random_state = 42)\n",
    "base_model.fit(X_train, Y_train['symbol_id'])\n",
    "base_accuracy = evaluate2(base_model, X_test, Y_test['symbol_id'])"
   ]
  },
  {
   "cell_type": "code",
   "execution_count": 372,
   "metadata": {},
   "outputs": [
    {
     "name": "stdout",
     "output_type": "stream",
     "text": [
      "Model Performance\n",
      "Average Error: 0.6176 degrees.\n",
      "Accuracy = 99.19%.\n"
     ]
    }
   ],
   "source": [
    "best_random = model_random.best_estimator_\n",
    "random_accuracy = evaluate2(best_random, X_test, Y_test['symbol_id'])"
   ]
  },
  {
   "cell_type": "code",
   "execution_count": 373,
   "metadata": {},
   "outputs": [
    {
     "name": "stdout",
     "output_type": "stream",
     "text": [
      "Model Performance\n",
      "Average Error: 0.7255 degrees.\n",
      "Accuracy = 99.05%.\n"
     ]
    }
   ],
   "source": [
    "random_valid = evaluate2(best_random,X_valid,Y_valid['symbol_id'])"
   ]
  },
  {
   "cell_type": "code",
   "execution_count": 377,
   "metadata": {},
   "outputs": [
    {
     "name": "stderr",
     "output_type": "stream",
     "text": [
      "C:\\Users\\tipe_\\Anaconda3\\lib\\site-packages\\sklearn\\model_selection\\_split.py:1978: FutureWarning: The default value of cv will change from 3 to 5 in version 0.22. Specify it explicitly to silence this warning.\n",
      "  warnings.warn(CV_WARNING, FutureWarning)\n"
     ]
    },
    {
     "name": "stdout",
     "output_type": "stream",
     "text": [
      "Accuracy: 0.688 (0.098)\n"
     ]
    }
   ],
   "source": [
    "clfEvaluator(best_random, X_valid,Y_valid)"
   ]
  },
  {
   "cell_type": "code",
   "execution_count": 380,
   "metadata": {},
   "outputs": [
    {
     "data": {
      "text/plain": [
       "array([77, 76, 70, 70, 70, 74, 78, 71, 76, 71, 71, 75, 71, 70, 77, 70, 77,\n",
       "       72, 76, 76, 74, 71, 71, 78, 79, 76, 70, 75, 76, 76, 70, 70, 76, 71,\n",
       "       78, 73, 75, 70, 71, 79, 72, 75, 78, 77, 72, 74, 77, 73, 78, 74, 71,\n",
       "       73, 71, 70, 75, 78, 70, 73, 77, 77, 74, 72, 78, 72, 71, 79, 76, 71,\n",
       "       78, 77, 75, 70, 72, 79, 75, 76, 76, 70, 71, 77, 72, 79, 76, 71, 76,\n",
       "       73, 77, 76, 70, 78, 73, 72, 73, 71, 75, 78, 72, 77, 77, 71, 70, 77],\n",
       "      dtype=int64)"
      ]
     },
     "execution_count": 380,
     "metadata": {},
     "output_type": "execute_result"
    }
   ],
   "source": [
    "best_pred =best_random.predict(X_valid)\n",
    "best_pred"
   ]
  },
  {
   "cell_type": "code",
   "execution_count": null,
   "metadata": {},
   "outputs": [],
   "source": []
  },
  {
   "cell_type": "code",
   "execution_count": 382,
   "metadata": {},
   "outputs": [
    {
     "name": "stdout",
     "output_type": "stream",
     "text": [
      "Wrongly predicted:\n"
     ]
    },
    {
     "data": {
      "image/png": "[encoded data removed]",
      "text/plain": [
       "<Figure size 432x288 with 17 Axes>"
      ]
     },
     "metadata": {
      "needs_background": "light"
     },
     "output_type": "display_data"
    }
   ],
   "source": [
    "wrongPreds(Y_valid, best_pred)"
   ]
  },
  {
   "cell_type": "markdown",
   "metadata": {},
   "source": [
    "Much better! Well.. not that much but a bit better!"
   ]
  },
  {
   "cell_type": "markdown",
   "metadata": {},
   "source": [
    "### Time for t-pot\n",
    "Trying to optimize a model and parameters with t-pot\n",
    "\n"
   ]
  },
  {
   "cell_type": "code",
   "execution_count": 403,
   "metadata": {},
   "outputs": [
    {
     "name": "stdout",
     "output_type": "stream",
     "text": [
      "Warning: xgboost.XGBClassifier is not available and will not be used by TPOT.\n"
     ]
    },
    {
     "name": "stderr",
     "output_type": "stream",
     "text": [
      "Version 0.10.2 of tpot is outdated. Version 0.11.5 was released Monday June 01, 2020.\n"
     ]
    },
    {
     "data": {
      "application/vnd.jupyter.widget-view+json": {
       "model_id": "",
       "version_major": 2,
       "version_minor": 0
      },
      "text/plain": [
       "HBox(children=(IntProgress(value=0, description='Optimization Progress', max=60, style=ProgressStyle(descripti…"
      ]
     },
     "metadata": {},
     "output_type": "display_data"
    },
    {
     "name": "stdout",
     "output_type": "stream",
     "text": [
      "Generation 1 - Current best internal CV score: 0.8506210335071802\n",
      "Generation 2 - Current best internal CV score: 0.8506210335071802\n",
      "Generation 3 - Current best internal CV score: 0.8506210335071802\n",
      "Generation 4 - Current best internal CV score: 0.8518752911820832\n",
      "Generation 5 - Current best internal CV score: 0.8518752911820832\n",
      "\n",
      "Best pipeline: LogisticRegression(ZeroCount(BernoulliNB(input_matrix, alpha=100.0, fit_prior=False)), C=5.0, dual=False, penalty=l2)\n",
      "0.8627450980392157\n"
     ]
    }
   ],
   "source": [
    "from tpot import TPOTClassifier\n",
    "from sklearn.datasets import load_digits\n",
    "from sklearn.model_selection import train_test_split\n",
    "\n",
    "\n",
    "X_train, X_test, y_train, y_test = train_test_split(symboldata, targets,\n",
    "                                                    train_size=0.75, test_size=0.25, random_state=42)\n",
    "\n",
    "tpot = TPOTClassifier(generations=5, population_size=10, verbosity=2, random_state=42)\n",
    "tpot.fit(X_train, y_train['symbol_id'])\n",
    "print(tpot.score(X_test, y_test['symbol_id']))\n",
    "tpot.export('tpot_digits_pipeline.py')"
   ]
  },
  {
   "cell_type": "code",
   "execution_count": 421,
   "metadata": {},
   "outputs": [
    {
     "name": "stderr",
     "output_type": "stream",
     "text": [
      "C:\\Users\\tipe_\\Anaconda3\\lib\\site-packages\\sklearn\\linear_model\\logistic.py:432: FutureWarning: Default solver will be changed to 'lbfgs' in 0.22. Specify a solver to silence this warning.\n",
      "  FutureWarning)\n",
      "C:\\Users\\tipe_\\Anaconda3\\lib\\site-packages\\sklearn\\linear_model\\logistic.py:469: FutureWarning: Default multi_class will be changed to 'auto' in 0.22. Specify the multi_class option to silence this warning.\n",
      "  \"this warning.\", FutureWarning)\n"
     ]
    }
   ],
   "source": [
    "import numpy as np\n",
    "import pandas as pd\n",
    "from sklearn.linear_model import LogisticRegression\n",
    "from sklearn.model_selection import train_test_split\n",
    "from sklearn.naive_bayes import BernoulliNB\n",
    "from sklearn.pipeline import make_pipeline, make_union\n",
    "from tpot.builtins import StackingEstimator, ZeroCount\n",
    "\n",
    "# NOTE: Make sure that the class is labeled 'target' in the data file\n",
    "#tpot_data = pd.read_csv('PATH/TO/DATA/FILE', sep='COLUMN_SEPARATOR', dtype=np.float64)\n",
    "#features = tpot_data.drop('target', axis=1).values\n",
    "training_features, testing_features, training_target, testing_target = train_test_split(symboldata, targets, test_size=0.2,random_state=42)\n",
    "\n",
    "# Average CV score on the training set was:0.8518752911820832\n",
    "exported_pipeline = make_pipeline(\n",
    "    StackingEstimator(estimator=BernoulliNB(alpha=100.0, fit_prior=False)),\n",
    "    ZeroCount(),\n",
    "    LogisticRegression(C=5.0, dual=False, penalty=\"l2\")\n",
    ")\n",
    "\n",
    "exported_pipeline.fit(training_features, training_target['symbol_id'])\n",
    "results = exported_pipeline.predict(testing_features)\n"
   ]
  },
  {
   "cell_type": "code",
   "execution_count": 422,
   "metadata": {},
   "outputs": [
    {
     "data": {
      "text/plain": [
       "array([73, 74, 73, 72, 75, 76, 73, 76, 77, 74, 71, 76, 76, 79, 78, 78, 75,\n",
       "       71, 78, 72, 79, 78, 71, 72, 73, 76, 72, 75, 78, 76, 73, 76, 79, 73,\n",
       "       72, 71, 70, 74, 72, 72, 75, 75, 77, 72, 71, 71, 78, 71, 71, 71, 74,\n",
       "       76, 75, 72, 71, 70, 71, 72, 76, 72, 77, 70, 71, 72, 70, 72, 73, 75,\n",
       "       74, 71, 71, 75, 70, 78, 74, 75, 73, 72, 75, 73, 79, 79, 79, 74, 73,\n",
       "       70, 76, 79, 76, 75, 79, 71, 73, 76, 78, 75, 71, 76, 73, 71, 70, 70,\n",
       "       79, 72, 71, 75, 71, 78, 73, 71, 78, 75, 79, 78, 75, 76, 78, 70, 76,\n",
       "       75, 73, 75, 74, 70, 78, 75, 73, 73, 77, 70, 77, 73, 76, 70, 71, 71,\n",
       "       75, 78, 71, 71, 78, 70, 74, 75, 76, 70, 70, 78, 71, 71, 73, 74, 70,\n",
       "       74, 72, 76, 75, 75, 73, 70, 72, 71, 76, 70, 76, 78, 73, 76, 75, 74,\n",
       "       71, 71, 72, 70, 72, 75, 72, 78, 76, 73, 72, 71, 77, 72, 77, 77, 73,\n",
       "       73, 77, 79, 72, 72, 74, 74, 77, 78, 78, 79, 71, 73, 73, 77, 74, 78],\n",
       "      dtype=int64)"
      ]
     },
     "execution_count": 422,
     "metadata": {},
     "output_type": "execute_result"
    }
   ],
   "source": [
    "results"
   ]
  },
  {
   "cell_type": "code",
   "execution_count": 423,
   "metadata": {},
   "outputs": [
    {
     "name": "stdout",
     "output_type": "stream",
     "text": [
      "Wrongly predicted:\n"
     ]
    },
    {
     "data": {
      "image/png": "[encoded data removed]",
      "text/plain": [
       "<Figure size 432x288 with 27 Axes>"
      ]
     },
     "metadata": {
      "needs_background": "light"
     },
     "output_type": "display_data"
    }
   ],
   "source": [
    "wrongPreds(testing_target, results)"
   ]
  },
  {
   "cell_type": "code",
   "execution_count": 424,
   "metadata": {},
   "outputs": [
    {
     "name": "stdout",
     "output_type": "stream",
     "text": [
      "Model Performance\n",
      "Average Error: 0.5196 degrees.\n",
      "Accuracy = 99.32%.\n"
     ]
    },
    {
     "data": {
      "text/plain": [
       "99.3245800995825"
      ]
     },
     "execution_count": 424,
     "metadata": {},
     "output_type": "execute_result"
    }
   ],
   "source": [
    "evaluate2(exported_pipeline, testing_features,testing_target['symbol_id'])"
   ]
  },
  {
   "cell_type": "markdown",
   "metadata": {},
   "source": [
    "### Conclusions\n",
    "\n",
    "\n",
    "|Model                         | Average Error  | Accuracy |\n",
    "|-------------------------|----------------|----------|\n",
    "|        Base Model       | 1.0392 degrees | 98.64%   |\n",
    "| Randomizer Optimization | 0.7255 degrees | 99.05%   |\n",
    "|          T-pot          | 0.5196 degrees        | 99.32%   |"
   ]
  },
  {
   "cell_type": "markdown",
   "metadata": {},
   "source": [
    "T-pot worked the best according to the metrics! It had the least average error by far and it was the most accurate. However, when I checked the wrongly predicted ones, there was a surprising amount. I will definitely be looking into t-pot in the future, and trying it with different datasets."
   ]
  },
  {
   "cell_type": "code",
   "execution_count": null,
   "metadata": {},
   "outputs": [],
   "source": []
  },
  {
   "cell_type": "code",
   "execution_count": null,
   "metadata": {},
   "outputs": [],
   "source": []
  }
 ],
 "metadata": {
  "kernelspec": {
   "display_name": "Python 3",
   "language": "python",
   "name": "python3"
  },
  "language_info": {
   "codemirror_mode": {
    "name": "ipython",
    "version": 3
   },
   "file_extension": ".py",
   "mimetype": "text/x-python",
   "name": "python",
   "nbconvert_exporter": "python",
   "pygments_lexer": "ipython3",
   "version": "3.7.4"
  }
 },
 "nbformat": 4,
 "nbformat_minor": 2
}
