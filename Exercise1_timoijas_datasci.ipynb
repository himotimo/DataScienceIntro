{
 "cells": [
  {
   "cell_type": "markdown",
   "metadata": {},
   "source": [
    "# Week 1\n",
    "## Timo Ijäs\n",
    "## Introduction to data science"
   ]
  },
  {
   "cell_type": "code",
   "execution_count": 21,
   "metadata": {},
   "outputs": [],
   "source": [
    "import pandas as pd\n",
    "import geopandas as gpd\n",
    "import numpy as np\n",
    "import time"
   ]
  },
  {
   "cell_type": "markdown",
   "metadata": {},
   "source": [
    "### Exercise 1"
   ]
  },
  {
   "cell_type": "code",
   "execution_count": 22,
   "metadata": {},
   "outputs": [
    {
     "name": "stdout",
     "output_type": "stream",
     "text": [
      "1000000\n",
      "[0, 1, 2, 3, 4, 5, 6, 7, 8, 9]\n",
      "1000000\n",
      "[0, 1, 2, 3, 4, 5, 6, 7, 8, 9]\n"
     ]
    }
   ],
   "source": [
    "# initialize arrays\n",
    "\n",
    "a = list(range(0,1000000))\n",
    "b = a\n",
    "\n",
    "# print for testing\n",
    "\n",
    "print(len(a))\n",
    "print(a[:10])\n",
    "print(len(b))\n",
    "print(b[:10])"
   ]
  },
  {
   "cell_type": "code",
   "execution_count": null,
   "metadata": {},
   "outputs": [],
   "source": []
  },
  {
   "cell_type": "code",
   "execution_count": 23,
   "metadata": {},
   "outputs": [],
   "source": [
    " # make function\n",
    "    \n",
    "def add_with_for(a, b):\n",
    "     c = []\n",
    "     for i in range(len(a)):\n",
    "        c.append(a[i] + b[i])\n",
    "     return c\n"
   ]
  },
  {
   "cell_type": "code",
   "execution_count": 24,
   "metadata": {},
   "outputs": [
    {
     "name": "stdout",
     "output_type": "stream",
     "text": [
      "Time elapsed: 0.24731099999999984 seconds\n",
      "[10, 12, 14, 16, 18, 20, 22, 24, 26, 28, 30, 32, 34, 36, 38, 40, 42, 44, 46, 48, 50, 52, 54, 56, 58, 60, 62, 64, 66, 68, 70, 72, 74, 76, 78, 80, 82, 84, 86, 88, 90, 92, 94, 96, 98]\n"
     ]
    }
   ],
   "source": [
    "# test function\n",
    "start_time = time.perf_counter()\n",
    "d = add_with_for(a,b)\n",
    "elapsed_time = time.perf_counter() - start_time\n",
    "\n",
    "print('Time elapsed: ' + str(elapsed_time) + ' seconds')\n",
    "print(d[5:50])"
   ]
  },
  {
   "cell_type": "code",
   "execution_count": 25,
   "metadata": {},
   "outputs": [
    {
     "name": "stdout",
     "output_type": "stream",
     "text": [
      "[0, 1, 2, 3, 4, 5, 6, 7, 8, 9, 10, 11, 12, 13, 14, 15, 16, 17, 18, 19, 20, 21, 22, 23, 24, 25, 26, 27, 28, 29, 30, 31, 32, 33, 34, 35, 36, 37, 38, 39, 40, 41, 42, 43, 44, 45, 46, 47, 48, 49]\n"
     ]
    }
   ],
   "source": [
    "# Try summing arrays\n",
    "e = a + b\n",
    "print(e[:50])"
   ]
  },
  {
   "cell_type": "markdown",
   "metadata": {},
   "source": [
    "Summing simple arrays doesn't work."
   ]
  },
  {
   "cell_type": "code",
   "execution_count": 26,
   "metadata": {},
   "outputs": [],
   "source": [
    "# Same with numpy\n",
    "numA = np.array(range(0,10000000))\n",
    "numB = numA\n",
    "\n"
   ]
  },
  {
   "cell_type": "code",
   "execution_count": 27,
   "metadata": {},
   "outputs": [
    {
     "name": "stdout",
     "output_type": "stream",
     "text": [
      "<class 'numpy.ndarray'>\n",
      "<class 'numpy.ndarray'>\n"
     ]
    }
   ],
   "source": [
    "print(type(numA))\n",
    "print(type(numB))"
   ]
  },
  {
   "cell_type": "code",
   "execution_count": 28,
   "metadata": {},
   "outputs": [],
   "source": [
    "def add_with_sum(numA,numB):\n",
    "    numC = numA + numB\n",
    "    return numC"
   ]
  },
  {
   "cell_type": "code",
   "execution_count": 29,
   "metadata": {},
   "outputs": [
    {
     "name": "stdout",
     "output_type": "stream",
     "text": [
      "Time elapsed: 0.04916060000000044 seconds\n",
      "[ 0  2  4  6  8 10 12 14 16 18]\n"
     ]
    }
   ],
   "source": [
    "start_time = time.perf_counter()\n",
    "numC = add_with_sum(numA,numB)\n",
    "elapsed_time = time.perf_counter() - start_time\n",
    "\n",
    "print('Time elapsed: ' + str(elapsed_time) + ' seconds')\n",
    "print(numC[:10])"
   ]
  },
  {
   "cell_type": "code",
   "execution_count": 30,
   "metadata": {},
   "outputs": [],
   "source": [
    "def add_with_np_add(numA,numB):\n",
    "    numD = np.add(numA,numB)\n",
    "    return numD"
   ]
  },
  {
   "cell_type": "code",
   "execution_count": 31,
   "metadata": {},
   "outputs": [
    {
     "name": "stdout",
     "output_type": "stream",
     "text": [
      "Time elapsed: 0.04060300000000083 seconds\n",
      "[ 0  2  4  6  8 10 12 14 16 18]\n"
     ]
    }
   ],
   "source": [
    "start_time = time.perf_counter()\n",
    "\n",
    "numD = add_with_np_add(numA,numB)\n",
    "elapsed_time = time.perf_counter() - start_time\n",
    "\n",
    "print('Time elapsed: ' + str(elapsed_time) + ' seconds')\n",
    "print(numD[0:10])"
   ]
  },
  {
   "cell_type": "markdown",
   "metadata": {},
   "source": [
    "Using numpy arrays is faster and can be for any arrays as long as they are the same shape. Even if they're not just simple on dimensional arrays. And they can be added by simply using a + b.\n"
   ]
  },
  {
   "cell_type": "markdown",
   "metadata": {},
   "source": [
    "### Array Manipulation\n",
    "#### a)"
   ]
  },
  {
   "cell_type": "code",
   "execution_count": 32,
   "metadata": {},
   "outputs": [
    {
     "data": {
      "text/plain": [
       "array([[ 0,  1,  2,  3,  4,  5,  6,  7,  8,  9],\n",
       "       [10, 11, 12, 13, 14, 15, 16, 17, 18, 19],\n",
       "       [20, 21, 22, 23, 24, 25, 26, 27, 28, 29],\n",
       "       [30, 31, 32, 33, 34, 35, 36, 37, 38, 39],\n",
       "       [40, 41, 42, 43, 44, 45, 46, 47, 48, 49],\n",
       "       [50, 51, 52, 53, 54, 55, 56, 57, 58, 59],\n",
       "       [60, 61, 62, 63, 64, 65, 66, 67, 68, 69],\n",
       "       [70, 71, 72, 73, 74, 75, 76, 77, 78, 79],\n",
       "       [80, 81, 82, 83, 84, 85, 86, 87, 88, 89],\n",
       "       [90, 91, 92, 93, 94, 95, 96, 97, 98, 99]])"
      ]
     },
     "execution_count": 32,
     "metadata": {},
     "output_type": "execute_result"
    }
   ],
   "source": [
    "a = np.arange(100).reshape((10, 10))\n",
    "a"
   ]
  },
  {
   "cell_type": "markdown",
   "metadata": {},
   "source": [
    "#### b)"
   ]
  },
  {
   "cell_type": "code",
   "execution_count": 33,
   "metadata": {},
   "outputs": [
    {
     "name": "stdout",
     "output_type": "stream",
     "text": [
      "[0. 0. 0. 0. 0. 0. 0. 0. 0. 0. 0. 0. 0. 0. 0. 0. 0. 0. 0. 0. 0. 0. 0. 0.\n",
      " 0. 0. 0. 0. 0. 0. 0. 0. 0. 0. 0. 0. 0. 0. 0. 0. 0. 0. 0. 0. 0. 0. 0. 0.\n",
      " 0. 0.]\n",
      "[1. 1. 1. 1. 1. 1. 1. 1. 1. 1. 1. 1. 1. 1. 1. 1. 1. 1. 1. 1. 1. 1. 1. 1.\n",
      " 1. 1. 1. 1. 1. 1. 1. 1. 1. 1. 1. 1. 1. 1. 1. 1. 1. 1. 1. 1. 1. 1. 1. 1.\n",
      " 1. 1.]\n"
     ]
    }
   ],
   "source": [
    "a = np.zeros(50)\n",
    "print(a)\n",
    "b = np.ones(50)\n",
    "print(b)"
   ]
  },
  {
   "cell_type": "code",
   "execution_count": 34,
   "metadata": {},
   "outputs": [
    {
     "data": {
      "text/plain": [
       "array([[0., 1., 0., 1., 0., 1., 0., 1., 0., 1.],\n",
       "       [0., 1., 0., 1., 0., 1., 0., 1., 0., 1.],\n",
       "       [0., 1., 0., 1., 0., 1., 0., 1., 0., 1.],\n",
       "       [0., 1., 0., 1., 0., 1., 0., 1., 0., 1.],\n",
       "       [0., 1., 0., 1., 0., 1., 0., 1., 0., 1.],\n",
       "       [0., 1., 0., 1., 0., 1., 0., 1., 0., 1.],\n",
       "       [0., 1., 0., 1., 0., 1., 0., 1., 0., 1.],\n",
       "       [0., 1., 0., 1., 0., 1., 0., 1., 0., 1.],\n",
       "       [0., 1., 0., 1., 0., 1., 0., 1., 0., 1.],\n",
       "       [0., 1., 0., 1., 0., 1., 0., 1., 0., 1.]])"
      ]
     },
     "execution_count": 34,
     "metadata": {},
     "output_type": "execute_result"
    }
   ],
   "source": [
    "c = np.dstack((a,b))\n",
    "c= c.reshape(10,10)\n",
    "c"
   ]
  },
  {
   "cell_type": "markdown",
   "metadata": {},
   "source": [
    "#### c)"
   ]
  },
  {
   "cell_type": "code",
   "execution_count": 35,
   "metadata": {},
   "outputs": [
    {
     "data": {
      "text/plain": [
       "array([-1., -1., -1., -1., -1., -1., -1., -1., -1., -1.])"
      ]
     },
     "execution_count": 35,
     "metadata": {},
     "output_type": "execute_result"
    }
   ],
   "source": [
    "# create array of 10 x -1\n",
    "a = np.zeros(10)\n",
    "a = a - 1\n",
    "a"
   ]
  },
  {
   "cell_type": "code",
   "execution_count": 36,
   "metadata": {},
   "outputs": [
    {
     "data": {
      "text/plain": [
       "array([[0., 1., 1., 1., 1., 1., 1., 1., 1., 1.],\n",
       "       [1., 0., 1., 1., 1., 1., 1., 1., 1., 1.],\n",
       "       [1., 1., 0., 1., 1., 1., 1., 1., 1., 1.],\n",
       "       [1., 1., 1., 0., 1., 1., 1., 1., 1., 1.],\n",
       "       [1., 1., 1., 1., 0., 1., 1., 1., 1., 1.],\n",
       "       [1., 1., 1., 1., 1., 0., 1., 1., 1., 1.],\n",
       "       [1., 1., 1., 1., 1., 1., 0., 1., 1., 1.],\n",
       "       [1., 1., 1., 1., 1., 1., 1., 0., 1., 1.],\n",
       "       [1., 1., 1., 1., 1., 1., 1., 1., 0., 1.],\n",
       "       [1., 1., 1., 1., 1., 1., 1., 1., 1., 0.]])"
      ]
     },
     "execution_count": 36,
     "metadata": {},
     "output_type": "execute_result"
    }
   ],
   "source": [
    "# make diagonal of -1 and add 1 to each element\n",
    "b = np.diag(a)\n",
    "b = b +1\n",
    "b"
   ]
  },
  {
   "cell_type": "markdown",
   "metadata": {},
   "source": [
    "#### d)"
   ]
  },
  {
   "cell_type": "code",
   "execution_count": 37,
   "metadata": {},
   "outputs": [
    {
     "data": {
      "text/plain": [
       "array([[1., 1., 1., 1., 1., 1., 1., 1., 1., 0.],\n",
       "       [1., 1., 1., 1., 1., 1., 1., 1., 0., 1.],\n",
       "       [1., 1., 1., 1., 1., 1., 1., 0., 1., 1.],\n",
       "       [1., 1., 1., 1., 1., 1., 0., 1., 1., 1.],\n",
       "       [1., 1., 1., 1., 1., 0., 1., 1., 1., 1.],\n",
       "       [1., 1., 1., 1., 0., 1., 1., 1., 1., 1.],\n",
       "       [1., 1., 1., 0., 1., 1., 1., 1., 1., 1.],\n",
       "       [1., 1., 0., 1., 1., 1., 1., 1., 1., 1.],\n",
       "       [1., 0., 1., 1., 1., 1., 1., 1., 1., 1.],\n",
       "       [0., 1., 1., 1., 1., 1., 1., 1., 1., 1.]])"
      ]
     },
     "execution_count": 37,
     "metadata": {},
     "output_type": "execute_result"
    }
   ],
   "source": [
    "# Flip the table\n",
    "c= np.fliplr(b)\n",
    "c\n"
   ]
  },
  {
   "cell_type": "markdown",
   "metadata": {},
   "source": [
    "#### e) \n",
    "det(CD) and det(C) * det(D), and show that they are the same. Why does this hold in this instance? Does it hold in general?"
   ]
  },
  {
   "cell_type": "code",
   "execution_count": 38,
   "metadata": {},
   "outputs": [
    {
     "data": {
      "text/plain": [
       "-81.00000000000003"
      ]
     },
     "execution_count": 38,
     "metadata": {},
     "output_type": "execute_result"
    }
   ],
   "source": [
    "dotBC = b.dot(c)\n",
    "detA = np.linalg.det(dotBC)\n",
    "detA"
   ]
  },
  {
   "cell_type": "code",
   "execution_count": 39,
   "metadata": {},
   "outputs": [
    {
     "data": {
      "text/plain": [
       "-81.0"
      ]
     },
     "execution_count": 39,
     "metadata": {},
     "output_type": "execute_result"
    }
   ],
   "source": [
    "detB = np.linalg.det(b)\n",
    "detC = np.linalg.det(c) \n",
    "detBdetC = detB * detC\n",
    "detBdetC"
   ]
  },
  {
   "cell_type": "markdown",
   "metadata": {},
   "source": [
    "-> det(BC) = det(B) * det(C)\n",
    "\n",
    "##### Why does it hold? Does it hold in other instances?\n",
    "It is a general rule that the determinant of two matrices product and the product of their determinants is the same. Therefore the rule holds in all instances.\n"
   ]
  },
  {
   "cell_type": "markdown",
   "metadata": {},
   "source": [
    "###  Slicing"
   ]
  },
  {
   "cell_type": "markdown",
   "metadata": {},
   "source": [
    "#### a)"
   ]
  },
  {
   "cell_type": "code",
   "execution_count": 44,
   "metadata": {
    "scrolled": true
   },
   "outputs": [
    {
     "name": "stdout",
     "output_type": "stream",
     "text": [
      "(506, 14)\n"
     ]
    },
    {
     "data": {
      "text/html": [
       "<div>\n",
       "<style scoped>\n",
       "    .dataframe tbody tr th:only-of-type {\n",
       "        vertical-align: middle;\n",
       "    }\n",
       "\n",
       "    .dataframe tbody tr th {\n",
       "        vertical-align: top;\n",
       "    }\n",
       "\n",
       "    .dataframe thead th {\n",
       "        text-align: right;\n",
       "    }\n",
       "</style>\n",
       "<table border=\"1\" class=\"dataframe\">\n",
       "  <thead>\n",
       "    <tr style=\"text-align: right;\">\n",
       "      <th></th>\n",
       "      <th>CRIM</th>\n",
       "      <th>ZN</th>\n",
       "      <th>INDUS</th>\n",
       "      <th>CHAS</th>\n",
       "      <th>NOX</th>\n",
       "      <th>RM</th>\n",
       "      <th>AGE</th>\n",
       "      <th>DIS</th>\n",
       "      <th>RAD</th>\n",
       "      <th>TAX</th>\n",
       "      <th>PTRATIO</th>\n",
       "      <th>B</th>\n",
       "      <th>LSTAT</th>\n",
       "      <th>target</th>\n",
       "    </tr>\n",
       "  </thead>\n",
       "  <tbody>\n",
       "    <tr>\n",
       "      <td>0</td>\n",
       "      <td>0.00632</td>\n",
       "      <td>18.0</td>\n",
       "      <td>2.31</td>\n",
       "      <td>0.0</td>\n",
       "      <td>0.538</td>\n",
       "      <td>6.575</td>\n",
       "      <td>65.2</td>\n",
       "      <td>4.0900</td>\n",
       "      <td>1.0</td>\n",
       "      <td>296.0</td>\n",
       "      <td>15.3</td>\n",
       "      <td>396.90</td>\n",
       "      <td>4.98</td>\n",
       "      <td>24.0</td>\n",
       "    </tr>\n",
       "    <tr>\n",
       "      <td>1</td>\n",
       "      <td>0.02731</td>\n",
       "      <td>0.0</td>\n",
       "      <td>7.07</td>\n",
       "      <td>0.0</td>\n",
       "      <td>0.469</td>\n",
       "      <td>6.421</td>\n",
       "      <td>78.9</td>\n",
       "      <td>4.9671</td>\n",
       "      <td>2.0</td>\n",
       "      <td>242.0</td>\n",
       "      <td>17.8</td>\n",
       "      <td>396.90</td>\n",
       "      <td>9.14</td>\n",
       "      <td>21.6</td>\n",
       "    </tr>\n",
       "    <tr>\n",
       "      <td>2</td>\n",
       "      <td>0.02729</td>\n",
       "      <td>0.0</td>\n",
       "      <td>7.07</td>\n",
       "      <td>0.0</td>\n",
       "      <td>0.469</td>\n",
       "      <td>7.185</td>\n",
       "      <td>61.1</td>\n",
       "      <td>4.9671</td>\n",
       "      <td>2.0</td>\n",
       "      <td>242.0</td>\n",
       "      <td>17.8</td>\n",
       "      <td>392.83</td>\n",
       "      <td>4.03</td>\n",
       "      <td>34.7</td>\n",
       "    </tr>\n",
       "    <tr>\n",
       "      <td>3</td>\n",
       "      <td>0.03237</td>\n",
       "      <td>0.0</td>\n",
       "      <td>2.18</td>\n",
       "      <td>0.0</td>\n",
       "      <td>0.458</td>\n",
       "      <td>6.998</td>\n",
       "      <td>45.8</td>\n",
       "      <td>6.0622</td>\n",
       "      <td>3.0</td>\n",
       "      <td>222.0</td>\n",
       "      <td>18.7</td>\n",
       "      <td>394.63</td>\n",
       "      <td>2.94</td>\n",
       "      <td>33.4</td>\n",
       "    </tr>\n",
       "    <tr>\n",
       "      <td>4</td>\n",
       "      <td>0.06905</td>\n",
       "      <td>0.0</td>\n",
       "      <td>2.18</td>\n",
       "      <td>0.0</td>\n",
       "      <td>0.458</td>\n",
       "      <td>7.147</td>\n",
       "      <td>54.2</td>\n",
       "      <td>6.0622</td>\n",
       "      <td>3.0</td>\n",
       "      <td>222.0</td>\n",
       "      <td>18.7</td>\n",
       "      <td>396.90</td>\n",
       "      <td>5.33</td>\n",
       "      <td>36.2</td>\n",
       "    </tr>\n",
       "  </tbody>\n",
       "</table>\n",
       "</div>"
      ],
      "text/plain": [
       "      CRIM    ZN  INDUS  CHAS    NOX     RM   AGE     DIS  RAD    TAX  \\\n",
       "0  0.00632  18.0   2.31   0.0  0.538  6.575  65.2  4.0900  1.0  296.0   \n",
       "1  0.02731   0.0   7.07   0.0  0.469  6.421  78.9  4.9671  2.0  242.0   \n",
       "2  0.02729   0.0   7.07   0.0  0.469  7.185  61.1  4.9671  2.0  242.0   \n",
       "3  0.03237   0.0   2.18   0.0  0.458  6.998  45.8  6.0622  3.0  222.0   \n",
       "4  0.06905   0.0   2.18   0.0  0.458  7.147  54.2  6.0622  3.0  222.0   \n",
       "\n",
       "   PTRATIO       B  LSTAT  target  \n",
       "0     15.3  396.90   4.98    24.0  \n",
       "1     17.8  396.90   9.14    21.6  \n",
       "2     17.8  392.83   4.03    34.7  \n",
       "3     18.7  394.63   2.94    33.4  \n",
       "4     18.7  396.90   5.33    36.2  "
      ]
     },
     "execution_count": 44,
     "metadata": {},
     "output_type": "execute_result"
    }
   ],
   "source": [
    "from sklearn import datasets\n",
    "dataset = sklearn.datasets.load_boston()\n",
    "\n",
    "\n",
    "df = pd.DataFrame(dataset.data, columns=dataset.feature_names)\n",
    "df['target'] = dataset.target\n",
    "print(df.shape)\n",
    "df.head()"
   ]
  },
  {
   "cell_type": "code",
   "execution_count": null,
   "metadata": {},
   "outputs": [],
   "source": []
  },
  {
   "cell_type": "code",
   "execution_count": 45,
   "metadata": {},
   "outputs": [
    {
     "data": {
      "text/plain": [
       "dict_keys(['data', 'target', 'feature_names', 'DESCR', 'filename'])"
      ]
     },
     "execution_count": 45,
     "metadata": {},
     "output_type": "execute_result"
    }
   ],
   "source": [
    "dataset.keys()"
   ]
  },
  {
   "cell_type": "code",
   "execution_count": 46,
   "metadata": {},
   "outputs": [
    {
     "name": "stdout",
     "output_type": "stream",
     "text": [
      "(506, 13)\n",
      "(13,)\n"
     ]
    }
   ],
   "source": [
    "X = dataset['data']\n",
    "y = dataset['feature_names']\n",
    "print(X.shape)\n",
    "print(y.shape)"
   ]
  },
  {
   "cell_type": "code",
   "execution_count": 47,
   "metadata": {},
   "outputs": [
    {
     "data": {
      "text/plain": [
       "(13, 507)"
      ]
     },
     "execution_count": 47,
     "metadata": {},
     "output_type": "execute_result"
    }
   ],
   "source": [
    "ds = np.vstack((y, X)).T\n",
    "ds.shape\n"
   ]
  },
  {
   "cell_type": "code",
   "execution_count": 48,
   "metadata": {},
   "outputs": [
    {
     "data": {
      "text/plain": [
       "array([0.00632, 0.02731, 0.02729, 0.03237, 0.06905, 0.02985, 0.08829,\n",
       "       0.14455, 0.21124, 0.17004])"
      ]
     },
     "execution_count": 48,
     "metadata": {},
     "output_type": "execute_result"
    }
   ],
   "source": [
    "ds2 = X.T\n",
    "ds2.shape\n",
    "ds2[0,:10]"
   ]
  },
  {
   "cell_type": "markdown",
   "metadata": {},
   "source": [
    "#### b) crime 'CRIM' is higher than 1"
   ]
  },
  {
   "cell_type": "code",
   "execution_count": 49,
   "metadata": {},
   "outputs": [
    {
     "data": {
      "text/plain": [
       "array([[  1.05393,   0.     ,   8.14   , ...,  21.     , 386.85   ,\n",
       "          6.58   ],\n",
       "       [  1.25179,   0.     ,   8.14   , ...,  21.     , 376.57   ,\n",
       "         21.02   ],\n",
       "       [  1.23247,   0.     ,   8.14   , ...,  21.     , 396.9    ,\n",
       "         18.72   ],\n",
       "       ...,\n",
       "       [  3.67367,   0.     ,  18.1    , ...,  20.2    , 388.62   ,\n",
       "         10.58   ],\n",
       "       [  5.69175,   0.     ,  18.1    , ...,  20.2    , 392.68   ,\n",
       "         14.98   ],\n",
       "       [  4.83567,   0.     ,  18.1    , ...,  20.2    , 388.22   ,\n",
       "         11.45   ]])"
      ]
     },
     "execution_count": 49,
     "metadata": {},
     "output_type": "execute_result"
    }
   ],
   "source": [
    "rows = np.where(X[:,0] >1)\n",
    "result = X[rows]\n",
    "result"
   ]
  },
  {
   "cell_type": "code",
   "execution_count": 50,
   "metadata": {
    "scrolled": true
   },
   "outputs": [
    {
     "data": {
      "text/plain": [
       "(array([ 16,  20,  22,  29,  30,  31,  32,  33,  34, 131, 141, 142, 143,\n",
       "        144, 145, 146, 147, 148, 149, 150, 151, 152, 153, 154, 155, 156,\n",
       "        157, 158, 159, 160, 161, 162, 163, 164, 165, 166, 167, 168, 169,\n",
       "        170, 171, 310, 356, 357, 358, 359, 360, 361, 362, 363, 364, 365,\n",
       "        366, 367, 368, 369, 370, 371, 372, 373, 374, 375, 376, 377, 378,\n",
       "        379, 380, 381, 382, 383, 384, 385, 386, 387, 388, 389, 390, 391,\n",
       "        392, 393, 394, 395, 396, 397, 398, 399, 400, 401, 402, 403, 404,\n",
       "        405, 406, 407, 408, 409, 410, 411, 412, 413, 414, 415, 416, 417,\n",
       "        418, 419, 420, 421, 422, 423, 424, 425, 426, 427, 428, 429, 430,\n",
       "        431, 432, 433, 434, 435, 436, 437, 438, 439, 440, 441, 442, 443,\n",
       "        444, 445, 446, 447, 448, 449, 450, 451, 452, 453, 454, 455, 456,\n",
       "        457, 458, 459, 460, 461, 462, 463, 464, 465, 466, 467, 468, 469,\n",
       "        470, 471, 472, 473, 474, 475, 476, 477, 478, 479, 480, 481, 482,\n",
       "        483, 484, 485, 486, 487], dtype=int64),)"
      ]
     },
     "execution_count": 50,
     "metadata": {},
     "output_type": "execute_result"
    }
   ],
   "source": [
    "rows"
   ]
  },
  {
   "cell_type": "markdown",
   "metadata": {},
   "source": [
    "#### c) Select the rows where the pupil-to-teach ratio is between 16% and 18% (exclusive). "
   ]
  },
  {
   "cell_type": "code",
   "execution_count": 51,
   "metadata": {},
   "outputs": [
    {
     "data": {
      "text/plain": [
       "array(['CRIM', 'ZN', 'INDUS', 'CHAS', 'NOX', 'RM', 'AGE', 'DIS', 'RAD',\n",
       "       'TAX', 'PTRATIO', 'B', 'LSTAT'], dtype='<U7')"
      ]
     },
     "execution_count": 51,
     "metadata": {},
     "output_type": "execute_result"
    }
   ],
   "source": [
    "y"
   ]
  },
  {
   "cell_type": "code",
   "execution_count": 52,
   "metadata": {},
   "outputs": [
    {
     "data": {
      "text/plain": [
       "(array([10], dtype=int64),)"
      ]
     },
     "execution_count": 52,
     "metadata": {},
     "output_type": "execute_result"
    }
   ],
   "source": [
    "# Find index of ptratio\n",
    "ptrI = np.where(y =='PTRATIO')\n",
    "ptrI"
   ]
  },
  {
   "cell_type": "code",
   "execution_count": 53,
   "metadata": {},
   "outputs": [
    {
     "name": "stdout",
     "output_type": "stream",
     "text": [
      "(1, 13)\n",
      "[[2.2489e-01 1.2500e+01 7.8700e+00 0.0000e+00 5.2400e-01 6.3770e+00\n",
      "  9.4300e+01 6.3467e+00 5.0000e+00 3.1100e+02 1.5200e+01 3.9252e+02\n",
      "  2.0450e+01]]\n"
     ]
    }
   ],
   "source": [
    "rowsB = np.where((X[:,10] >16) & (X[:,10] <18))\n",
    "resultB = X[ptrI]\n",
    "print(resultB.shape)\n",
    "print(resultB)"
   ]
  },
  {
   "cell_type": "markdown",
   "metadata": {},
   "source": [
    "#### d) mean nitric oxides for houses over 25"
   ]
  },
  {
   "cell_type": "code",
   "execution_count": 54,
   "metadata": {},
   "outputs": [
    {
     "name": "stdout",
     "output_type": "stream",
     "text": [
      "[0.469  0.458  0.458  0.458  0.524  0.428  0.428  0.448  0.448  0.403\n",
      " 0.411  0.4161 0.426  0.449  0.489  0.445  0.445  0.445  0.445  0.52\n",
      " 0.52   0.605  0.605  0.605  0.605  0.605  0.605  0.51   0.51   0.488\n",
      " 0.488  0.488  0.488  0.488  0.488  0.488  0.488  0.437  0.437  0.437\n",
      " 0.437  0.437  0.437  0.401  0.401  0.422  0.404  0.404  0.404  0.403\n",
      " 0.403  0.415  0.4161 0.4161 0.489  0.55   0.507  0.507  0.507  0.504\n",
      " 0.504  0.504  0.504  0.504  0.504  0.504  0.507  0.507  0.507  0.507\n",
      " 0.507  0.431  0.431  0.431  0.394  0.647  0.647  0.647  0.647  0.647\n",
      " 0.647  0.647  0.647  0.647  0.575  0.575  0.464  0.464  0.447  0.447\n",
      " 0.447  0.447  0.447  0.4429 0.4429 0.4429 0.4429 0.401  0.4    0.411\n",
      " 0.411  0.411  0.437  0.437  0.4    0.433  0.433  0.472  0.472  0.472\n",
      " 0.472  0.442  0.484  0.429  0.41   0.718  0.631  0.631  0.631  0.631\n",
      " 0.668  0.659  0.597  0.614 ]\n",
      "<class 'numpy.ndarray'>\n"
     ]
    }
   ],
   "source": [
    "prices = dataset['target']\n",
    "priceI = np.where(prices >25)\n",
    "houses = X[priceI]\n",
    "nox = houses[:,4]\n",
    "\n",
    "print(nox)\n",
    "print(type(nox))"
   ]
  },
  {
   "cell_type": "code",
   "execution_count": 55,
   "metadata": {},
   "outputs": [
    {
     "name": "stdout",
     "output_type": "stream",
     "text": [
      "0.4921201612903226\n"
     ]
    }
   ],
   "source": [
    "noxmean = np.mean(nox)\n",
    "print(noxmean)"
   ]
  },
  {
   "cell_type": "markdown",
   "metadata": {},
   "source": [
    "## Exercise 2"
   ]
  },
  {
   "cell_type": "markdown",
   "metadata": {},
   "source": [
    "#### a) read json"
   ]
  },
  {
   "cell_type": "code",
   "execution_count": 102,
   "metadata": {},
   "outputs": [],
   "source": [
    "import json\n",
    "def load_tester(path):\n",
    "    with open(path) as f:\n",
    "        data = json.load(f)\n",
    "    return np.asarray(data)\n",
    "\n",
    "fpath = \"Automotive_5.json\""
   ]
  },
  {
   "cell_type": "code",
   "execution_count": 57,
   "metadata": {},
   "outputs": [
    {
     "name": "stdout",
     "output_type": "stream",
     "text": [
      "Index(['reviewerID', 'asin', 'reviewerName', 'helpful', 'reviewText',\n",
      "       'overall', 'summary', 'unixReviewTime', 'reviewTime'],\n",
      "      dtype='object')\n"
     ]
    },
    {
     "data": {
      "text/html": [
       "<div>\n",
       "<style scoped>\n",
       "    .dataframe tbody tr th:only-of-type {\n",
       "        vertical-align: middle;\n",
       "    }\n",
       "\n",
       "    .dataframe tbody tr th {\n",
       "        vertical-align: top;\n",
       "    }\n",
       "\n",
       "    .dataframe thead th {\n",
       "        text-align: right;\n",
       "    }\n",
       "</style>\n",
       "<table border=\"1\" class=\"dataframe\">\n",
       "  <thead>\n",
       "    <tr style=\"text-align: right;\">\n",
       "      <th></th>\n",
       "      <th>reviewerID</th>\n",
       "      <th>asin</th>\n",
       "      <th>reviewerName</th>\n",
       "      <th>helpful</th>\n",
       "      <th>reviewText</th>\n",
       "      <th>overall</th>\n",
       "      <th>summary</th>\n",
       "      <th>unixReviewTime</th>\n",
       "      <th>reviewTime</th>\n",
       "    </tr>\n",
       "  </thead>\n",
       "  <tbody>\n",
       "    <tr>\n",
       "      <td>0</td>\n",
       "      <td>A3F73SC1LY51OO</td>\n",
       "      <td>B00002243X</td>\n",
       "      <td>Alan Montgomery</td>\n",
       "      <td>[4, 4]</td>\n",
       "      <td>I needed a set of jumper cables for my new car...</td>\n",
       "      <td>5</td>\n",
       "      <td>Work Well - Should Have Bought Longer Ones</td>\n",
       "      <td>1313539200</td>\n",
       "      <td>08 17, 2011</td>\n",
       "    </tr>\n",
       "    <tr>\n",
       "      <td>1</td>\n",
       "      <td>A20S66SKYXULG2</td>\n",
       "      <td>B00002243X</td>\n",
       "      <td>alphonse</td>\n",
       "      <td>[1, 1]</td>\n",
       "      <td>These long cables work fine for my truck, but ...</td>\n",
       "      <td>4</td>\n",
       "      <td>Okay long cables</td>\n",
       "      <td>1315094400</td>\n",
       "      <td>09 4, 2011</td>\n",
       "    </tr>\n",
       "    <tr>\n",
       "      <td>2</td>\n",
       "      <td>A2I8LFSN2IS5EO</td>\n",
       "      <td>B00002243X</td>\n",
       "      <td>Chris</td>\n",
       "      <td>[0, 0]</td>\n",
       "      <td>Can't comment much on these since they have no...</td>\n",
       "      <td>5</td>\n",
       "      <td>Looks and feels heavy Duty</td>\n",
       "      <td>1374710400</td>\n",
       "      <td>07 25, 2013</td>\n",
       "    </tr>\n",
       "    <tr>\n",
       "      <td>3</td>\n",
       "      <td>A3GT2EWQSO45ZG</td>\n",
       "      <td>B00002243X</td>\n",
       "      <td>DeusEx</td>\n",
       "      <td>[19, 19]</td>\n",
       "      <td>I absolutley love Amazon!!!  For the price of ...</td>\n",
       "      <td>5</td>\n",
       "      <td>Excellent choice for Jumper Cables!!!</td>\n",
       "      <td>1292889600</td>\n",
       "      <td>12 21, 2010</td>\n",
       "    </tr>\n",
       "    <tr>\n",
       "      <td>4</td>\n",
       "      <td>A3ESWJPAVRPWB4</td>\n",
       "      <td>B00002243X</td>\n",
       "      <td>E. Hernandez</td>\n",
       "      <td>[0, 0]</td>\n",
       "      <td>I purchased the 12' feet long cable set and th...</td>\n",
       "      <td>5</td>\n",
       "      <td>Excellent, High Quality Starter Cables</td>\n",
       "      <td>1341360000</td>\n",
       "      <td>07 4, 2012</td>\n",
       "    </tr>\n",
       "    <tr>\n",
       "      <td>...</td>\n",
       "      <td>...</td>\n",
       "      <td>...</td>\n",
       "      <td>...</td>\n",
       "      <td>...</td>\n",
       "      <td>...</td>\n",
       "      <td>...</td>\n",
       "      <td>...</td>\n",
       "      <td>...</td>\n",
       "      <td>...</td>\n",
       "    </tr>\n",
       "    <tr>\n",
       "      <td>20468</td>\n",
       "      <td>A1KB43BI085A48</td>\n",
       "      <td>B00KIAQ8VW</td>\n",
       "      <td>Mike F.</td>\n",
       "      <td>[1, 1]</td>\n",
       "      <td>I've bought 10 of these over the past year to ...</td>\n",
       "      <td>5</td>\n",
       "      <td>Excellent quality for the price</td>\n",
       "      <td>1396915200</td>\n",
       "      <td>04 8, 2014</td>\n",
       "    </tr>\n",
       "    <tr>\n",
       "      <td>20469</td>\n",
       "      <td>A3HIUWKL4D853W</td>\n",
       "      <td>B00KIAQ8VW</td>\n",
       "      <td>RayH</td>\n",
       "      <td>[0, 0]</td>\n",
       "      <td>OK, I have to admit, the price of this item di...</td>\n",
       "      <td>2</td>\n",
       "      <td>Light weight neck and face cover with whimsica...</td>\n",
       "      <td>1391472000</td>\n",
       "      <td>02 4, 2014</td>\n",
       "    </tr>\n",
       "    <tr>\n",
       "      <td>20470</td>\n",
       "      <td>A1S95WASXJ02VX</td>\n",
       "      <td>B00KIAQ8VW</td>\n",
       "      <td>Roberto Aguilar Jr.</td>\n",
       "      <td>[0, 0]</td>\n",
       "      <td>I love my skull face mask. It makes me outstan...</td>\n",
       "      <td>5</td>\n",
       "      <td>I love to ride with my Skull Face Mask.</td>\n",
       "      <td>1386547200</td>\n",
       "      <td>12 9, 2013</td>\n",
       "    </tr>\n",
       "    <tr>\n",
       "      <td>20471</td>\n",
       "      <td>A2IID0Z6EHF5KP</td>\n",
       "      <td>B00KIAQ8VW</td>\n",
       "      <td>Soarer</td>\n",
       "      <td>[0, 0]</td>\n",
       "      <td>This mask of course as described is half-face ...</td>\n",
       "      <td>5</td>\n",
       "      <td>Great neck protection</td>\n",
       "      <td>1357171200</td>\n",
       "      <td>01 3, 2013</td>\n",
       "    </tr>\n",
       "    <tr>\n",
       "      <td>20472</td>\n",
       "      <td>A3HKZTFCPIK2OE</td>\n",
       "      <td>B00KIAQ8VW</td>\n",
       "      <td>SSG Barnes (ABN) \"James C. Barnes\"</td>\n",
       "      <td>[0, 0]</td>\n",
       "      <td>Good light weight for just cool nights or rain...</td>\n",
       "      <td>5</td>\n",
       "      <td>FACE MASK</td>\n",
       "      <td>1395100800</td>\n",
       "      <td>03 18, 2014</td>\n",
       "    </tr>\n",
       "  </tbody>\n",
       "</table>\n",
       "<p>20473 rows × 9 columns</p>\n",
       "</div>"
      ],
      "text/plain": [
       "           reviewerID        asin                        reviewerName  \\\n",
       "0      A3F73SC1LY51OO  B00002243X                     Alan Montgomery   \n",
       "1      A20S66SKYXULG2  B00002243X                            alphonse   \n",
       "2      A2I8LFSN2IS5EO  B00002243X                               Chris   \n",
       "3      A3GT2EWQSO45ZG  B00002243X                              DeusEx   \n",
       "4      A3ESWJPAVRPWB4  B00002243X                        E. Hernandez   \n",
       "...               ...         ...                                 ...   \n",
       "20468  A1KB43BI085A48  B00KIAQ8VW                             Mike F.   \n",
       "20469  A3HIUWKL4D853W  B00KIAQ8VW                                RayH   \n",
       "20470  A1S95WASXJ02VX  B00KIAQ8VW                 Roberto Aguilar Jr.   \n",
       "20471  A2IID0Z6EHF5KP  B00KIAQ8VW                              Soarer   \n",
       "20472  A3HKZTFCPIK2OE  B00KIAQ8VW  SSG Barnes (ABN) \"James C. Barnes\"   \n",
       "\n",
       "        helpful                                         reviewText  overall  \\\n",
       "0        [4, 4]  I needed a set of jumper cables for my new car...        5   \n",
       "1        [1, 1]  These long cables work fine for my truck, but ...        4   \n",
       "2        [0, 0]  Can't comment much on these since they have no...        5   \n",
       "3      [19, 19]  I absolutley love Amazon!!!  For the price of ...        5   \n",
       "4        [0, 0]  I purchased the 12' feet long cable set and th...        5   \n",
       "...         ...                                                ...      ...   \n",
       "20468    [1, 1]  I've bought 10 of these over the past year to ...        5   \n",
       "20469    [0, 0]  OK, I have to admit, the price of this item di...        2   \n",
       "20470    [0, 0]  I love my skull face mask. It makes me outstan...        5   \n",
       "20471    [0, 0]  This mask of course as described is half-face ...        5   \n",
       "20472    [0, 0]  Good light weight for just cool nights or rain...        5   \n",
       "\n",
       "                                                 summary  unixReviewTime  \\\n",
       "0             Work Well - Should Have Bought Longer Ones      1313539200   \n",
       "1                                       Okay long cables      1315094400   \n",
       "2                             Looks and feels heavy Duty      1374710400   \n",
       "3                  Excellent choice for Jumper Cables!!!      1292889600   \n",
       "4                 Excellent, High Quality Starter Cables      1341360000   \n",
       "...                                                  ...             ...   \n",
       "20468                    Excellent quality for the price      1396915200   \n",
       "20469  Light weight neck and face cover with whimsica...      1391472000   \n",
       "20470            I love to ride with my Skull Face Mask.      1386547200   \n",
       "20471                              Great neck protection      1357171200   \n",
       "20472                                          FACE MASK      1395100800   \n",
       "\n",
       "        reviewTime  \n",
       "0      08 17, 2011  \n",
       "1       09 4, 2011  \n",
       "2      07 25, 2013  \n",
       "3      12 21, 2010  \n",
       "4       07 4, 2012  \n",
       "...            ...  \n",
       "20468   04 8, 2014  \n",
       "20469   02 4, 2014  \n",
       "20470   12 9, 2013  \n",
       "20471   01 3, 2013  \n",
       "20472  03 18, 2014  \n",
       "\n",
       "[20473 rows x 9 columns]"
      ]
     },
     "execution_count": 57,
     "metadata": {},
     "output_type": "execute_result"
    }
   ],
   "source": [
    "dataj = pd.read_json('Automotive_5.json', lines=True)\n",
    "print(dataj.columns)\n",
    "dataj"
   ]
  },
  {
   "cell_type": "markdown",
   "metadata": {},
   "source": [
    "#### b) downcase the text"
   ]
  },
  {
   "cell_type": "code",
   "execution_count": 58,
   "metadata": {},
   "outputs": [
    {
     "data": {
      "text/html": [
       "<div>\n",
       "<style scoped>\n",
       "    .dataframe tbody tr th:only-of-type {\n",
       "        vertical-align: middle;\n",
       "    }\n",
       "\n",
       "    .dataframe tbody tr th {\n",
       "        vertical-align: top;\n",
       "    }\n",
       "\n",
       "    .dataframe thead th {\n",
       "        text-align: right;\n",
       "    }\n",
       "</style>\n",
       "<table border=\"1\" class=\"dataframe\">\n",
       "  <thead>\n",
       "    <tr style=\"text-align: right;\">\n",
       "      <th></th>\n",
       "      <th>reviewerID</th>\n",
       "      <th>asin</th>\n",
       "      <th>reviewerName</th>\n",
       "      <th>helpful</th>\n",
       "      <th>reviewText</th>\n",
       "      <th>overall</th>\n",
       "      <th>summary</th>\n",
       "      <th>unixReviewTime</th>\n",
       "      <th>reviewTime</th>\n",
       "    </tr>\n",
       "  </thead>\n",
       "  <tbody>\n",
       "    <tr>\n",
       "      <td>0</td>\n",
       "      <td>A3F73SC1LY51OO</td>\n",
       "      <td>B00002243X</td>\n",
       "      <td>Alan Montgomery</td>\n",
       "      <td>[4, 4]</td>\n",
       "      <td>i needed a set of jumper cables for my new car...</td>\n",
       "      <td>5</td>\n",
       "      <td>Work Well - Should Have Bought Longer Ones</td>\n",
       "      <td>1313539200</td>\n",
       "      <td>08 17, 2011</td>\n",
       "    </tr>\n",
       "    <tr>\n",
       "      <td>1</td>\n",
       "      <td>A20S66SKYXULG2</td>\n",
       "      <td>B00002243X</td>\n",
       "      <td>alphonse</td>\n",
       "      <td>[1, 1]</td>\n",
       "      <td>these long cables work fine for my truck, but ...</td>\n",
       "      <td>4</td>\n",
       "      <td>Okay long cables</td>\n",
       "      <td>1315094400</td>\n",
       "      <td>09 4, 2011</td>\n",
       "    </tr>\n",
       "    <tr>\n",
       "      <td>2</td>\n",
       "      <td>A2I8LFSN2IS5EO</td>\n",
       "      <td>B00002243X</td>\n",
       "      <td>Chris</td>\n",
       "      <td>[0, 0]</td>\n",
       "      <td>can't comment much on these since they have no...</td>\n",
       "      <td>5</td>\n",
       "      <td>Looks and feels heavy Duty</td>\n",
       "      <td>1374710400</td>\n",
       "      <td>07 25, 2013</td>\n",
       "    </tr>\n",
       "    <tr>\n",
       "      <td>3</td>\n",
       "      <td>A3GT2EWQSO45ZG</td>\n",
       "      <td>B00002243X</td>\n",
       "      <td>DeusEx</td>\n",
       "      <td>[19, 19]</td>\n",
       "      <td>i absolutley love amazon!!!  for the price of ...</td>\n",
       "      <td>5</td>\n",
       "      <td>Excellent choice for Jumper Cables!!!</td>\n",
       "      <td>1292889600</td>\n",
       "      <td>12 21, 2010</td>\n",
       "    </tr>\n",
       "    <tr>\n",
       "      <td>4</td>\n",
       "      <td>A3ESWJPAVRPWB4</td>\n",
       "      <td>B00002243X</td>\n",
       "      <td>E. Hernandez</td>\n",
       "      <td>[0, 0]</td>\n",
       "      <td>i purchased the 12' feet long cable set and th...</td>\n",
       "      <td>5</td>\n",
       "      <td>Excellent, High Quality Starter Cables</td>\n",
       "      <td>1341360000</td>\n",
       "      <td>07 4, 2012</td>\n",
       "    </tr>\n",
       "    <tr>\n",
       "      <td>...</td>\n",
       "      <td>...</td>\n",
       "      <td>...</td>\n",
       "      <td>...</td>\n",
       "      <td>...</td>\n",
       "      <td>...</td>\n",
       "      <td>...</td>\n",
       "      <td>...</td>\n",
       "      <td>...</td>\n",
       "      <td>...</td>\n",
       "    </tr>\n",
       "    <tr>\n",
       "      <td>20468</td>\n",
       "      <td>A1KB43BI085A48</td>\n",
       "      <td>B00KIAQ8VW</td>\n",
       "      <td>Mike F.</td>\n",
       "      <td>[1, 1]</td>\n",
       "      <td>i've bought 10 of these over the past year to ...</td>\n",
       "      <td>5</td>\n",
       "      <td>Excellent quality for the price</td>\n",
       "      <td>1396915200</td>\n",
       "      <td>04 8, 2014</td>\n",
       "    </tr>\n",
       "    <tr>\n",
       "      <td>20469</td>\n",
       "      <td>A3HIUWKL4D853W</td>\n",
       "      <td>B00KIAQ8VW</td>\n",
       "      <td>RayH</td>\n",
       "      <td>[0, 0]</td>\n",
       "      <td>ok, i have to admit, the price of this item di...</td>\n",
       "      <td>2</td>\n",
       "      <td>Light weight neck and face cover with whimsica...</td>\n",
       "      <td>1391472000</td>\n",
       "      <td>02 4, 2014</td>\n",
       "    </tr>\n",
       "    <tr>\n",
       "      <td>20470</td>\n",
       "      <td>A1S95WASXJ02VX</td>\n",
       "      <td>B00KIAQ8VW</td>\n",
       "      <td>Roberto Aguilar Jr.</td>\n",
       "      <td>[0, 0]</td>\n",
       "      <td>i love my skull face mask. it makes me outstan...</td>\n",
       "      <td>5</td>\n",
       "      <td>I love to ride with my Skull Face Mask.</td>\n",
       "      <td>1386547200</td>\n",
       "      <td>12 9, 2013</td>\n",
       "    </tr>\n",
       "    <tr>\n",
       "      <td>20471</td>\n",
       "      <td>A2IID0Z6EHF5KP</td>\n",
       "      <td>B00KIAQ8VW</td>\n",
       "      <td>Soarer</td>\n",
       "      <td>[0, 0]</td>\n",
       "      <td>this mask of course as described is half-face ...</td>\n",
       "      <td>5</td>\n",
       "      <td>Great neck protection</td>\n",
       "      <td>1357171200</td>\n",
       "      <td>01 3, 2013</td>\n",
       "    </tr>\n",
       "    <tr>\n",
       "      <td>20472</td>\n",
       "      <td>A3HKZTFCPIK2OE</td>\n",
       "      <td>B00KIAQ8VW</td>\n",
       "      <td>SSG Barnes (ABN) \"James C. Barnes\"</td>\n",
       "      <td>[0, 0]</td>\n",
       "      <td>good light weight for just cool nights or rain...</td>\n",
       "      <td>5</td>\n",
       "      <td>FACE MASK</td>\n",
       "      <td>1395100800</td>\n",
       "      <td>03 18, 2014</td>\n",
       "    </tr>\n",
       "  </tbody>\n",
       "</table>\n",
       "<p>20473 rows × 9 columns</p>\n",
       "</div>"
      ],
      "text/plain": [
       "           reviewerID        asin                        reviewerName  \\\n",
       "0      A3F73SC1LY51OO  B00002243X                     Alan Montgomery   \n",
       "1      A20S66SKYXULG2  B00002243X                            alphonse   \n",
       "2      A2I8LFSN2IS5EO  B00002243X                               Chris   \n",
       "3      A3GT2EWQSO45ZG  B00002243X                              DeusEx   \n",
       "4      A3ESWJPAVRPWB4  B00002243X                        E. Hernandez   \n",
       "...               ...         ...                                 ...   \n",
       "20468  A1KB43BI085A48  B00KIAQ8VW                             Mike F.   \n",
       "20469  A3HIUWKL4D853W  B00KIAQ8VW                                RayH   \n",
       "20470  A1S95WASXJ02VX  B00KIAQ8VW                 Roberto Aguilar Jr.   \n",
       "20471  A2IID0Z6EHF5KP  B00KIAQ8VW                              Soarer   \n",
       "20472  A3HKZTFCPIK2OE  B00KIAQ8VW  SSG Barnes (ABN) \"James C. Barnes\"   \n",
       "\n",
       "        helpful                                         reviewText  overall  \\\n",
       "0        [4, 4]  i needed a set of jumper cables for my new car...        5   \n",
       "1        [1, 1]  these long cables work fine for my truck, but ...        4   \n",
       "2        [0, 0]  can't comment much on these since they have no...        5   \n",
       "3      [19, 19]  i absolutley love amazon!!!  for the price of ...        5   \n",
       "4        [0, 0]  i purchased the 12' feet long cable set and th...        5   \n",
       "...         ...                                                ...      ...   \n",
       "20468    [1, 1]  i've bought 10 of these over the past year to ...        5   \n",
       "20469    [0, 0]  ok, i have to admit, the price of this item di...        2   \n",
       "20470    [0, 0]  i love my skull face mask. it makes me outstan...        5   \n",
       "20471    [0, 0]  this mask of course as described is half-face ...        5   \n",
       "20472    [0, 0]  good light weight for just cool nights or rain...        5   \n",
       "\n",
       "                                                 summary  unixReviewTime  \\\n",
       "0             Work Well - Should Have Bought Longer Ones      1313539200   \n",
       "1                                       Okay long cables      1315094400   \n",
       "2                             Looks and feels heavy Duty      1374710400   \n",
       "3                  Excellent choice for Jumper Cables!!!      1292889600   \n",
       "4                 Excellent, High Quality Starter Cables      1341360000   \n",
       "...                                                  ...             ...   \n",
       "20468                    Excellent quality for the price      1396915200   \n",
       "20469  Light weight neck and face cover with whimsica...      1391472000   \n",
       "20470            I love to ride with my Skull Face Mask.      1386547200   \n",
       "20471                              Great neck protection      1357171200   \n",
       "20472                                          FACE MASK      1395100800   \n",
       "\n",
       "        reviewTime  \n",
       "0      08 17, 2011  \n",
       "1       09 4, 2011  \n",
       "2      07 25, 2013  \n",
       "3      12 21, 2010  \n",
       "4       07 4, 2012  \n",
       "...            ...  \n",
       "20468   04 8, 2014  \n",
       "20469   02 4, 2014  \n",
       "20470   12 9, 2013  \n",
       "20471   01 3, 2013  \n",
       "20472  03 18, 2014  \n",
       "\n",
       "[20473 rows x 9 columns]"
      ]
     },
     "execution_count": 58,
     "metadata": {},
     "output_type": "execute_result"
    }
   ],
   "source": [
    "dataj['reviewText'] = dataj['reviewText'].str.lower()\n",
    "dataj"
   ]
  },
  {
   "cell_type": "markdown",
   "metadata": {},
   "source": [
    "#### c) remove punctuation and stopwords"
   ]
  },
  {
   "cell_type": "code",
   "execution_count": 59,
   "metadata": {},
   "outputs": [
    {
     "data": {
      "text/html": [
       "<div>\n",
       "<style scoped>\n",
       "    .dataframe tbody tr th:only-of-type {\n",
       "        vertical-align: middle;\n",
       "    }\n",
       "\n",
       "    .dataframe tbody tr th {\n",
       "        vertical-align: top;\n",
       "    }\n",
       "\n",
       "    .dataframe thead th {\n",
       "        text-align: right;\n",
       "    }\n",
       "</style>\n",
       "<table border=\"1\" class=\"dataframe\">\n",
       "  <thead>\n",
       "    <tr style=\"text-align: right;\">\n",
       "      <th></th>\n",
       "      <th>reviewerID</th>\n",
       "      <th>asin</th>\n",
       "      <th>reviewerName</th>\n",
       "      <th>helpful</th>\n",
       "      <th>reviewText</th>\n",
       "      <th>overall</th>\n",
       "      <th>summary</th>\n",
       "      <th>unixReviewTime</th>\n",
       "      <th>reviewTime</th>\n",
       "    </tr>\n",
       "  </thead>\n",
       "  <tbody>\n",
       "    <tr>\n",
       "      <td>0</td>\n",
       "      <td>A3F73SC1LY51OO</td>\n",
       "      <td>B00002243X</td>\n",
       "      <td>Alan Montgomery</td>\n",
       "      <td>[4, 4]</td>\n",
       "      <td>i needed a set of jumper cables for my new car...</td>\n",
       "      <td>5</td>\n",
       "      <td>Work Well - Should Have Bought Longer Ones</td>\n",
       "      <td>1313539200</td>\n",
       "      <td>08 17, 2011</td>\n",
       "    </tr>\n",
       "    <tr>\n",
       "      <td>1</td>\n",
       "      <td>A20S66SKYXULG2</td>\n",
       "      <td>B00002243X</td>\n",
       "      <td>alphonse</td>\n",
       "      <td>[1, 1]</td>\n",
       "      <td>these long cables work fine for my truck but t...</td>\n",
       "      <td>4</td>\n",
       "      <td>Okay long cables</td>\n",
       "      <td>1315094400</td>\n",
       "      <td>09 4, 2011</td>\n",
       "    </tr>\n",
       "    <tr>\n",
       "      <td>2</td>\n",
       "      <td>A2I8LFSN2IS5EO</td>\n",
       "      <td>B00002243X</td>\n",
       "      <td>Chris</td>\n",
       "      <td>[0, 0]</td>\n",
       "      <td>cant comment much on these since they have not...</td>\n",
       "      <td>5</td>\n",
       "      <td>Looks and feels heavy Duty</td>\n",
       "      <td>1374710400</td>\n",
       "      <td>07 25, 2013</td>\n",
       "    </tr>\n",
       "    <tr>\n",
       "      <td>3</td>\n",
       "      <td>A3GT2EWQSO45ZG</td>\n",
       "      <td>B00002243X</td>\n",
       "      <td>DeusEx</td>\n",
       "      <td>[19, 19]</td>\n",
       "      <td>i absolutley love amazon  for the price of a s...</td>\n",
       "      <td>5</td>\n",
       "      <td>Excellent choice for Jumper Cables!!!</td>\n",
       "      <td>1292889600</td>\n",
       "      <td>12 21, 2010</td>\n",
       "    </tr>\n",
       "    <tr>\n",
       "      <td>4</td>\n",
       "      <td>A3ESWJPAVRPWB4</td>\n",
       "      <td>B00002243X</td>\n",
       "      <td>E. Hernandez</td>\n",
       "      <td>[0, 0]</td>\n",
       "      <td>i purchased the 12 feet long cable set and the...</td>\n",
       "      <td>5</td>\n",
       "      <td>Excellent, High Quality Starter Cables</td>\n",
       "      <td>1341360000</td>\n",
       "      <td>07 4, 2012</td>\n",
       "    </tr>\n",
       "    <tr>\n",
       "      <td>...</td>\n",
       "      <td>...</td>\n",
       "      <td>...</td>\n",
       "      <td>...</td>\n",
       "      <td>...</td>\n",
       "      <td>...</td>\n",
       "      <td>...</td>\n",
       "      <td>...</td>\n",
       "      <td>...</td>\n",
       "      <td>...</td>\n",
       "    </tr>\n",
       "    <tr>\n",
       "      <td>20468</td>\n",
       "      <td>A1KB43BI085A48</td>\n",
       "      <td>B00KIAQ8VW</td>\n",
       "      <td>Mike F.</td>\n",
       "      <td>[1, 1]</td>\n",
       "      <td>ive bought 10 of these over the past year to g...</td>\n",
       "      <td>5</td>\n",
       "      <td>Excellent quality for the price</td>\n",
       "      <td>1396915200</td>\n",
       "      <td>04 8, 2014</td>\n",
       "    </tr>\n",
       "    <tr>\n",
       "      <td>20469</td>\n",
       "      <td>A3HIUWKL4D853W</td>\n",
       "      <td>B00KIAQ8VW</td>\n",
       "      <td>RayH</td>\n",
       "      <td>[0, 0]</td>\n",
       "      <td>ok i have to admit the price of this item did ...</td>\n",
       "      <td>2</td>\n",
       "      <td>Light weight neck and face cover with whimsica...</td>\n",
       "      <td>1391472000</td>\n",
       "      <td>02 4, 2014</td>\n",
       "    </tr>\n",
       "    <tr>\n",
       "      <td>20470</td>\n",
       "      <td>A1S95WASXJ02VX</td>\n",
       "      <td>B00KIAQ8VW</td>\n",
       "      <td>Roberto Aguilar Jr.</td>\n",
       "      <td>[0, 0]</td>\n",
       "      <td>i love my skull face mask it makes me outstand...</td>\n",
       "      <td>5</td>\n",
       "      <td>I love to ride with my Skull Face Mask.</td>\n",
       "      <td>1386547200</td>\n",
       "      <td>12 9, 2013</td>\n",
       "    </tr>\n",
       "    <tr>\n",
       "      <td>20471</td>\n",
       "      <td>A2IID0Z6EHF5KP</td>\n",
       "      <td>B00KIAQ8VW</td>\n",
       "      <td>Soarer</td>\n",
       "      <td>[0, 0]</td>\n",
       "      <td>this mask of course as described is halfface b...</td>\n",
       "      <td>5</td>\n",
       "      <td>Great neck protection</td>\n",
       "      <td>1357171200</td>\n",
       "      <td>01 3, 2013</td>\n",
       "    </tr>\n",
       "    <tr>\n",
       "      <td>20472</td>\n",
       "      <td>A3HKZTFCPIK2OE</td>\n",
       "      <td>B00KIAQ8VW</td>\n",
       "      <td>SSG Barnes (ABN) \"James C. Barnes\"</td>\n",
       "      <td>[0, 0]</td>\n",
       "      <td>good light weight for just cool nights or rain...</td>\n",
       "      <td>5</td>\n",
       "      <td>FACE MASK</td>\n",
       "      <td>1395100800</td>\n",
       "      <td>03 18, 2014</td>\n",
       "    </tr>\n",
       "  </tbody>\n",
       "</table>\n",
       "<p>20473 rows × 9 columns</p>\n",
       "</div>"
      ],
      "text/plain": [
       "           reviewerID        asin                        reviewerName  \\\n",
       "0      A3F73SC1LY51OO  B00002243X                     Alan Montgomery   \n",
       "1      A20S66SKYXULG2  B00002243X                            alphonse   \n",
       "2      A2I8LFSN2IS5EO  B00002243X                               Chris   \n",
       "3      A3GT2EWQSO45ZG  B00002243X                              DeusEx   \n",
       "4      A3ESWJPAVRPWB4  B00002243X                        E. Hernandez   \n",
       "...               ...         ...                                 ...   \n",
       "20468  A1KB43BI085A48  B00KIAQ8VW                             Mike F.   \n",
       "20469  A3HIUWKL4D853W  B00KIAQ8VW                                RayH   \n",
       "20470  A1S95WASXJ02VX  B00KIAQ8VW                 Roberto Aguilar Jr.   \n",
       "20471  A2IID0Z6EHF5KP  B00KIAQ8VW                              Soarer   \n",
       "20472  A3HKZTFCPIK2OE  B00KIAQ8VW  SSG Barnes (ABN) \"James C. Barnes\"   \n",
       "\n",
       "        helpful                                         reviewText  overall  \\\n",
       "0        [4, 4]  i needed a set of jumper cables for my new car...        5   \n",
       "1        [1, 1]  these long cables work fine for my truck but t...        4   \n",
       "2        [0, 0]  cant comment much on these since they have not...        5   \n",
       "3      [19, 19]  i absolutley love amazon  for the price of a s...        5   \n",
       "4        [0, 0]  i purchased the 12 feet long cable set and the...        5   \n",
       "...         ...                                                ...      ...   \n",
       "20468    [1, 1]  ive bought 10 of these over the past year to g...        5   \n",
       "20469    [0, 0]  ok i have to admit the price of this item did ...        2   \n",
       "20470    [0, 0]  i love my skull face mask it makes me outstand...        5   \n",
       "20471    [0, 0]  this mask of course as described is halfface b...        5   \n",
       "20472    [0, 0]  good light weight for just cool nights or rain...        5   \n",
       "\n",
       "                                                 summary  unixReviewTime  \\\n",
       "0             Work Well - Should Have Bought Longer Ones      1313539200   \n",
       "1                                       Okay long cables      1315094400   \n",
       "2                             Looks and feels heavy Duty      1374710400   \n",
       "3                  Excellent choice for Jumper Cables!!!      1292889600   \n",
       "4                 Excellent, High Quality Starter Cables      1341360000   \n",
       "...                                                  ...             ...   \n",
       "20468                    Excellent quality for the price      1396915200   \n",
       "20469  Light weight neck and face cover with whimsica...      1391472000   \n",
       "20470            I love to ride with my Skull Face Mask.      1386547200   \n",
       "20471                              Great neck protection      1357171200   \n",
       "20472                                          FACE MASK      1395100800   \n",
       "\n",
       "        reviewTime  \n",
       "0      08 17, 2011  \n",
       "1       09 4, 2011  \n",
       "2      07 25, 2013  \n",
       "3      12 21, 2010  \n",
       "4       07 4, 2012  \n",
       "...            ...  \n",
       "20468   04 8, 2014  \n",
       "20469   02 4, 2014  \n",
       "20470   12 9, 2013  \n",
       "20471   01 3, 2013  \n",
       "20472  03 18, 2014  \n",
       "\n",
       "[20473 rows x 9 columns]"
      ]
     },
     "execution_count": 59,
     "metadata": {},
     "output_type": "execute_result"
    }
   ],
   "source": [
    "import string\n",
    "dataj['reviewText']= dataj['reviewText'].str.replace('[{}]'.format(string.punctuation),'')\n",
    "dataj"
   ]
  },
  {
   "cell_type": "code",
   "execution_count": 103,
   "metadata": {},
   "outputs": [
    {
     "data": {
      "text/html": [
       "<div>\n",
       "<style scoped>\n",
       "    .dataframe tbody tr th:only-of-type {\n",
       "        vertical-align: middle;\n",
       "    }\n",
       "\n",
       "    .dataframe tbody tr th {\n",
       "        vertical-align: top;\n",
       "    }\n",
       "\n",
       "    .dataframe thead th {\n",
       "        text-align: right;\n",
       "    }\n",
       "</style>\n",
       "<table border=\"1\" class=\"dataframe\">\n",
       "  <thead>\n",
       "    <tr style=\"text-align: right;\">\n",
       "      <th></th>\n",
       "      <th>reviewerID</th>\n",
       "      <th>asin</th>\n",
       "      <th>reviewerName</th>\n",
       "      <th>helpful</th>\n",
       "      <th>reviewText</th>\n",
       "      <th>overall</th>\n",
       "      <th>summary</th>\n",
       "      <th>unixReviewTime</th>\n",
       "      <th>reviewTime</th>\n",
       "    </tr>\n",
       "  </thead>\n",
       "  <tbody>\n",
       "    <tr>\n",
       "      <td>0</td>\n",
       "      <td>A3F73SC1LY51OO</td>\n",
       "      <td>B00002243X</td>\n",
       "      <td>Alan Montgomery</td>\n",
       "      <td>[4, 4]</td>\n",
       "      <td>need set jumper cabl new car good review good ...</td>\n",
       "      <td>5</td>\n",
       "      <td>Work Well - Should Have Bought Longer Ones</td>\n",
       "      <td>1313539200</td>\n",
       "      <td>08 17, 2011</td>\n",
       "    </tr>\n",
       "    <tr>\n",
       "      <td>1</td>\n",
       "      <td>A20S66SKYXULG2</td>\n",
       "      <td>B00002243X</td>\n",
       "      <td>alphonse</td>\n",
       "      <td>[1, 1]</td>\n",
       "      <td>long cabl work fine truck qualiti seem littl s...</td>\n",
       "      <td>4</td>\n",
       "      <td>Okay long cables</td>\n",
       "      <td>1315094400</td>\n",
       "      <td>09 4, 2011</td>\n",
       "    </tr>\n",
       "    <tr>\n",
       "      <td>2</td>\n",
       "      <td>A2I8LFSN2IS5EO</td>\n",
       "      <td>B00002243X</td>\n",
       "      <td>Chris</td>\n",
       "      <td>[0, 0]</td>\n",
       "      <td>cant comment much use come back updat review f...</td>\n",
       "      <td>5</td>\n",
       "      <td>Looks and feels heavy Duty</td>\n",
       "      <td>1374710400</td>\n",
       "      <td>07 25, 2013</td>\n",
       "    </tr>\n",
       "    <tr>\n",
       "      <td>3</td>\n",
       "      <td>A3GT2EWQSO45ZG</td>\n",
       "      <td>B00002243X</td>\n",
       "      <td>DeusEx</td>\n",
       "      <td>[19, 19]</td>\n",
       "      <td>absolutley love amazon price set cheap booster...</td>\n",
       "      <td>5</td>\n",
       "      <td>Excellent choice for Jumper Cables!!!</td>\n",
       "      <td>1292889600</td>\n",
       "      <td>12 21, 2010</td>\n",
       "    </tr>\n",
       "    <tr>\n",
       "      <td>4</td>\n",
       "      <td>A3ESWJPAVRPWB4</td>\n",
       "      <td>B00002243X</td>\n",
       "      <td>E. Hernandez</td>\n",
       "      <td>[0, 0]</td>\n",
       "      <td>purchas 12 feet long cabl set arriv retail car...</td>\n",
       "      <td>5</td>\n",
       "      <td>Excellent, High Quality Starter Cables</td>\n",
       "      <td>1341360000</td>\n",
       "      <td>07 4, 2012</td>\n",
       "    </tr>\n",
       "    <tr>\n",
       "      <td>...</td>\n",
       "      <td>...</td>\n",
       "      <td>...</td>\n",
       "      <td>...</td>\n",
       "      <td>...</td>\n",
       "      <td>...</td>\n",
       "      <td>...</td>\n",
       "      <td>...</td>\n",
       "      <td>...</td>\n",
       "      <td>...</td>\n",
       "    </tr>\n",
       "    <tr>\n",
       "      <td>20468</td>\n",
       "      <td>A1KB43BI085A48</td>\n",
       "      <td>B00KIAQ8VW</td>\n",
       "      <td>Mike F.</td>\n",
       "      <td>[1, 1]</td>\n",
       "      <td>ive bought 10 over past year give gift friend ...</td>\n",
       "      <td>5</td>\n",
       "      <td>Excellent quality for the price</td>\n",
       "      <td>1396915200</td>\n",
       "      <td>04 8, 2014</td>\n",
       "    </tr>\n",
       "    <tr>\n",
       "      <td>20469</td>\n",
       "      <td>A3HIUWKL4D853W</td>\n",
       "      <td>B00KIAQ8VW</td>\n",
       "      <td>RayH</td>\n",
       "      <td>[0, 0]</td>\n",
       "      <td>ok admit price item expect unfairli high strai...</td>\n",
       "      <td>2</td>\n",
       "      <td>Light weight neck and face cover with whimsica...</td>\n",
       "      <td>1391472000</td>\n",
       "      <td>02 4, 2014</td>\n",
       "    </tr>\n",
       "    <tr>\n",
       "      <td>20470</td>\n",
       "      <td>A1S95WASXJ02VX</td>\n",
       "      <td>B00KIAQ8VW</td>\n",
       "      <td>Roberto Aguilar Jr.</td>\n",
       "      <td>[0, 0]</td>\n",
       "      <td>love skull face mask make outstand rest fellow...</td>\n",
       "      <td>5</td>\n",
       "      <td>I love to ride with my Skull Face Mask.</td>\n",
       "      <td>1386547200</td>\n",
       "      <td>12 9, 2013</td>\n",
       "    </tr>\n",
       "    <tr>\n",
       "      <td>20471</td>\n",
       "      <td>A2IID0Z6EHF5KP</td>\n",
       "      <td>B00KIAQ8VW</td>\n",
       "      <td>Soarer</td>\n",
       "      <td>[0, 0]</td>\n",
       "      <td>mask cours describ halffac long protect neck g...</td>\n",
       "      <td>5</td>\n",
       "      <td>Great neck protection</td>\n",
       "      <td>1357171200</td>\n",
       "      <td>01 3, 2013</td>\n",
       "    </tr>\n",
       "    <tr>\n",
       "      <td>20472</td>\n",
       "      <td>A3HKZTFCPIK2OE</td>\n",
       "      <td>B00KIAQ8VW</td>\n",
       "      <td>SSG Barnes (ABN) \"James C. Barnes\"</td>\n",
       "      <td>[0, 0]</td>\n",
       "      <td>good light weight cool night rain half helmet ...</td>\n",
       "      <td>5</td>\n",
       "      <td>FACE MASK</td>\n",
       "      <td>1395100800</td>\n",
       "      <td>03 18, 2014</td>\n",
       "    </tr>\n",
       "  </tbody>\n",
       "</table>\n",
       "<p>20473 rows × 9 columns</p>\n",
       "</div>"
      ],
      "text/plain": [
       "           reviewerID        asin                        reviewerName  \\\n",
       "0      A3F73SC1LY51OO  B00002243X                     Alan Montgomery   \n",
       "1      A20S66SKYXULG2  B00002243X                            alphonse   \n",
       "2      A2I8LFSN2IS5EO  B00002243X                               Chris   \n",
       "3      A3GT2EWQSO45ZG  B00002243X                              DeusEx   \n",
       "4      A3ESWJPAVRPWB4  B00002243X                        E. Hernandez   \n",
       "...               ...         ...                                 ...   \n",
       "20468  A1KB43BI085A48  B00KIAQ8VW                             Mike F.   \n",
       "20469  A3HIUWKL4D853W  B00KIAQ8VW                                RayH   \n",
       "20470  A1S95WASXJ02VX  B00KIAQ8VW                 Roberto Aguilar Jr.   \n",
       "20471  A2IID0Z6EHF5KP  B00KIAQ8VW                              Soarer   \n",
       "20472  A3HKZTFCPIK2OE  B00KIAQ8VW  SSG Barnes (ABN) \"James C. Barnes\"   \n",
       "\n",
       "        helpful                                         reviewText  overall  \\\n",
       "0        [4, 4]  need set jumper cabl new car good review good ...        5   \n",
       "1        [1, 1]  long cabl work fine truck qualiti seem littl s...        4   \n",
       "2        [0, 0]  cant comment much use come back updat review f...        5   \n",
       "3      [19, 19]  absolutley love amazon price set cheap booster...        5   \n",
       "4        [0, 0]  purchas 12 feet long cabl set arriv retail car...        5   \n",
       "...         ...                                                ...      ...   \n",
       "20468    [1, 1]  ive bought 10 over past year give gift friend ...        5   \n",
       "20469    [0, 0]  ok admit price item expect unfairli high strai...        2   \n",
       "20470    [0, 0]  love skull face mask make outstand rest fellow...        5   \n",
       "20471    [0, 0]  mask cours describ halffac long protect neck g...        5   \n",
       "20472    [0, 0]  good light weight cool night rain half helmet ...        5   \n",
       "\n",
       "                                                 summary  unixReviewTime  \\\n",
       "0             Work Well - Should Have Bought Longer Ones      1313539200   \n",
       "1                                       Okay long cables      1315094400   \n",
       "2                             Looks and feels heavy Duty      1374710400   \n",
       "3                  Excellent choice for Jumper Cables!!!      1292889600   \n",
       "4                 Excellent, High Quality Starter Cables      1341360000   \n",
       "...                                                  ...             ...   \n",
       "20468                    Excellent quality for the price      1396915200   \n",
       "20469  Light weight neck and face cover with whimsica...      1391472000   \n",
       "20470            I love to ride with my Skull Face Mask.      1386547200   \n",
       "20471                              Great neck protection      1357171200   \n",
       "20472                                          FACE MASK      1395100800   \n",
       "\n",
       "        reviewTime  \n",
       "0      08 17, 2011  \n",
       "1       09 4, 2011  \n",
       "2      07 25, 2013  \n",
       "3      12 21, 2010  \n",
       "4       07 4, 2012  \n",
       "...            ...  \n",
       "20468   04 8, 2014  \n",
       "20469   02 4, 2014  \n",
       "20470   12 9, 2013  \n",
       "20471   01 3, 2013  \n",
       "20472  03 18, 2014  \n",
       "\n",
       "[20473 rows x 9 columns]"
      ]
     },
     "execution_count": 103,
     "metadata": {},
     "output_type": "execute_result"
    }
   ],
   "source": [
    "stops = pd.read_csv('stop-word-list.csv', header = None)\n",
    "\n",
    "import csv \n",
    "with open('stop-word-list.csv', newline='') as f:\n",
    "    reader = csv.reader(f)\n",
    "    for row in reader:\n",
    "        stopwords = row\n",
    "stopwords = list(map(str.strip, stopwords))\n",
    "\n",
    "dataj.reviewText = dataj.reviewText.str.replace(f'\\\\b({\"|\".join(stopwords)})\\\\b','')\n",
    "dataj"
   ]
  },
  {
   "cell_type": "markdown",
   "metadata": {},
   "source": [
    "#### d) Apply stemmer"
   ]
  },
  {
   "cell_type": "code",
   "execution_count": 105,
   "metadata": {},
   "outputs": [
    {
     "ename": "AttributeError",
     "evalue": "'str' object has no attribute 'str'",
     "output_type": "error",
     "traceback": [
      "\u001b[1;31m---------------------------------------------------------------------------\u001b[0m",
      "\u001b[1;31mAttributeError\u001b[0m                            Traceback (most recent call last)",
      "\u001b[1;32m<ipython-input-105-4af7e33501c8>\u001b[0m in \u001b[0;36m<module>\u001b[1;34m\u001b[0m\n\u001b[0;32m      3\u001b[0m \u001b[1;33m\u001b[0m\u001b[0m\n\u001b[0;32m      4\u001b[0m \u001b[0msplitdf\u001b[0m \u001b[1;33m=\u001b[0m \u001b[0mdataj\u001b[0m\u001b[1;33m[\u001b[0m\u001b[1;34m'reviewText'\u001b[0m\u001b[1;33m]\u001b[0m\u001b[1;33m.\u001b[0m\u001b[0mstr\u001b[0m\u001b[1;33m.\u001b[0m\u001b[0msplit\u001b[0m\u001b[1;33m(\u001b[0m\u001b[1;33m)\u001b[0m\u001b[1;33m\u001b[0m\u001b[1;33m\u001b[0m\u001b[0m\n\u001b[1;32m----> 5\u001b[1;33m \u001b[0mdataj\u001b[0m\u001b[1;33m[\u001b[0m\u001b[1;34m'reviewText'\u001b[0m\u001b[1;33m]\u001b[0m\u001b[1;33m[\u001b[0m\u001b[1;36m0\u001b[0m\u001b[1;33m]\u001b[0m\u001b[1;33m.\u001b[0m\u001b[0mstr\u001b[0m\u001b[1;33m.\u001b[0m\u001b[0msplit\u001b[0m\u001b[1;33m(\u001b[0m\u001b[1;33m)\u001b[0m\u001b[1;33m\u001b[0m\u001b[1;33m\u001b[0m\u001b[0m\n\u001b[0m",
      "\u001b[1;31mAttributeError\u001b[0m: 'str' object has no attribute 'str'"
     ]
    }
   ],
   "source": [
    "from nltk.stem.porter import *\n",
    "stemmer = PorterStemmer()\n",
    "\n",
    "splitdf = dataj['reviewText'].str.split()\n",
    "dataj['reviewText'][0].str.split()"
   ]
  },
  {
   "cell_type": "code",
   "execution_count": 106,
   "metadata": {},
   "outputs": [
    {
     "data": {
      "text/plain": [
       "0        [need, set, jumper, cabl, new, car, good, revi...\n",
       "1        [long, cabl, work, fine, truck, qualiti, seem,...\n",
       "2        [cant, comment, much, use, come, back, updat, ...\n",
       "3        [absolutley, love, amazon, price, set, cheap, ...\n",
       "4        [purcha, 12, feet, long, cabl, set, arriv, ret...\n",
       "                               ...                        \n",
       "20468    [ive, bought, 10, over, past, year, give, gift...\n",
       "20469    [ok, admit, price, item, expect, unfairli, hig...\n",
       "20470    [love, skull, face, mask, make, outstand, rest...\n",
       "20471    [mask, cour, describ, halffac, long, protect, ...\n",
       "20472    [good, light, weight, cool, night, rain, half,...\n",
       "Name: reviewText, Length: 20473, dtype: object"
      ]
     },
     "execution_count": 106,
     "metadata": {},
     "output_type": "execute_result"
    }
   ],
   "source": [
    "stemmed = splitdf.apply(lambda x: [stemmer.stem(y) for y in x])\n",
    "stemmed"
   ]
  },
  {
   "cell_type": "code",
   "execution_count": 107,
   "metadata": {},
   "outputs": [
    {
     "data": {
      "text/plain": [
       "0        need set jumper cabl new car good review good ...\n",
       "1        long cabl work fine truck qualiti seem littl s...\n",
       "2        cant comment much use come back updat review f...\n",
       "3        absolutley love amazon price set cheap booster...\n",
       "4        purcha 12 feet long cabl set arriv retail card...\n",
       "                               ...                        \n",
       "20468    ive bought 10 over past year give gift friend ...\n",
       "20469    ok admit price item expect unfairli high strai...\n",
       "20470    love skull face mask make outstand rest fellow...\n",
       "20471    mask cour describ halffac long protect neck gr...\n",
       "20472    good light weight cool night rain half helmet ...\n",
       "Name: reviewText, Length: 20473, dtype: object"
      ]
     },
     "execution_count": 107,
     "metadata": {},
     "output_type": "execute_result"
    }
   ],
   "source": [
    "listToStr = stemmed.apply(lambda x: ' '.join([str(i) for i in x]))\n",
    "listToStr"
   ]
  },
  {
   "cell_type": "code",
   "execution_count": 108,
   "metadata": {},
   "outputs": [],
   "source": [
    "dataj['reviewText'] = listToStr"
   ]
  },
  {
   "cell_type": "code",
   "execution_count": 88,
   "metadata": {},
   "outputs": [],
   "source": [
    "goods = dataj.loc[(dataj['overall'] == 4) | (dataj['overall']==5)]\n",
    "goodRev = goods['reviewText']\n",
    "\n",
    "bads = dataj.loc[(dataj['overall'] == 2) | (dataj['overall']==1)]\n",
    "badRev = bads['reviewText']\n"
   ]
  },
  {
   "cell_type": "code",
   "execution_count": 95,
   "metadata": {},
   "outputs": [],
   "source": [
    "goodRev.to_csv('pos.txt', header= False, mode='w', index = None)\n",
    "badRev.to_csv('neg.txt', header= False, mode='w', index = None)\n"
   ]
  },
  {
   "cell_type": "code",
   "execution_count": null,
   "metadata": {},
   "outputs": [],
   "source": []
  },
  {
   "cell_type": "code",
   "execution_count": null,
   "metadata": {},
   "outputs": [],
   "source": []
  },
  {
   "cell_type": "code",
   "execution_count": null,
   "metadata": {},
   "outputs": [],
   "source": []
  }
 ],
 "metadata": {
  "kernelspec": {
   "display_name": "Python 3",
   "language": "python",
   "name": "python3"
  },
  "language_info": {
   "codemirror_mode": {
    "name": "ipython",
    "version": 3
   },
   "file_extension": ".py",
   "mimetype": "text/x-python",
   "name": "python",
   "nbconvert_exporter": "python",
   "pygments_lexer": "ipython3",
   "version": "3.7.4"
  }
 },
 "nbformat": 4,
 "nbformat_minor": 2
}
