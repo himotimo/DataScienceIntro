{
 "cells": [
  {
   "cell_type": "markdown",
   "metadata": {},
   "source": [
    "# Exercise 2 - Neural Networks"
   ]
  },
  {
   "cell_type": "markdown",
   "metadata": {},
   "source": [
    "In this exercise, you can play around parameterizing different dense neural networks in PyTorch, using two distinct datasets.\n",
    "\n",
    "You can experiment with the structure of the networks e.g. number of hidden layers, number of hidden nodes per layer, activation function of each layer, batch normalization, dropout, etc. \n",
    "\n",
    "You can also parameterize the learning process, using different optimizers, learning rates, number of epochs, different loss functions, etc.\n",
    "\n",
    "For each dataset, try learning different models, to get as good accuracy as possible in each classification task."
   ]
  },
  {
   "cell_type": "markdown",
   "metadata": {},
   "source": [
    "### 1. HASYv2 data set"
   ]
  },
  {
   "cell_type": "markdown",
   "metadata": {},
   "source": [
    "Week 3 - exercise 2.1 has info on which file to extract, and we include the preprocessing below."
   ]
  },
  {
   "cell_type": "markdown",
   "metadata": {},
   "source": [
    "### Sign language digits data set\n",
    "You can download X.npy and Y.npy from https://www.kaggle.com/ardamavi/sign-language-digits-dataset.\n",
    "Hint: you can use `np.load('../X.npy')` for extracting the data to a numpy array."
   ]
  },
  {
   "cell_type": "code",
   "execution_count": 20,
   "metadata": {},
   "outputs": [],
   "source": [
    "%matplotlib inline\n",
    "import torch\n",
    "import numpy as np\n",
    "import sklearn\n",
    "import matplotlib.pyplot as plt\n",
    "import pandas as pd\n",
    "import scipy\n",
    "from sklearn.model_selection import train_test_split\n",
    "import csv"
   ]
  },
  {
   "cell_type": "markdown",
   "metadata": {},
   "source": [
    "## 2. Load and preprocess data\n",
    "### Run either of the following two cells depending on which data set you are working on each time"
   ]
  },
  {
   "cell_type": "markdown",
   "metadata": {},
   "source": [
    "### - HASYv2\n",
    "Use a train-test split ratio of 80% of the data used in training."
   ]
  },
  {
   "cell_type": "code",
   "execution_count": 29,
   "metadata": {},
   "outputs": [],
   "source": [
    "df = pd.read_csv('hasy-data-labels.csv')\n",
    "df = df[df.symbol_id >= 70]\n",
    "df = df[df.symbol_id <= 80]\n",
    "data_vect = []\n",
    "targets = []\n",
    "\n",
    "for index, row in df.iterrows():\n",
    "    img = plt.imread(\"C:/Users/tipe_/Documents/Koulu/DataScienceIntro/notebookit/week3/\" + row['path'])\n",
    "    img = img.flatten()\n",
    "    data_vect.append(img)\n",
    "    targets.append(row['latex'])\n",
    "\n",
    "X_tr, X_te, y_tr, y_te = train_test_split(data_vect, targets, train_size=0.8, test_size=0.2)\n",
    "y_tr = list(map(int, y_tr))\n",
    "y_te = list(map(int, y_te))\n",
    "y_test_var = np.var(y_te)"
   ]
  },
  {
   "cell_type": "code",
   "execution_count": null,
   "metadata": {},
   "outputs": [],
   "source": []
  },
  {
   "cell_type": "markdown",
   "metadata": {},
   "source": [
    "### - Sign language digits\n",
    "Use a train-test split ratio of 80% of the data used in training."
   ]
  },
  {
   "cell_type": "code",
   "execution_count": 3,
   "metadata": {},
   "outputs": [],
   "source": [
    "X = np.load('X.npy')\n",
    "y = np.load('Y.npy').argmax(axis=1)\n",
    "X_tr, X_te, y_tr, y_te = train_test_split(X, y, train_size=0.8, test_size=0.2)\n",
    "y_test_var = np.var(y_te)\n",
    "\n",
    "X_tr = X_tr.reshape(X_tr.shape[0],X_tr.shape[1]*X_tr.shape[2])\n",
    "X_te = X_te.reshape(X_te.shape[0],X_te.shape[1]*X_te.shape[2])"
   ]
  },
  {
   "cell_type": "markdown",
   "metadata": {},
   "source": [
    "### Create pytorch tensors from the numpy arrays"
   ]
  },
  {
   "cell_type": "code",
   "execution_count": 30,
   "metadata": {},
   "outputs": [],
   "source": [
    "X_train = torch.from_numpy(np.array(X_tr, dtype='float32'))\n",
    "y_train = torch.from_numpy(np.array(y_tr, dtype='int64'))\n",
    "X_test = torch.from_numpy(np.array(X_te, dtype='float32'))\n",
    "y_test = torch.from_numpy(np.array(y_te, dtype='int64'))"
   ]
  },
  {
   "cell_type": "markdown",
   "metadata": {},
   "source": [
    "### 3. Neural network parameterization\n",
    "Here you can try different parameterizations of the following attributes:"
   ]
  },
  {
   "cell_type": "code",
   "execution_count": 31,
   "metadata": {},
   "outputs": [],
   "source": [
    "#nn1\n",
    "epochs1 = 200\n",
    "hidden_nodes1 = 6\n",
    "learning_rate1 = 0.05\n",
    "\n",
    "#nn2\n",
    "epochs2 = 100\n",
    "hidden_nodes2 = 16\n",
    "learning_rate2 = 0.05"
   ]
  },
  {
   "cell_type": "markdown",
   "metadata": {},
   "source": [
    "### Defining the neural networks\n",
    "Try as many different architectures as you wish. \n",
    "Change the activation function, batch normalization, add dropout to avoid overfitting, and have more than one layers as shown in nn2.\n",
    "\n",
    "Read the PyTorch cheat sheet and tutorials for info on defining the architecture of the NNs, using activation functions, loss functions and learning rate scheduling https://pytorch.org/tutorials/beginner/ptcheat.html#deep-learning."
   ]
  },
  {
   "cell_type": "code",
   "execution_count": 32,
   "metadata": {},
   "outputs": [
    {
     "name": "stdout",
     "output_type": "stream",
     "text": [
      "Sequential(\n",
      "  (0): Linear(in_features=3072, out_features=6, bias=False)\n",
      "  (1): BatchNorm1d(6, eps=1e-05, momentum=0.1, affine=True, track_running_stats=True)\n",
      "  (2): Linear(in_features=6, out_features=10, bias=True)\n",
      "  (3): LogSoftmax(dim=1)\n",
      ")\n",
      "Sequential(\n",
      "  (0): Linear(in_features=3072, out_features=16, bias=True)\n",
      "  (1): BatchNorm1d(16, eps=1e-05, momentum=0.1, affine=True, track_running_stats=True)\n",
      "  (2): ELU(alpha=16)\n",
      "  (3): Linear(in_features=16, out_features=10, bias=True)\n",
      "  (4): LogSoftmax(dim=1)\n",
      ")\n"
     ]
    }
   ],
   "source": [
    "nn1 = torch.nn.Sequential(\n",
    "    #torch.nn.Linear(X_tr[0].shape[0], hidden_nodes1, bias=False), \n",
    "    #torch.nn.BatchNorm1d(hidden_nodes1),\n",
    "    #torch.nn.ReLU(),\n",
    "    #torch.nn.Linear(hidden_nodes1, 10),\n",
    "    #torch.nn.Softmax(dim=1)\n",
    "    \n",
    "    torch.nn.Linear(X_tr[0].shape[0], hidden_nodes1, bias=False), \n",
    "    torch.nn.BatchNorm1d(hidden_nodes1),\n",
    "    #torch.nn.ELU(16),\n",
    "    #torch.nn.ReLU(10),\n",
    "    #torch.nn.Linear(hidden_nodes2, hidden_nodes2),\n",
    "    #torch.nn.ReLU(),\n",
    "    torch.nn.Linear(hidden_nodes1, 10), \n",
    "    torch.nn.LogSoftmax(dim=1)\n",
    "    \n",
    ")\n",
    "\n",
    "nn2 = torch.nn.Sequential(\n",
    "    torch.nn.Linear(X_tr[0].shape[0], hidden_nodes2, bias=True), \n",
    "    torch.nn.BatchNorm1d(hidden_nodes2),\n",
    "    torch.nn.ELU(16),\n",
    "    #torch.nn.ReLU(),\n",
    "    #torch.nn.Linear(hidden_nodes2, hidden_nodes2),\n",
    "    #torch.nn.ReLU(),\n",
    "    torch.nn.Linear(hidden_nodes2, 10), \n",
    "    torch.nn.LogSoftmax(dim=1)\n",
    "\n",
    ")\n",
    "\n",
    "print(nn1)\n",
    "print(nn2)"
   ]
  },
  {
   "cell_type": "markdown",
   "metadata": {},
   "source": [
    "### 4. Training the networks\n",
    "On the documentation given above, you can also find different optimizers and losses."
   ]
  },
  {
   "cell_type": "code",
   "execution_count": 33,
   "metadata": {},
   "outputs": [],
   "source": [
    "criterion = torch.nn.CrossEntropyLoss()\n",
    "optimizer1 = torch.optim.Rprop(nn1.parameters())\n",
    "optimizer2 = torch.optim.SGD(nn2.parameters(), lr=learning_rate2)\n",
    "\n",
    "loss_values1 = []\n",
    "loss_values2 = []\n",
    "\n",
    "for t in range(epochs1):\n",
    "    optimizer1.zero_grad()\n",
    "    output1 = nn1.forward(X_train)\n",
    "    loss1 = criterion(output1, y_train)\n",
    "    loss1.backward()\n",
    "    optimizer1.step()\n",
    "\n",
    "    loss_values1.append(loss1.item() / len(X_train))\n",
    "    \n",
    "for t in range(epochs2):\n",
    "    optimizer2.zero_grad()\n",
    "    output2 = nn2.forward(X_train)\n",
    "    loss2 = criterion(output2, y_train)\n",
    "    loss2.backward()\n",
    "    optimizer2.step()\n",
    "\n",
    "    loss_values2.append(loss2.item() / len(X_train))\n",
    "\n",
    "#print(loss1.item())\n",
    "#print(loss2.item())"
   ]
  },
  {
   "cell_type": "markdown",
   "metadata": {},
   "source": [
    "### 5. Evaluation\n",
    "Estimate the goodness of fit for each model you try out, and try to come up with the two best models you can for the two datasets."
   ]
  },
  {
   "cell_type": "code",
   "execution_count": 34,
   "metadata": {},
   "outputs": [
    {
     "data": {
      "image/png": "[encoded data removed]",
      "text/plain": [
       "<Figure size 288x288 with 1 Axes>"
      ]
     },
     "metadata": {
      "needs_background": "light"
     },
     "output_type": "display_data"
    },
    {
     "data": {
      "image/png": "[encoded data removed]",
      "text/plain": [
       "<Figure size 288x288 with 1 Axes>"
      ]
     },
     "metadata": {
      "needs_background": "light"
     },
     "output_type": "display_data"
    }
   ],
   "source": [
    "# predicted classes for the training set - NN1\n",
    "y_pred_tr_nn1 = nn1.forward(X_train).data.numpy().argmax(axis=1)\n",
    "\n",
    "# error for training set - NN1\n",
    "train_error_nn1 = sklearn.metrics.zero_one_loss(y_train, y_pred_tr_nn1)\n",
    "\n",
    "# predicted classes for the test set - NN1\n",
    "y_pred_nn1 = nn1.forward(X_test).data.numpy().argmax(axis=1)\n",
    "\n",
    "# error for test set - NN1\n",
    "test_error_nn1 = sklearn.metrics.zero_one_loss(y_test, y_pred_nn1)\n",
    "\n",
    "# plot confusion matrix\n",
    "plt.matshow(sklearn.metrics.confusion_matrix(y_test, y_pred_nn1))\n",
    "plt.title(\"NN1: training error = %.2f, test error = %.2f\" % (train_error_nn1, test_error_nn1))\n",
    "plt.show()\n",
    "\n",
    "#--------------------------------------------------------------------------------------------------------------------\n",
    "\n",
    "# predicted classes for the training set - NN2\n",
    "y_pred_tr_nn2 = nn2.forward(X_train).data.numpy().argmax(axis=1)\n",
    "\n",
    "# error for training set - NN2\n",
    "train_error_nn2 = sklearn.metrics.zero_one_loss(y_train, y_pred_tr_nn2)\n",
    "\n",
    "# predicted classes for the test set - NN1\n",
    "y_pred_nn2 = nn2.forward(X_test).data.numpy().argmax(axis=1)\n",
    "\n",
    "# error for test set - NN2\n",
    "test_error_nn2 = sklearn.metrics.zero_one_loss(y_test, y_pred_nn2)\n",
    "\n",
    "# plot confusion matrix\n",
    "plt.matshow(sklearn.metrics.confusion_matrix(y_test, y_pred_nn2))\n",
    "plt.title(\"NN2: training error = %.2f, test error = %.2f\" % (train_error_nn2, test_error_nn2))\n",
    "plt.show()"
   ]
  },
  {
   "cell_type": "markdown",
   "metadata": {},
   "source": [
    "### Loss functions over epochs"
   ]
  },
  {
   "cell_type": "code",
   "execution_count": 35,
   "metadata": {},
   "outputs": [
    {
     "data": {
      "image/png": "[encoded data removed]",
      "text/plain": [
       "<Figure size 432x288 with 1 Axes>"
      ]
     },
     "metadata": {
      "needs_background": "light"
     },
     "output_type": "display_data"
    }
   ],
   "source": [
    "plt.title(\"NN1 and NN2 - Losses over number of epochs\")        \n",
    "plt.plot(loss_values1[0:], label='NN1')\n",
    "plt.plot(loss_values2[0:], label='NN2')\n",
    "plt.xlabel('number of epochs')\n",
    "plt.ylabel('loss')\n",
    "plt.legend(loc='upper right')\n",
    "plt.show()"
   ]
  },
  {
   "cell_type": "markdown",
   "metadata": {},
   "source": [
    "## 6. Random Forest Classifier\n",
    "Below we implement a Random Forest Classifier (RFC). Try different parameterizations here as well. Compare your best achieved scores with the different models. Which performs best? NNs or RFC? \n",
    "\n",
    "The dense NNs we use in this exercise are a bit simple, more complex NNs, such as a Convolutional Neural Network would generally do better than RFC."
   ]
  },
  {
   "cell_type": "code",
   "execution_count": 19,
   "metadata": {},
   "outputs": [
    {
     "data": {
      "image/png": "[encoded data removed]",
      "text/plain": [
       "<Figure size 288x288 with 1 Axes>"
      ]
     },
     "metadata": {
      "needs_background": "light"
     },
     "output_type": "display_data"
    }
   ],
   "source": [
    "from sklearn.ensemble import RandomForestClassifier\n",
    "\n",
    "rf = RandomForestClassifier(max_depth=10, random_state=0, n_estimators=320)\n",
    "rf.fit(X_train, y_train)\n",
    "y_predtrain_rf = rf.predict(X_train)\n",
    "train_error_rf = sklearn.metrics.zero_one_loss(y_train, y_predtrain_rf)\n",
    "y_pred_rf = rf.predict(X_test)\n",
    "test_error_rf = sklearn.metrics.zero_one_loss(y_test, y_pred_rf)\n",
    "\n",
    "# plot confusion matrix\n",
    "plt.matshow(sklearn.metrics.confusion_matrix(y_test, y_pred_rf))\n",
    "plt.title(\"RFC: training error = %.2f, test error = %.2f\" % (train_error_rf, test_error_rf))\n",
    "plt.show()"
   ]
  },
  {
   "cell_type": "code",
   "execution_count": 28,
   "metadata": {},
   "outputs": [
    {
     "data": {
      "image/png": "[encoded data removed]",
      "text/plain": [
       "<Figure size 288x288 with 1 Axes>"
      ]
     },
     "metadata": {
      "needs_background": "light"
     },
     "output_type": "display_data"
    }
   ],
   "source": [
    "# Sign language dataset random forest classifier\n",
    "from sklearn.ensemble import RandomForestClassifier\n",
    "\n",
    "rf = RandomForestClassifier(max_depth=16, random_state=0, n_estimators=200)\n",
    "rf.fit(X_train, y_train)\n",
    "y_predtrain_rf = rf.predict(X_train)\n",
    "train_error_rf = sklearn.metrics.zero_one_loss(y_train, y_predtrain_rf)\n",
    "y_pred_rf = rf.predict(X_test)\n",
    "test_error_rf = sklearn.metrics.zero_one_loss(y_test, y_pred_rf)\n",
    "\n",
    "# plot confusion matrix\n",
    "plt.matshow(sklearn.metrics.confusion_matrix(y_test, y_pred_rf))\n",
    "plt.title(\"RFC: training error = %.2f, test error = %.2f\" % (train_error_rf, test_error_rf))\n",
    "plt.show()"
   ]
  },
  {
   "cell_type": "markdown",
   "metadata": {},
   "source": [
    "Neural network (NN2) had training error 0.00 and test error 0.13, so neural network worked the best. However, I am not really familiar with neural networks and the activation functions so I might have made it over fit. I think my input for this exercise is a bit lacking, but I did spend time reading about the different activation functions and managed to learn more about the subject. I tried my best and I'm looking forward to the weekly exercise meeting.\n"
   ]
  },
  {
   "cell_type": "code",
   "execution_count": null,
   "metadata": {},
   "outputs": [],
   "source": []
  }
 ],
 "metadata": {
  "kernelspec": {
   "display_name": "Python 3",
   "language": "python",
   "name": "python3"
  },
  "language_info": {
   "codemirror_mode": {
    "name": "ipython",
    "version": 3
   },
   "file_extension": ".py",
   "mimetype": "text/x-python",
   "name": "python",
   "nbconvert_exporter": "python",
   "pygments_lexer": "ipython3",
   "version": "3.7.4"
  }
 },
 "nbformat": 4,
 "nbformat_minor": 2
}
